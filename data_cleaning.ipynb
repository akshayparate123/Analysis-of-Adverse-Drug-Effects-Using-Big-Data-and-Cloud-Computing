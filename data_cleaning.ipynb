{
 "cells": [
  {
   "cell_type": "code",
   "execution_count": 28,
   "id": "0baf9c78-0175-4ef9-a584-238e900fa30b",
   "metadata": {},
   "outputs": [],
   "source": [
    "import pandas as pd\n",
    "import numpy as np\n",
    "import seaborn as sns\n",
    "from pyspark.sql import SparkSession\n",
    "from pyspark.sql.functions import udf, explode, col, arrays_zip\n",
    "from pyspark.sql.types import StructType, StructField, StringType, IntegerType, ArrayType\n",
    "import pyspark.sql.functions as F\n",
    "import os\n",
    "import sys\n",
    "os.environ['PYSPARK_PYTHON'] = sys.executable\n",
    "os.environ['PYSPARK_DRIVER_PYTHON'] = sys.executable"
   ]
  },
  {
   "cell_type": "code",
   "execution_count": 2,
   "id": "8f9ef91d-d6a0-47d7-b193-7df7a1d3f648",
   "metadata": {},
   "outputs": [],
   "source": [
    "spark = SparkSession.builder \\\n",
    "    .master(\"local\") \\\n",
    "    .config(\"spark.driver.memory\", \"2g\") \\\n",
    "    .config(\"spark.executor.memory\", \"2g\") \\\n",
    "    .appName(\"data_cleaning\") \\\n",
    "    .getOrCreate()"
   ]
  },
  {
   "cell_type": "code",
   "execution_count": 23,
   "id": "8800514d-40ad-42b3-a775-9b24523f5dc3",
   "metadata": {},
   "outputs": [],
   "source": [
    "json_data = spark.read.option(\"multiline\",\"true\").json(\"./Data/JSON/drug-event-0001-of-0005.json\")"
   ]
  },
  {
   "cell_type": "code",
   "execution_count": 24,
   "id": "48bbac0f-4207-4e7f-8567-0666944e5617",
   "metadata": {
    "scrolled": true
   },
   "outputs": [
    {
     "name": "stdout",
     "output_type": "stream",
     "text": [
      "root\n",
      " |-- meta: struct (nullable = true)\n",
      " |    |-- disclaimer: string (nullable = true)\n",
      " |    |-- last_updated: string (nullable = true)\n",
      " |    |-- license: string (nullable = true)\n",
      " |    |-- results: struct (nullable = true)\n",
      " |    |    |-- limit: long (nullable = true)\n",
      " |    |    |-- skip: long (nullable = true)\n",
      " |    |    |-- total: long (nullable = true)\n",
      " |    |-- terms: string (nullable = true)\n",
      " |-- results: array (nullable = true)\n",
      " |    |-- element: struct (containsNull = true)\n",
      " |    |    |-- companynumb: string (nullable = true)\n",
      " |    |    |-- duplicate: string (nullable = true)\n",
      " |    |    |-- fulfillexpeditecriteria: string (nullable = true)\n",
      " |    |    |-- occurcountry: string (nullable = true)\n",
      " |    |    |-- patient: struct (nullable = true)\n",
      " |    |    |    |-- drug: array (nullable = true)\n",
      " |    |    |    |    |-- element: struct (containsNull = true)\n",
      " |    |    |    |    |    |-- actiondrug: string (nullable = true)\n",
      " |    |    |    |    |    |-- activesubstance: struct (nullable = true)\n",
      " |    |    |    |    |    |    |-- activesubstancename: string (nullable = true)\n",
      " |    |    |    |    |    |-- drugadditional: string (nullable = true)\n",
      " |    |    |    |    |    |-- drugadministrationroute: string (nullable = true)\n",
      " |    |    |    |    |    |-- drugauthorizationnumb: string (nullable = true)\n",
      " |    |    |    |    |    |-- drugbatchnumb: string (nullable = true)\n",
      " |    |    |    |    |    |-- drugcharacterization: string (nullable = true)\n",
      " |    |    |    |    |    |-- drugdosageform: string (nullable = true)\n",
      " |    |    |    |    |    |-- drugdosagetext: string (nullable = true)\n",
      " |    |    |    |    |    |-- drugenddate: string (nullable = true)\n",
      " |    |    |    |    |    |-- drugenddateformat: string (nullable = true)\n",
      " |    |    |    |    |    |-- drugindication: string (nullable = true)\n",
      " |    |    |    |    |    |-- drugrecurreadministration: string (nullable = true)\n",
      " |    |    |    |    |    |-- drugstartdate: string (nullable = true)\n",
      " |    |    |    |    |    |-- drugstartdateformat: string (nullable = true)\n",
      " |    |    |    |    |    |-- drugstructuredosagenumb: string (nullable = true)\n",
      " |    |    |    |    |    |-- drugstructuredosageunit: string (nullable = true)\n",
      " |    |    |    |    |    |-- drugtreatmentduration: string (nullable = true)\n",
      " |    |    |    |    |    |-- drugtreatmentdurationunit: string (nullable = true)\n",
      " |    |    |    |    |    |-- medicinalproduct: string (nullable = true)\n",
      " |    |    |    |    |    |-- openfda: struct (nullable = true)\n",
      " |    |    |    |    |    |    |-- application_number: array (nullable = true)\n",
      " |    |    |    |    |    |    |    |-- element: string (containsNull = true)\n",
      " |    |    |    |    |    |    |-- brand_name: array (nullable = true)\n",
      " |    |    |    |    |    |    |    |-- element: string (containsNull = true)\n",
      " |    |    |    |    |    |    |-- generic_name: array (nullable = true)\n",
      " |    |    |    |    |    |    |    |-- element: string (containsNull = true)\n",
      " |    |    |    |    |    |    |-- manufacturer_name: array (nullable = true)\n",
      " |    |    |    |    |    |    |    |-- element: string (containsNull = true)\n",
      " |    |    |    |    |    |    |-- nui: array (nullable = true)\n",
      " |    |    |    |    |    |    |    |-- element: string (containsNull = true)\n",
      " |    |    |    |    |    |    |-- package_ndc: array (nullable = true)\n",
      " |    |    |    |    |    |    |    |-- element: string (containsNull = true)\n",
      " |    |    |    |    |    |    |-- pharm_class_cs: array (nullable = true)\n",
      " |    |    |    |    |    |    |    |-- element: string (containsNull = true)\n",
      " |    |    |    |    |    |    |-- pharm_class_epc: array (nullable = true)\n",
      " |    |    |    |    |    |    |    |-- element: string (containsNull = true)\n",
      " |    |    |    |    |    |    |-- pharm_class_moa: array (nullable = true)\n",
      " |    |    |    |    |    |    |    |-- element: string (containsNull = true)\n",
      " |    |    |    |    |    |    |-- pharm_class_pe: array (nullable = true)\n",
      " |    |    |    |    |    |    |    |-- element: string (containsNull = true)\n",
      " |    |    |    |    |    |    |-- product_ndc: array (nullable = true)\n",
      " |    |    |    |    |    |    |    |-- element: string (containsNull = true)\n",
      " |    |    |    |    |    |    |-- product_type: array (nullable = true)\n",
      " |    |    |    |    |    |    |    |-- element: string (containsNull = true)\n",
      " |    |    |    |    |    |    |-- route: array (nullable = true)\n",
      " |    |    |    |    |    |    |    |-- element: string (containsNull = true)\n",
      " |    |    |    |    |    |    |-- rxcui: array (nullable = true)\n",
      " |    |    |    |    |    |    |    |-- element: string (containsNull = true)\n",
      " |    |    |    |    |    |    |-- spl_id: array (nullable = true)\n",
      " |    |    |    |    |    |    |    |-- element: string (containsNull = true)\n",
      " |    |    |    |    |    |    |-- spl_set_id: array (nullable = true)\n",
      " |    |    |    |    |    |    |    |-- element: string (containsNull = true)\n",
      " |    |    |    |    |    |    |-- substance_name: array (nullable = true)\n",
      " |    |    |    |    |    |    |    |-- element: string (containsNull = true)\n",
      " |    |    |    |    |    |    |-- unii: array (nullable = true)\n",
      " |    |    |    |    |    |    |    |-- element: string (containsNull = true)\n",
      " |    |    |    |-- patientagegroup: string (nullable = true)\n",
      " |    |    |    |-- patientdeath: struct (nullable = true)\n",
      " |    |    |    |    |-- patientdeathdate: string (nullable = true)\n",
      " |    |    |    |    |-- patientdeathdateformat: string (nullable = true)\n",
      " |    |    |    |-- patientonsetage: string (nullable = true)\n",
      " |    |    |    |-- patientonsetageunit: string (nullable = true)\n",
      " |    |    |    |-- patientsex: string (nullable = true)\n",
      " |    |    |    |-- patientweight: string (nullable = true)\n",
      " |    |    |    |-- reaction: array (nullable = true)\n",
      " |    |    |    |    |-- element: struct (containsNull = true)\n",
      " |    |    |    |    |    |-- reactionmeddrapt: string (nullable = true)\n",
      " |    |    |    |    |    |-- reactionmeddraversionpt: string (nullable = true)\n",
      " |    |    |    |    |    |-- reactionoutcome: string (nullable = true)\n",
      " |    |    |    |-- summary: struct (nullable = true)\n",
      " |    |    |    |    |-- narrativeincludeclinical: string (nullable = true)\n",
      " |    |    |-- primarysource: struct (nullable = true)\n",
      " |    |    |    |-- qualification: string (nullable = true)\n",
      " |    |    |    |-- reportercountry: string (nullable = true)\n",
      " |    |    |-- primarysourcecountry: string (nullable = true)\n",
      " |    |    |-- receiptdate: string (nullable = true)\n",
      " |    |    |-- receiptdateformat: string (nullable = true)\n",
      " |    |    |-- receivedate: string (nullable = true)\n",
      " |    |    |-- receivedateformat: string (nullable = true)\n",
      " |    |    |-- receiver: struct (nullable = true)\n",
      " |    |    |    |-- receiverorganization: string (nullable = true)\n",
      " |    |    |    |-- receivertype: string (nullable = true)\n",
      " |    |    |-- reportduplicate: struct (nullable = true)\n",
      " |    |    |    |-- duplicatenumb: string (nullable = true)\n",
      " |    |    |    |-- duplicatesource: string (nullable = true)\n",
      " |    |    |-- reporttype: string (nullable = true)\n",
      " |    |    |-- safetyreportid: string (nullable = true)\n",
      " |    |    |-- safetyreportversion: string (nullable = true)\n",
      " |    |    |-- sender: struct (nullable = true)\n",
      " |    |    |    |-- senderorganization: string (nullable = true)\n",
      " |    |    |    |-- sendertype: string (nullable = true)\n",
      " |    |    |-- serious: string (nullable = true)\n",
      " |    |    |-- seriousnesscongenitalanomali: string (nullable = true)\n",
      " |    |    |-- seriousnessdeath: string (nullable = true)\n",
      " |    |    |-- seriousnessdisabling: string (nullable = true)\n",
      " |    |    |-- seriousnesshospitalization: string (nullable = true)\n",
      " |    |    |-- seriousnesslifethreatening: string (nullable = true)\n",
      " |    |    |-- seriousnessother: string (nullable = true)\n",
      " |    |    |-- transmissiondate: string (nullable = true)\n",
      " |    |    |-- transmissiondateformat: string (nullable = true)\n",
      "\n"
     ]
    }
   ],
   "source": [
    "json_data.printSchema()"
   ]
  },
  {
   "cell_type": "code",
   "execution_count": 25,
   "id": "049be9a2-e5cc-47a5-a2ea-173ea1dc29ad",
   "metadata": {},
   "outputs": [
    {
     "name": "stdout",
     "output_type": "stream",
     "text": [
      "+--------------------+--------------------+\n",
      "|                meta|             results|\n",
      "+--------------------+--------------------+\n",
      "|{Do not rely on o...|[{US-PFIZER INC-2...|\n",
      "+--------------------+--------------------+\n",
      "\n"
     ]
    }
   ],
   "source": [
    "json_data.show()"
   ]
  },
  {
   "cell_type": "code",
   "execution_count": null,
   "id": "032a7991-c321-4c22-8011-1c96e033f66e",
   "metadata": {},
   "outputs": [],
   "source": []
  },
  {
   "cell_type": "code",
   "execution_count": 46,
   "id": "03b7f963-d4ec-4a13-9495-659f7e9db84a",
   "metadata": {},
   "outputs": [
    {
     "data": {
      "text/plain": [
       "[Row(exploded_array=Row(companynumb='US-PFIZER INC-2007080022', duplicate=None, fulfillexpeditecriteria='2', occurcountry=None, patient=Row(drug=[Row(actiondrug=None, activesubstance=None, drugadditional=None, drugadministrationroute=None, drugauthorizationnumb='020998', drugbatchnumb=None, drugcharacterization='1', drugdosageform=None, drugdosagetext=None, drugenddate=None, drugenddateformat=None, drugindication='ARTHRITIS', drugrecurreadministration=None, drugstartdate='20020101', drugstartdateformat='102', drugstructuredosagenumb=None, drugstructuredosageunit=None, drugtreatmentduration='30', drugtreatmentdurationunit='804', medicinalproduct='CELEBREX', openfda=Row(application_number=['NDA020998'], brand_name=['CELEBREX'], generic_name=['CELECOXIB'], manufacturer_name=['PFIZER LABORATORIES DIV PFIZER INC', 'Viatris Specialty LLC'], nui=['N0000000160', 'M0001335', 'N0000175722'], package_ndc=['0025-1515-01', '0025-1520-31', '0025-1520-51', '0025-1520-34', '0025-1525-31', '0025-1525-51', '0025-1525-34', '0025-1525-99', '0025-1525-96', '0025-1530-02', '0025-1530-01', '58151-082-91', '58151-083-01', '58151-083-05', '58151-083-32', '58151-083-88', '58151-084-01', '58151-084-05', '58151-084-32', '58151-084-88', '58151-085-91', '58151-085-32', '58151-085-88'], pharm_class_cs=['Anti-Inflammatory Agents, Non-Steroidal [CS]'], pharm_class_epc=['Nonsteroidal Anti-inflammatory Drug [EPC]'], pharm_class_moa=['Cyclooxygenase Inhibitors [MoA]'], pharm_class_pe=None, product_ndc=['0025-1520', '0025-1515', '0025-1525', '0025-1530', '58151-082', '58151-083', '58151-084', '58151-085'], product_type=['HUMAN PRESCRIPTION DRUG'], route=['ORAL'], rxcui=['205322', '205323', '213468', '213469', '349514', '352314', '686379', '686381'], spl_id=['1bdb9c5a-3368-4ffd-a42d-3e28a477f2f1', '2819ce05-07a2-4f48-8e6d-658747aaf9aa'], spl_set_id=['8d52185d-421f-4e34-8db7-f7676db2a226', '2d6675e4-5859-4be2-8037-a20ce9f707aa'], substance_name=['CELECOXIB'], unii=['JCX84Q7J1L']))], patientagegroup=None, patientdeath=None, patientonsetage=None, patientonsetageunit=None, patientsex='2', patientweight=None, reaction=[Row(reactionmeddrapt='DRUG INEFFECTIVE', reactionmeddraversionpt=None, reactionoutcome=None)], summary=None), primarysource=Row(qualification='5', reportercountry='UNITED STATES'), primarysourcecountry=None, receiptdate='20040831', receiptdateformat='102', receivedate='20100729', receivedateformat='102', receiver=None, reportduplicate=None, reporttype=None, safetyreportid='6884723-0', safetyreportversion=None, sender=Row(senderorganization='FDA-Public Use', sendertype=None), serious='2', seriousnesscongenitalanomali=None, seriousnessdeath=None, seriousnessdisabling=None, seriousnesshospitalization=None, seriousnesslifethreatening=None, seriousnessother=None, transmissiondate='20110219', transmissiondateformat='102'))]"
      ]
     },
     "execution_count": 46,
     "metadata": {},
     "output_type": "execute_result"
    }
   ],
   "source": [
    "json_data.select(explode(F.col(\"results\")).alias(\"exploded_array\")).take(1)"
   ]
  },
  {
   "cell_type": "code",
   "execution_count": 61,
   "id": "2bf5e740-75cc-4012-88f3-1307f55628fe",
   "metadata": {},
   "outputs": [],
   "source": [
    "exploded_results = json_data.select(explode(F.col(\"results\")).alias(\"exploded_results\"))"
   ]
  },
  {
   "cell_type": "code",
   "execution_count": 62,
   "id": "f3155b27-c80b-4f64-9649-5e675d7ad116",
   "metadata": {},
   "outputs": [
    {
     "name": "stdout",
     "output_type": "stream",
     "text": [
      "+--------------------+\n",
      "|    exploded_results|\n",
      "+--------------------+\n",
      "|{US-PFIZER INC-20...|\n",
      "|{US-ABBOTT-04P-16...|\n",
      "|{USA040977859, NU...|\n",
      "|{2004235828US, NU...|\n",
      "|{2004-BP-07617BP(...|\n",
      "+--------------------+\n",
      "only showing top 5 rows\n",
      "\n"
     ]
    }
   ],
   "source": [
    "exploded_results.show(5)"
   ]
  },
  {
   "cell_type": "code",
   "execution_count": 84,
   "id": "4b432b71-b2ce-450c-9de5-212cb3853ff0",
   "metadata": {},
   "outputs": [
    {
     "data": {
      "text/plain": [
       "[Row(exploded_results=Row(companynumb='US-PFIZER INC-2007080022', duplicate=None, fulfillexpeditecriteria='2', occurcountry=None, patient=Row(drug=[Row(actiondrug=None, activesubstance=None, drugadditional=None, drugadministrationroute=None, drugauthorizationnumb='020998', drugbatchnumb=None, drugcharacterization='1', drugdosageform=None, drugdosagetext=None, drugenddate=None, drugenddateformat=None, drugindication='ARTHRITIS', drugrecurreadministration=None, drugstartdate='20020101', drugstartdateformat='102', drugstructuredosagenumb=None, drugstructuredosageunit=None, drugtreatmentduration='30', drugtreatmentdurationunit='804', medicinalproduct='CELEBREX', openfda=Row(application_number=['NDA020998'], brand_name=['CELEBREX'], generic_name=['CELECOXIB'], manufacturer_name=['PFIZER LABORATORIES DIV PFIZER INC', 'Viatris Specialty LLC'], nui=['N0000000160', 'M0001335', 'N0000175722'], package_ndc=['0025-1515-01', '0025-1520-31', '0025-1520-51', '0025-1520-34', '0025-1525-31', '0025-1525-51', '0025-1525-34', '0025-1525-99', '0025-1525-96', '0025-1530-02', '0025-1530-01', '58151-082-91', '58151-083-01', '58151-083-05', '58151-083-32', '58151-083-88', '58151-084-01', '58151-084-05', '58151-084-32', '58151-084-88', '58151-085-91', '58151-085-32', '58151-085-88'], pharm_class_cs=['Anti-Inflammatory Agents, Non-Steroidal [CS]'], pharm_class_epc=['Nonsteroidal Anti-inflammatory Drug [EPC]'], pharm_class_moa=['Cyclooxygenase Inhibitors [MoA]'], pharm_class_pe=None, product_ndc=['0025-1520', '0025-1515', '0025-1525', '0025-1530', '58151-082', '58151-083', '58151-084', '58151-085'], product_type=['HUMAN PRESCRIPTION DRUG'], route=['ORAL'], rxcui=['205322', '205323', '213468', '213469', '349514', '352314', '686379', '686381'], spl_id=['1bdb9c5a-3368-4ffd-a42d-3e28a477f2f1', '2819ce05-07a2-4f48-8e6d-658747aaf9aa'], spl_set_id=['8d52185d-421f-4e34-8db7-f7676db2a226', '2d6675e4-5859-4be2-8037-a20ce9f707aa'], substance_name=['CELECOXIB'], unii=['JCX84Q7J1L']))], patientagegroup=None, patientdeath=None, patientonsetage=None, patientonsetageunit=None, patientsex='2', patientweight=None, reaction=[Row(reactionmeddrapt='DRUG INEFFECTIVE', reactionmeddraversionpt=None, reactionoutcome=None)], summary=None), primarysource=Row(qualification='5', reportercountry='UNITED STATES'), primarysourcecountry=None, receiptdate='20040831', receiptdateformat='102', receivedate='20100729', receivedateformat='102', receiver=None, reportduplicate=None, reporttype=None, safetyreportid='6884723-0', safetyreportversion=None, sender=Row(senderorganization='FDA-Public Use', sendertype=None), serious='2', seriousnesscongenitalanomali=None, seriousnessdeath=None, seriousnessdisabling=None, seriousnesshospitalization=None, seriousnesslifethreatening=None, seriousnessother=None, transmissiondate='20110219', transmissiondateformat='102'))]"
      ]
     },
     "execution_count": 84,
     "metadata": {},
     "output_type": "execute_result"
    }
   ],
   "source": [
    "exploded_results.take(1)"
   ]
  },
  {
   "cell_type": "code",
   "execution_count": 63,
   "id": "bd457f53-4b34-45de-81a5-8f07c7cb7704",
   "metadata": {},
   "outputs": [],
   "source": [
    "# temp_data.withColumn(\"keys\", F.json_object_keys(temp_data.exploded_array)).show()\n",
    "keys = exploded_results.select(F.col(\"exploded_results.*\")).columns\n",
    "keys = [\"exploded_results.\"+str(i) for i in keys]"
   ]
  },
  {
   "cell_type": "code",
   "execution_count": 72,
   "id": "e0de97c0-5b61-4b78-9ead-be7cbd28cd53",
   "metadata": {},
   "outputs": [
    {
     "data": {
      "text/plain": [
       "['exploded_results.companynumb',\n",
       " 'exploded_results.duplicate',\n",
       " 'exploded_results.fulfillexpeditecriteria',\n",
       " 'exploded_results.occurcountry',\n",
       " 'exploded_results.patient',\n",
       " 'exploded_results.primarysource',\n",
       " 'exploded_results.primarysourcecountry',\n",
       " 'exploded_results.receiptdate',\n",
       " 'exploded_results.receiptdateformat',\n",
       " 'exploded_results.receivedate',\n",
       " 'exploded_results.receivedateformat',\n",
       " 'exploded_results.receiver',\n",
       " 'exploded_results.reportduplicate',\n",
       " 'exploded_results.reporttype',\n",
       " 'exploded_results.safetyreportid',\n",
       " 'exploded_results.safetyreportversion',\n",
       " 'exploded_results.sender',\n",
       " 'exploded_results.serious',\n",
       " 'exploded_results.seriousnesscongenitalanomali',\n",
       " 'exploded_results.seriousnessdeath',\n",
       " 'exploded_results.seriousnessdisabling',\n",
       " 'exploded_results.seriousnesshospitalization',\n",
       " 'exploded_results.seriousnesslifethreatening',\n",
       " 'exploded_results.seriousnessother',\n",
       " 'exploded_results.transmissiondate',\n",
       " 'exploded_results.transmissiondateformat']"
      ]
     },
     "execution_count": 72,
     "metadata": {},
     "output_type": "execute_result"
    }
   ],
   "source": [
    "keys"
   ]
  },
  {
   "cell_type": "code",
   "execution_count": 92,
   "id": "0ff4b7c3-3906-4992-899e-79440a8b08d9",
   "metadata": {},
   "outputs": [],
   "source": [
    "patient_keys = exploded_results.select(F.col(\"exploded_results.patient.*\")).columns\n",
    "patient_keys = [\"exploded_results.patient.\"+str(i) for i in patient_keys]"
   ]
  },
  {
   "cell_type": "code",
   "execution_count": 96,
   "id": "2f846796-031c-4b26-ae94-f89160d4115c",
   "metadata": {},
   "outputs": [
    {
     "data": {
      "text/plain": [
       "['exploded_results.patient.drug',\n",
       " 'exploded_results.patient.patientagegroup',\n",
       " 'exploded_results.patient.patientdeath',\n",
       " 'exploded_results.patient.patientonsetage',\n",
       " 'exploded_results.patient.patientonsetageunit',\n",
       " 'exploded_results.patient.patientsex',\n",
       " 'exploded_results.patient.patientweight',\n",
       " 'exploded_results.patient.reaction',\n",
       " 'exploded_results.patient.summary']"
      ]
     },
     "execution_count": 96,
     "metadata": {},
     "output_type": "execute_result"
    }
   ],
   "source": [
    "patient_keys"
   ]
  },
  {
   "cell_type": "code",
   "execution_count": 86,
   "id": "9cb5fe25-0a80-4663-80d7-abbaead54eaf",
   "metadata": {},
   "outputs": [
    {
     "name": "stdout",
     "output_type": "stream",
     "text": [
      "+--------------------+---------+-----------------------+------------+--------------------+------------------+--------------------+-----------+\n",
      "|         companynumb|duplicate|fulfillexpeditecriteria|occurcountry|             patient|     primarysource|primarysourcecountry|receiptdate|\n",
      "+--------------------+---------+-----------------------+------------+--------------------+------------------+--------------------+-----------+\n",
      "|US-PFIZER INC-200...|     NULL|                      2|        NULL|{[{NULL, NULL, NU...|{5, UNITED STATES}|                NULL|   20040831|\n",
      "|US-ABBOTT-04P-163...|     NULL|                      2|        NULL|{[{NULL, NULL, NU...|{1, UNITED STATES}|                NULL|   20040916|\n",
      "|        USA040977859|     NULL|                      2|        NULL|{[{NULL, NULL, NU...|              NULL|                NULL|   20040909|\n",
      "|        2004235828US|     NULL|                      1|        NULL|{[{NULL, NULL, NU...|         {5, NULL}|                NULL|   20040927|\n",
      "|  2004-BP-07617BP(0)|     NULL|                      2|        NULL|{[{NULL, NULL, NU...|         {1, NULL}|                NULL|   20040901|\n",
      "|        2004235350GB|     NULL|                      1|        NULL|{[{NULL, NULL, NU...|         {1, NULL}|                NULL|   20040920|\n",
      "|        2003147867US|     NULL|                      1|        NULL|{[{NULL, NULL, NU...|         {5, NULL}|                NULL|   20040928|\n",
      "|  2004-BP-08985BP(0)|     NULL|                      2|        NULL|{[{NULL, NULL, NU...|         {5, NULL}|                NULL|   20040928|\n",
      "|        USA040876853|     NULL|                      2|        NULL|{[{NULL, NULL, NU...|         {1, NULL}|                NULL|   20040830|\n",
      "|        2004230197US|     NULL|                      2|        NULL|{[{NULL, NULL, NU...|         {5, NULL}|                NULL|   20040817|\n",
      "|        2004229508FR|     NULL|                      1|        NULL|{[{NULL, NULL, NU...|         {1, NULL}|                NULL|   20040818|\n",
      "|        2004233217GB|     NULL|                      1|        NULL|{[{NULL, NULL, NU...|         {3, NULL}|                NULL|   20040909|\n",
      "|                NULL|     NULL|                      2|        NULL|{[{NULL, NULL, NU...|         {3, NULL}|                NULL|   20040816|\n",
      "|        2004224971CO|     NULL|                      1|        NULL|{[{NULL, NULL, NU...|         {3, NULL}|                NULL|   20040721|\n",
      "|US-JNJFOC-2004070...|     NULL|                      2|        NULL|{[{NULL, NULL, NU...|         {1, NULL}|                NULL|   20040830|\n",
      "|                NULL|     NULL|                      2|        NULL|{[{NULL, NULL, NU...|         {2, NULL}|                NULL|   20040831|\n",
      "|        2004230664US|     NULL|                      1|        NULL|{[{NULL, NULL, NU...|         {5, NULL}|                NULL|   20040825|\n",
      "|FR-JNJFOC-2004080...|     NULL|                      1|        NULL|{[{NULL, NULL, NU...|         {3, NULL}|                NULL|   20040826|\n",
      "|        2004230585IE|     NULL|                      1|        NULL|{[{NULL, NULL, NU...|         {1, NULL}|                NULL|   20040826|\n",
      "|        2004223985US|     NULL|                      1|        NULL|{[{NULL, NULL, NU...|         {5, NULL}|                NULL|   20040719|\n",
      "+--------------------+---------+-----------------------+------------+--------------------+------------------+--------------------+-----------+\n",
      "only showing top 20 rows\n",
      "\n"
     ]
    }
   ],
   "source": [
    "exploded_results.select(keys[:8]).show()"
   ]
  },
  {
   "cell_type": "code",
   "execution_count": 95,
   "id": "725d9384-629c-4616-bae9-1cf63bb6e2ec",
   "metadata": {},
   "outputs": [
    {
     "name": "stdout",
     "output_type": "stream",
     "text": [
      "+--------------------+---------------+------------+---------------+-------------------+----------+-------------+--------------------+-------+\n",
      "|                drug|patientagegroup|patientdeath|patientonsetage|patientonsetageunit|patientsex|patientweight|            reaction|summary|\n",
      "+--------------------+---------------+------------+---------------+-------------------+----------+-------------+--------------------+-------+\n",
      "|[{NULL, NULL, NUL...|           NULL|        NULL|           NULL|               NULL|         2|         NULL|[{DRUG INEFFECTIV...|   NULL|\n",
      "|[{NULL, NULL, NUL...|           NULL|        NULL|             61|                801|         1|         NULL|[{DIZZINESS, NULL...|   NULL|\n",
      "|[{NULL, NULL, NUL...|           NULL|        NULL|             75|                801|         2|         NULL|[{FEELING ABNORMA...|   NULL|\n",
      "|[{NULL, NULL, NUL...|           NULL|        NULL|           NULL|               NULL|         2|         NULL|[{ARTHRALGIA, NUL...|   NULL|\n",
      "|[{NULL, NULL, NUL...|           NULL|        NULL|             64|                801|         2|         66.7|[{ANGIONEUROTIC O...|   NULL|\n",
      "|[{NULL, NULL, NUL...|           NULL|        NULL|           NULL|               NULL|         2|         NULL|[{PROCTITIS HAEMO...|   NULL|\n",
      "|[{NULL, NULL, NUL...|           NULL|        NULL|             40|                801|         1|        133.3|[{DEEP VEIN THROM...|   NULL|\n",
      "|[{NULL, NULL, NUL...|           NULL|        NULL|             68|                801|         2|         NULL|[{DIZZINESS, NULL...|   NULL|\n",
      "|[{NULL, NULL, NUL...|           NULL|        NULL|             45|                801|         2|         NULL|[{BACK PAIN, NULL...|   NULL|\n",
      "|[{NULL, NULL, NUL...|           NULL|        NULL|           NULL|               NULL|         2|         NULL|[{DIZZINESS, NULL...|   NULL|\n",
      "|[{NULL, NULL, NUL...|           NULL|        NULL|             59|                801|         2|           59|[{DEHYDRATION, NU...|   NULL|\n",
      "|[{NULL, NULL, NUL...|           NULL|        NULL|             56|                801|         1|         NULL|[{BLISTER, NULL, ...|   NULL|\n",
      "|[{NULL, NULL, NUL...|           NULL|{NULL, NULL}|             53|                801|         1|         NULL|[{CARDIO-RESPIRAT...|   NULL|\n",
      "|[{NULL, NULL, NUL...|           NULL|{NULL, NULL}|             79|                801|         2|         NULL|[{CEREBROVASCULAR...|   NULL|\n",
      "|[{NULL, NULL, NUL...|           NULL|        NULL|             50|                801|         2|         NULL|[{GASTRIC ULCER H...|   NULL|\n",
      "|[{NULL, NULL, NUL...|           NULL|        NULL|           NULL|               NULL|         2|         NULL|[{DIZZINESS, NULL...|   NULL|\n",
      "|[{NULL, NULL, NUL...|           NULL|        NULL|             67|                801|         2|         36.3|[{CORONARY ARTERY...|   NULL|\n",
      "|[{NULL, NULL, NUL...|           NULL|        NULL|             56|                801|         1|         NULL|[{BLOOD AMYLASE I...|   NULL|\n",
      "|[{NULL, NULL, NUL...|           NULL|        NULL|           NULL|               NULL|         1|         NULL|[{APALLIC SYNDROM...|   NULL|\n",
      "|[{NULL, NULL, NUL...|           NULL|        NULL|           NULL|               NULL|         2|         NULL|[{ARRHYTHMIA, NUL...|   NULL|\n",
      "+--------------------+---------------+------------+---------------+-------------------+----------+-------------+--------------------+-------+\n",
      "only showing top 20 rows\n",
      "\n"
     ]
    }
   ],
   "source": [
    "exploded_results.select(patient_keys).show()"
   ]
  },
  {
   "cell_type": "code",
   "execution_count": null,
   "id": "b0751a0c-077e-4fa3-a813-2309b8655623",
   "metadata": {},
   "outputs": [],
   "source": []
  },
  {
   "cell_type": "code",
   "execution_count": null,
   "id": "30e35348-02e6-4726-bf5e-6457552ce1dd",
   "metadata": {},
   "outputs": [],
   "source": []
  }
 ],
 "metadata": {
  "kernelspec": {
   "display_name": "Python 3 (ipykernel)",
   "language": "python",
   "name": "python3"
  },
  "language_info": {
   "codemirror_mode": {
    "name": "ipython",
    "version": 3
   },
   "file_extension": ".py",
   "mimetype": "text/x-python",
   "name": "python",
   "nbconvert_exporter": "python",
   "pygments_lexer": "ipython3",
   "version": "3.9.20"
  }
 },
 "nbformat": 4,
 "nbformat_minor": 5
}
