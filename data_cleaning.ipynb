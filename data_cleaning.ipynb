{
 "cells": [
  {
   "cell_type": "markdown",
   "id": "d1b15426-3dfa-4dca-863f-3b15b28ceb2b",
   "metadata": {},
   "source": [
    "## Data Transformation from JSON to Dataframe"
   ]
  },
  {
   "cell_type": "markdown",
   "id": "bb452bf6-9bb4-4e95-a424-8a557339e46f",
   "metadata": {},
   "source": [
    "### All Imports"
   ]
  },
  {
   "cell_type": "code",
   "execution_count": 1,
   "id": "0baf9c78-0175-4ef9-a584-238e900fa30b",
   "metadata": {},
   "outputs": [],
   "source": [
    "import pandas as pd\n",
    "import numpy as np\n",
    "import seaborn as sns\n",
    "from pyspark.sql import SparkSession\n",
    "from pyspark.sql.functions import udf, explode, col, arrays_zip\n",
    "from pyspark.sql.types import StructType, StructField, StringType, IntegerType, ArrayType\n",
    "import pyspark.sql.functions as F\n",
    "from pyspark.sql.functions import sum,avg,max\n",
    "import os\n",
    "import sys\n",
    "os.environ['PYSPARK_PYTHON'] = sys.executable\n",
    "os.environ['PYSPARK_DRIVER_PYTHON'] = sys.executable\n",
    "import findspark\n",
    "findspark.init()"
   ]
  },
  {
   "cell_type": "markdown",
   "id": "d58e53ea-51f0-4868-97d7-a62f8dab8974",
   "metadata": {},
   "source": [
    "### Spark Session"
   ]
  },
  {
   "cell_type": "code",
   "execution_count": 2,
   "id": "8f9ef91d-d6a0-47d7-b193-7df7a1d3f648",
   "metadata": {},
   "outputs": [],
   "source": [
    "spark = SparkSession.builder \\\n",
    "    .master(\"local\") \\\n",
    "    .config(\"spark.driver.memory\", \"12g\") \\\n",
    "    .config(\"spark.executor.memory\", \"12g\") \\\n",
    "    .appName(\"data_cleaning\") \\\n",
    "    .getOrCreate()"
   ]
  },
  {
   "cell_type": "markdown",
   "id": "c4676a23-3e17-4975-8e21-f422402ac2fa",
   "metadata": {},
   "source": [
    "### Read File"
   ]
  },
  {
   "cell_type": "code",
   "execution_count": 3,
   "id": "8800514d-40ad-42b3-a775-9b24523f5dc3",
   "metadata": {},
   "outputs": [],
   "source": [
    "# json_data = spark.read.option(\"multiline\",\"true\").json([\"./Data/JSON/drug-event-0008-of-0030.json\",\"./Data/JSON/drug-event-0008-of-0034.json\"])\n",
    "json_data = spark.read.option(\"multiline\",\"true\").json(\"./Data/JSON\")"
   ]
  },
  {
   "cell_type": "code",
   "execution_count": 4,
   "id": "48bbac0f-4207-4e7f-8567-0666944e5617",
   "metadata": {
    "scrolled": true
   },
   "outputs": [
    {
     "name": "stdout",
     "output_type": "stream",
     "text": [
      "root\n",
      " |-- meta: struct (nullable = true)\n",
      " |    |-- disclaimer: string (nullable = true)\n",
      " |    |-- last_updated: string (nullable = true)\n",
      " |    |-- license: string (nullable = true)\n",
      " |    |-- results: struct (nullable = true)\n",
      " |    |    |-- limit: long (nullable = true)\n",
      " |    |    |-- skip: long (nullable = true)\n",
      " |    |    |-- total: long (nullable = true)\n",
      " |    |-- terms: string (nullable = true)\n",
      " |-- results: array (nullable = true)\n",
      " |    |-- element: struct (containsNull = true)\n",
      " |    |    |-- authoritynumb: string (nullable = true)\n",
      " |    |    |-- companynumb: string (nullable = true)\n",
      " |    |    |-- duplicate: string (nullable = true)\n",
      " |    |    |-- fulfillexpeditecriteria: string (nullable = true)\n",
      " |    |    |-- occurcountry: string (nullable = true)\n",
      " |    |    |-- patient: struct (nullable = true)\n",
      " |    |    |    |-- drug: array (nullable = true)\n",
      " |    |    |    |    |-- element: struct (containsNull = true)\n",
      " |    |    |    |    |    |-- actiondrug: string (nullable = true)\n",
      " |    |    |    |    |    |-- activesubstance: struct (nullable = true)\n",
      " |    |    |    |    |    |    |-- activesubstancename: string (nullable = true)\n",
      " |    |    |    |    |    |-- drugadditional: string (nullable = true)\n",
      " |    |    |    |    |    |-- drugadministrationroute: string (nullable = true)\n",
      " |    |    |    |    |    |-- drugauthorizationnumb: string (nullable = true)\n",
      " |    |    |    |    |    |-- drugbatchnumb: string (nullable = true)\n",
      " |    |    |    |    |    |-- drugcharacterization: string (nullable = true)\n",
      " |    |    |    |    |    |-- drugcumulativedosagenumb: string (nullable = true)\n",
      " |    |    |    |    |    |-- drugcumulativedosageunit: string (nullable = true)\n",
      " |    |    |    |    |    |-- drugdosageform: string (nullable = true)\n",
      " |    |    |    |    |    |-- drugdosagetext: string (nullable = true)\n",
      " |    |    |    |    |    |-- drugenddate: string (nullable = true)\n",
      " |    |    |    |    |    |-- drugenddateformat: string (nullable = true)\n",
      " |    |    |    |    |    |-- drugindication: string (nullable = true)\n",
      " |    |    |    |    |    |-- drugintervaldosagedefinition: string (nullable = true)\n",
      " |    |    |    |    |    |-- drugintervaldosageunitnumb: string (nullable = true)\n",
      " |    |    |    |    |    |-- drugrecurreadministration: string (nullable = true)\n",
      " |    |    |    |    |    |-- drugseparatedosagenumb: string (nullable = true)\n",
      " |    |    |    |    |    |-- drugstartdate: string (nullable = true)\n",
      " |    |    |    |    |    |-- drugstartdateformat: string (nullable = true)\n",
      " |    |    |    |    |    |-- drugstructuredosagenumb: string (nullable = true)\n",
      " |    |    |    |    |    |-- drugstructuredosageunit: string (nullable = true)\n",
      " |    |    |    |    |    |-- drugtreatmentduration: string (nullable = true)\n",
      " |    |    |    |    |    |-- drugtreatmentdurationunit: string (nullable = true)\n",
      " |    |    |    |    |    |-- medicinalproduct: string (nullable = true)\n",
      " |    |    |    |    |    |-- openfda: struct (nullable = true)\n",
      " |    |    |    |    |    |    |-- application_number: array (nullable = true)\n",
      " |    |    |    |    |    |    |    |-- element: string (containsNull = true)\n",
      " |    |    |    |    |    |    |-- brand_name: array (nullable = true)\n",
      " |    |    |    |    |    |    |    |-- element: string (containsNull = true)\n",
      " |    |    |    |    |    |    |-- generic_name: array (nullable = true)\n",
      " |    |    |    |    |    |    |    |-- element: string (containsNull = true)\n",
      " |    |    |    |    |    |    |-- manufacturer_name: array (nullable = true)\n",
      " |    |    |    |    |    |    |    |-- element: string (containsNull = true)\n",
      " |    |    |    |    |    |    |-- nui: array (nullable = true)\n",
      " |    |    |    |    |    |    |    |-- element: string (containsNull = true)\n",
      " |    |    |    |    |    |    |-- package_ndc: array (nullable = true)\n",
      " |    |    |    |    |    |    |    |-- element: string (containsNull = true)\n",
      " |    |    |    |    |    |    |-- pharm_class_cs: array (nullable = true)\n",
      " |    |    |    |    |    |    |    |-- element: string (containsNull = true)\n",
      " |    |    |    |    |    |    |-- pharm_class_epc: array (nullable = true)\n",
      " |    |    |    |    |    |    |    |-- element: string (containsNull = true)\n",
      " |    |    |    |    |    |    |-- pharm_class_moa: array (nullable = true)\n",
      " |    |    |    |    |    |    |    |-- element: string (containsNull = true)\n",
      " |    |    |    |    |    |    |-- pharm_class_pe: array (nullable = true)\n",
      " |    |    |    |    |    |    |    |-- element: string (containsNull = true)\n",
      " |    |    |    |    |    |    |-- product_ndc: array (nullable = true)\n",
      " |    |    |    |    |    |    |    |-- element: string (containsNull = true)\n",
      " |    |    |    |    |    |    |-- product_type: array (nullable = true)\n",
      " |    |    |    |    |    |    |    |-- element: string (containsNull = true)\n",
      " |    |    |    |    |    |    |-- route: array (nullable = true)\n",
      " |    |    |    |    |    |    |    |-- element: string (containsNull = true)\n",
      " |    |    |    |    |    |    |-- rxcui: array (nullable = true)\n",
      " |    |    |    |    |    |    |    |-- element: string (containsNull = true)\n",
      " |    |    |    |    |    |    |-- spl_id: array (nullable = true)\n",
      " |    |    |    |    |    |    |    |-- element: string (containsNull = true)\n",
      " |    |    |    |    |    |    |-- spl_set_id: array (nullable = true)\n",
      " |    |    |    |    |    |    |    |-- element: string (containsNull = true)\n",
      " |    |    |    |    |    |    |-- substance_name: array (nullable = true)\n",
      " |    |    |    |    |    |    |    |-- element: string (containsNull = true)\n",
      " |    |    |    |    |    |    |-- unii: array (nullable = true)\n",
      " |    |    |    |    |    |    |    |-- element: string (containsNull = true)\n",
      " |    |    |    |-- patientagegroup: string (nullable = true)\n",
      " |    |    |    |-- patientonsetage: string (nullable = true)\n",
      " |    |    |    |-- patientonsetageunit: string (nullable = true)\n",
      " |    |    |    |-- patientsex: string (nullable = true)\n",
      " |    |    |    |-- patientweight: string (nullable = true)\n",
      " |    |    |    |-- reaction: array (nullable = true)\n",
      " |    |    |    |    |-- element: struct (containsNull = true)\n",
      " |    |    |    |    |    |-- reactionmeddrapt: string (nullable = true)\n",
      " |    |    |    |    |    |-- reactionmeddraversionpt: string (nullable = true)\n",
      " |    |    |    |    |    |-- reactionoutcome: string (nullable = true)\n",
      " |    |    |    |-- summary: struct (nullable = true)\n",
      " |    |    |    |    |-- narrativeincludeclinical: string (nullable = true)\n",
      " |    |    |-- primarysource: struct (nullable = true)\n",
      " |    |    |    |-- literaturereference: string (nullable = true)\n",
      " |    |    |    |-- qualification: string (nullable = true)\n",
      " |    |    |    |-- reportercountry: string (nullable = true)\n",
      " |    |    |-- primarysourcecountry: string (nullable = true)\n",
      " |    |    |-- receiptdate: string (nullable = true)\n",
      " |    |    |-- receiptdateformat: string (nullable = true)\n",
      " |    |    |-- receivedate: string (nullable = true)\n",
      " |    |    |-- receivedateformat: string (nullable = true)\n",
      " |    |    |-- receiver: struct (nullable = true)\n",
      " |    |    |    |-- receiverorganization: string (nullable = true)\n",
      " |    |    |    |-- receivertype: string (nullable = true)\n",
      " |    |    |-- reportduplicate: string (nullable = true)\n",
      " |    |    |-- reporttype: string (nullable = true)\n",
      " |    |    |-- safetyreportid: string (nullable = true)\n",
      " |    |    |-- safetyreportversion: string (nullable = true)\n",
      " |    |    |-- sender: struct (nullable = true)\n",
      " |    |    |    |-- senderorganization: string (nullable = true)\n",
      " |    |    |    |-- sendertype: string (nullable = true)\n",
      " |    |    |-- serious: string (nullable = true)\n",
      " |    |    |-- seriousnesscongenitalanomali: string (nullable = true)\n",
      " |    |    |-- seriousnessdeath: string (nullable = true)\n",
      " |    |    |-- seriousnessdisabling: string (nullable = true)\n",
      " |    |    |-- seriousnesshospitalization: string (nullable = true)\n",
      " |    |    |-- seriousnesslifethreatening: string (nullable = true)\n",
      " |    |    |-- seriousnessother: string (nullable = true)\n",
      " |    |    |-- transmissiondate: string (nullable = true)\n",
      " |    |    |-- transmissiondateformat: string (nullable = true)\n",
      "\n"
     ]
    }
   ],
   "source": [
    "json_data.printSchema()"
   ]
  },
  {
   "cell_type": "code",
   "execution_count": 5,
   "id": "99ee2961-47b8-46c1-bca9-70e8398e9d99",
   "metadata": {},
   "outputs": [],
   "source": [
    "# json_data.show()"
   ]
  },
  {
   "cell_type": "code",
   "execution_count": 6,
   "id": "049be9a2-e5cc-47a5-a2ea-173ea1dc29ad",
   "metadata": {},
   "outputs": [],
   "source": [
    "exploded_results = json_data.select(explode(F.col(\"results\")).alias(\"exploded_results\"))"
   ]
  },
  {
   "cell_type": "code",
   "execution_count": 7,
   "id": "6e5494f9-567e-4746-95af-c28ab88ced73",
   "metadata": {},
   "outputs": [],
   "source": [
    "# exploded_results.count()\n",
    "#12000"
   ]
  },
  {
   "cell_type": "code",
   "execution_count": 8,
   "id": "530e189d-1ab8-4562-8912-f504a449ee40",
   "metadata": {},
   "outputs": [],
   "source": [
    "# exploded_results.show()"
   ]
  },
  {
   "cell_type": "code",
   "execution_count": 9,
   "id": "03b7f963-d4ec-4a13-9495-659f7e9db84a",
   "metadata": {},
   "outputs": [],
   "source": [
    "all_keys = []"
   ]
  },
  {
   "cell_type": "markdown",
   "id": "b631ea3b-0e4d-4a6a-a23f-4c94b93d9229",
   "metadata": {},
   "source": [
    "### Converting Nested JSON Data into Columns"
   ]
  },
  {
   "cell_type": "code",
   "execution_count": null,
   "id": "a0b95afa-f108-4be9-98fe-d5d526782a7d",
   "metadata": {},
   "outputs": [],
   "source": []
  },
  {
   "cell_type": "code",
   "execution_count": 10,
   "id": "bd457f53-4b34-45de-81a5-8f07c7cb7704",
   "metadata": {},
   "outputs": [],
   "source": [
    "# temp_data.withColumn(\"keys\", F.json_object_keys(temp_data.exploded_array)).show()\n",
    "keys = exploded_results.select(F.col(\"exploded_results.*\")).columns\n",
    "keys = [\"exploded_results.\"+str(i) for i in keys]\n",
    "all_keys.extend(keys)"
   ]
  },
  {
   "cell_type": "code",
   "execution_count": null,
   "id": "63eb5c8f-c02c-4223-9a57-0af0508d4eb1",
   "metadata": {},
   "outputs": [],
   "source": []
  },
  {
   "cell_type": "code",
   "execution_count": 11,
   "id": "0ff4b7c3-3906-4992-899e-79440a8b08d9",
   "metadata": {},
   "outputs": [],
   "source": [
    "patient_keys = exploded_results.select(F.col(\"exploded_results.patient.*\")).columns\n",
    "patient_keys = [\"exploded_results.patient.\"+str(i) for i in patient_keys]\n",
    "all_keys.extend(patient_keys)\n",
    "updated_data = exploded_results.select(all_keys)\n",
    "updated_data = updated_data.drop(F.col(\"patient\"))\n",
    "all_keys = updated_data.columns"
   ]
  },
  {
   "cell_type": "code",
   "execution_count": 12,
   "id": "dbfdeb0f-f21b-44c5-9686-5f6e3cf839f0",
   "metadata": {},
   "outputs": [],
   "source": [
    "# updated_data.count()\n",
    "#12000"
   ]
  },
  {
   "cell_type": "code",
   "execution_count": 13,
   "id": "e8a11e61-c0d1-47fe-83ae-a83ca13d5db2",
   "metadata": {},
   "outputs": [],
   "source": [
    "updated_data = updated_data.select(all_keys)\\\n",
    "            .withColumn(\"explode_drug\",F.explode(F.col(\"drug\")))\n",
    "drug_keys = updated_data.select(F.col(\"explode_drug.*\")).columns\n",
    "drug_keys = [\"explode_drug.\"+i for i in drug_keys]\n",
    "all_keys.extend(drug_keys)"
   ]
  },
  {
   "cell_type": "code",
   "execution_count": 14,
   "id": "b8af7a00-c33e-4d0e-9200-fad0289a93c4",
   "metadata": {},
   "outputs": [],
   "source": [
    "updated_data = updated_data.select(all_keys)"
   ]
  },
  {
   "cell_type": "code",
   "execution_count": 15,
   "id": "ee756ce5-caf4-4682-8b59-b228a72901ba",
   "metadata": {},
   "outputs": [],
   "source": [
    "updated_data = updated_data.drop(*['authoritynumb','duplicate','reportduplicate','patientagegroup','patientweight','summary'])"
   ]
  },
  {
   "cell_type": "code",
   "execution_count": 16,
   "id": "e051b646-f98c-43e2-b4fc-8e8009cc0c37",
   "metadata": {},
   "outputs": [],
   "source": [
    "updated_data = updated_data.where(F.col(\"drugindication\") != 'NULL')"
   ]
  },
  {
   "cell_type": "code",
   "execution_count": 17,
   "id": "bf1916c7-2990-4d4c-bb87-3dd97b3c5e34",
   "metadata": {},
   "outputs": [],
   "source": [
    "updated_data = updated_data.where(F.col(\"drugindication\") != \"Product used for unknown indication\")"
   ]
  },
  {
   "cell_type": "code",
   "execution_count": 18,
   "id": "105e7e32-07f9-41e8-ab76-08657f2bf38f",
   "metadata": {},
   "outputs": [],
   "source": [
    "# updated_data.cache()"
   ]
  },
  {
   "cell_type": "code",
   "execution_count": 19,
   "id": "4e5aa893-136e-4012-acea-628187c4a3bc",
   "metadata": {},
   "outputs": [],
   "source": [
    "# updated_data.show()"
   ]
  },
  {
   "cell_type": "code",
   "execution_count": 20,
   "id": "7145ec60-eaa1-4c47-807f-b56d9bf7ac75",
   "metadata": {},
   "outputs": [],
   "source": [
    "all_keys = updated_data.columns"
   ]
  },
  {
   "cell_type": "code",
   "execution_count": 21,
   "id": "725d9384-629c-4616-bae9-1cf63bb6e2ec",
   "metadata": {},
   "outputs": [],
   "source": [
    "all_keys = updated_data.columns\n",
    "updated_data = updated_data.select(all_keys)\\\n",
    "            .withColumn(\"explode_reaction\",F.explode(F.col(\"reaction\")))\n",
    "all_keys = updated_data.columns\n",
    "reaction_keys = updated_data.select(F.col(\"explode_reaction.*\")).columns\n",
    "reaction_keys = [\"explode_reaction.\"+i for i in reaction_keys]\n",
    "all_keys.extend(reaction_keys)"
   ]
  },
  {
   "cell_type": "code",
   "execution_count": 22,
   "id": "de326f81-78d5-466b-9f6a-526833875a5a",
   "metadata": {},
   "outputs": [],
   "source": [
    "updated_data = updated_data.select(all_keys)"
   ]
  },
  {
   "cell_type": "code",
   "execution_count": 23,
   "id": "d9748cd8-8e3e-45a1-bc96-0f53e8a4dc47",
   "metadata": {},
   "outputs": [],
   "source": [
    "updated_data = updated_data.where(F.col(\"reactionmeddrapt\") != 'NULL')"
   ]
  },
  {
   "cell_type": "code",
   "execution_count": 24,
   "id": "f333a39e-efce-4abd-8ce5-7b4449470c9e",
   "metadata": {},
   "outputs": [],
   "source": [
    "updated_data = updated_data.select([\"seriousnessdeath\",\"seriousnesslifethreatening\",\"seriousnesshospitalization\",\"seriousnessdisabling\",\"seriousnesscongenitalanomali\",\"seriousnessother\",\"patientonsetage\",\"reactionmeddrapt\",\"reactionoutcome\",\"drugindication\",\"activesubstance.activesubstancename\",\"medicinalproduct\",\"openfda.route\",\"openfda.brand_name\",\"openfda.generic_name\"])"
   ]
  },
  {
   "cell_type": "code",
   "execution_count": 25,
   "id": "fad892f5-ef6b-47c8-a08e-e0bf86e75c4f",
   "metadata": {
    "scrolled": true
   },
   "outputs": [],
   "source": [
    "# updated_data.cache()"
   ]
  },
  {
   "cell_type": "code",
   "execution_count": 26,
   "id": "d5dd3c01-25d7-43c8-9e75-5b5ad0fe6437",
   "metadata": {},
   "outputs": [],
   "source": [
    "updated_data = updated_data.dropna()"
   ]
  },
  {
   "cell_type": "code",
   "execution_count": 27,
   "id": "238115b9-b8ff-4c4d-916f-aa364ef1e9b7",
   "metadata": {},
   "outputs": [],
   "source": [
    "grouped_data = updated_data.groupby(F.col(\"activesubstancename\")).count()"
   ]
  },
  {
   "cell_type": "code",
   "execution_count": 28,
   "id": "45283829-900d-4546-947b-1e491465cb52",
   "metadata": {},
   "outputs": [
    {
     "name": "stdout",
     "output_type": "stream",
     "text": [
      "+-----------------+\n",
      "|       avg(count)|\n",
      "+-----------------+\n",
      "|60.51837769328264|\n",
      "+-----------------+\n",
      "\n"
     ]
    }
   ],
   "source": [
    "grouped_data.orderBy(F.col(\"count\").desc()).agg(avg(\"count\")).show()"
   ]
  },
  {
   "cell_type": "code",
   "execution_count": 29,
   "id": "6a4563c6-0a9e-41c3-9d7f-929684ba9fc3",
   "metadata": {},
   "outputs": [],
   "source": [
    "updated_data = updated_data.join(grouped_data.filter(F.col(\"count\") > 60).select(\"activesubstancename\"),on=\"activesubstancename\", how=\"inner\")"
   ]
  },
  {
   "cell_type": "code",
   "execution_count": 30,
   "id": "e6f71bf8-055a-4d3e-ad21-fc1390a2b408",
   "metadata": {},
   "outputs": [
    {
     "name": "stdout",
     "output_type": "stream",
     "text": [
      "+-----------------+\n",
      "|       avg(count)|\n",
      "+-----------------+\n",
      "|162.0207468879668|\n",
      "+-----------------+\n",
      "\n"
     ]
    }
   ],
   "source": [
    "grouped_data = updated_data.groupby(F.col(\"medicinalproduct\")).count()\n",
    "grouped_data.orderBy(F.col(\"count\").desc()).agg(avg(\"count\")).show()"
   ]
  },
  {
   "cell_type": "code",
   "execution_count": 31,
   "id": "afb5f48e-0dd4-48fc-85e3-fb8aecc9f935",
   "metadata": {},
   "outputs": [],
   "source": [
    "updated_data = updated_data.join(grouped_data.filter(F.col(\"count\") > 162).select(\"medicinalproduct\"),on=\"medicinalproduct\", how=\"inner\")"
   ]
  },
  {
   "cell_type": "code",
   "execution_count": 32,
   "id": "64a74886-5f06-4257-ac4b-ba114f0d475e",
   "metadata": {},
   "outputs": [
    {
     "name": "stdout",
     "output_type": "stream",
     "text": [
      "+------------------+\n",
      "|        avg(count)|\n",
      "+------------------+\n",
      "|11.653800708940528|\n",
      "+------------------+\n",
      "\n"
     ]
    }
   ],
   "source": [
    "grouped_data = updated_data.groupby(F.col(\"reactionmeddrapt\")).count()\n",
    "grouped_data.orderBy(F.col(\"count\").desc()).agg(avg(\"count\")).show()"
   ]
  },
  {
   "cell_type": "code",
   "execution_count": 33,
   "id": "476d6883-0559-433e-8e4e-4f8be4f1947b",
   "metadata": {},
   "outputs": [],
   "source": [
    "updated_data = updated_data.join(grouped_data.filter(F.col(\"count\") > 11).select(\"reactionmeddrapt\"),on=\"reactionmeddrapt\", how=\"inner\")\n",
    "updated_data = updated_data.where(F.col(\"reactionmeddrapt\") != 'Off label use')"
   ]
  },
  {
   "cell_type": "code",
   "execution_count": 34,
   "id": "5ddf824b-6593-43eb-8339-bd446525b7b1",
   "metadata": {},
   "outputs": [
    {
     "name": "stdout",
     "output_type": "stream",
     "text": [
      "+-----------------+\n",
      "|       avg(count)|\n",
      "+-----------------+\n",
      "|39.72875226039783|\n",
      "+-----------------+\n",
      "\n"
     ]
    }
   ],
   "source": [
    "grouped_data = updated_data.groupby(F.col(\"drugindication\")).count()\n",
    "grouped_data.orderBy(F.col(\"count\").desc()).agg(avg(\"count\")).show()"
   ]
  },
  {
   "cell_type": "code",
   "execution_count": 35,
   "id": "69de8de9-86ef-47e5-8a94-5d7b7e98599c",
   "metadata": {},
   "outputs": [],
   "source": [
    "updated_data = updated_data.join(grouped_data.filter(F.col(\"count\") > 39).select(\"drugindication\"),on=\"drugindication\", how=\"inner\")\n",
    "updated_data = updated_data.where(F.col(\"drugindication\") != 'Off label use')"
   ]
  },
  {
   "cell_type": "code",
   "execution_count": 36,
   "id": "5cf90e1e-761f-47fc-8e71-702c8bb38f1e",
   "metadata": {},
   "outputs": [
    {
     "name": "stdout",
     "output_type": "stream",
     "text": [
      "+-----------------+\n",
      "|       avg(count)|\n",
      "+-----------------+\n",
      "|324.8813559322034|\n",
      "+-----------------+\n",
      "\n"
     ]
    }
   ],
   "source": [
    "grouped_data = updated_data.groupby(F.col(\"medicinalproduct\")).count()\n",
    "grouped_data.orderBy(F.col(\"count\").desc()).agg(avg(\"count\")).show()"
   ]
  },
  {
   "cell_type": "code",
   "execution_count": 37,
   "id": "0b747f1f-2fe1-4b06-9f4d-03949255e282",
   "metadata": {},
   "outputs": [],
   "source": [
    "updated_data = updated_data.join(grouped_data.filter(F.col(\"count\") > 324).select(\"medicinalproduct\"),on=\"medicinalproduct\", how=\"inner\")"
   ]
  },
  {
   "cell_type": "code",
   "execution_count": 38,
   "id": "36601e9d-1ff5-4d99-bfa3-07b1eaf514bc",
   "metadata": {},
   "outputs": [],
   "source": [
    "# updated_data = updated_data.select(all_keys)\n",
    "# all_keys = updated_data.columns\n",
    "# openfda_keys = updated_data.select(F.col(\"openfda.*\")).columns\n",
    "# openfda_keys = [\"openfda.\"+i for i in openfda_keys]\n",
    "# all_keys.extend(openfda_keys)\n",
    "# all_keys.append(\"activesubstance.activesubstancename\")"
   ]
  },
  {
   "cell_type": "code",
   "execution_count": 39,
   "id": "8379154f-4b02-4ebd-8970-e587c8a20551",
   "metadata": {},
   "outputs": [],
   "source": [
    "# updated_data = updated_data.withColumn(\"openfda_{}\".format(\"application_number\"),F.explode(F.col('openfda.application_number')))\\\n",
    "#             .withColumn(\"openfda_{}\".format(\"brand_name\"),F.explode(F.col('openfda.brand_name')))\\\n",
    "#             .withColumn(\"openfda_{}\".format(\"generic_name\"),F.explode(F.col('openfda.generic_name')))\\\n",
    "#             .withColumn(\"openfda_{}\".format(\"manufacturer_name\"),F.explode(F.col('openfda.manufacturer_name')))\\\n",
    "#             .withColumn(\"openfda_{}\".format(\"product_type\"),F.explode(F.col('openfda.product_type')))\\\n",
    "#             .withColumn(\"openfda_{}\".format(\"substance_name\"),F.explode(F.col('openfda.substance_name')))\n",
    "#             # .withColumn(\"openfda_{}\".format(\"route\"),F.explode(F.col('openfda.route')))\\\n",
    "#             # .withColumn(\"openfda_{}\".format(\"rxcui\"),F.explode(F.col('openfda.rxcui')))\\\n",
    "#             # .withColumn(\"openfda_{}\".format(\"spl_id\"),F.explode(F.col('openfda.spl_id')))\\\n",
    "#             # .withColumn(\"openfda_{}\".format(\"spl_set_id\"),F.explode(F.col('openfda.spl_set_id')))\\\n",
    "#             # .withColumn(\"openfda_{}\".format(\"nui\"),F.explode(F.col('openfda.nui')))\\\n",
    "#             # .withColumn(\"openfda_{}\".format(\"package_ndc\"),F.explode(F.col('openfda.package_ndc')))\\\n",
    "#             # .withColumn(\"openfda_{}\".format(\"pharm_class_cs\"),F.explode(F.col('openfda.pharm_class_cs')))\\\n",
    "#             # .withColumn(\"openfda_{}\".format(\"pharm_class_epc\"),F.explode(F.col('openfda.pharm_class_epc')))\\\n",
    "#             # .withColumn(\"openfda_{}\".format(\"pharm_class_moa\"),F.explode(F.col('openfda.pharm_class_moa')))\\\n",
    "#             # .withColumn(\"openfda_{}\".format(\"pharm_class_pe\"),F.explode(F.col('openfda.pharm_class_pe')))\\\n",
    "#             # .withColumn(\"openfda_{}\".format(\"product_ndc\"),F.explode(F.col('openfda.product_ndc')))\\\n",
    "#             # .withColumn(\"openfda_{}\".format(\"unii\"),F.explode(F.col('openfda.unii'))).show()"
   ]
  },
  {
   "cell_type": "code",
   "execution_count": 40,
   "id": "b20fa0f6-393c-4277-9f65-e4b55723ec45",
   "metadata": {},
   "outputs": [],
   "source": [
    "# updated_data.count()"
   ]
  },
  {
   "cell_type": "code",
   "execution_count": 41,
   "id": "32604bb5-b527-4d5f-b4cf-82283448b64a",
   "metadata": {},
   "outputs": [],
   "source": [
    "# all_keys = updated_data.columns\n",
    "# primarysource_keys = updated_data.select(F.col(\"primarysource.*\")).columns\n",
    "# primarysource_keys = [\"primarysource.\"+i for i in primarysource_keys]\n",
    "# all_keys.extend(primarysource_keys)"
   ]
  },
  {
   "cell_type": "code",
   "execution_count": 42,
   "id": "91466669-6ce1-452d-a5ba-2d635b321a46",
   "metadata": {},
   "outputs": [],
   "source": [
    "# updated_data.show()"
   ]
  },
  {
   "cell_type": "code",
   "execution_count": 43,
   "id": "7436014a-781e-4b76-aa3b-c3b107ba1bea",
   "metadata": {
    "scrolled": true
   },
   "outputs": [],
   "source": [
    "# try:\n",
    "#     updated_data = updated_data.select(all_keys)\\\n",
    "#                 .withColumn(\"explode_drugrecurrence\",F.explode(F.col(\"drugrecurrence\")))\n",
    "#     all_keys = updated_data.columns\n",
    "#     drugrecurrence_keys = updated_data.select(F.col(\"explode_drugrecurrence.*\")).columns\n",
    "#     drugrecurrence_keys = [\"explode_drugrecurrence.\"+i for i in drugrecurrence_keys]\n",
    "#     all_keys.extend(drugrecurrence_keys)\n",
    "# except Exception as e:\n",
    "#     print(e)"
   ]
  },
  {
   "cell_type": "code",
   "execution_count": 44,
   "id": "78036449-06bf-4c07-816f-bdd45f7c894c",
   "metadata": {},
   "outputs": [],
   "source": [
    "# updated_data = updated_data.drop(F.col(\"primarysource\"))\n",
    "# updated_data = updated_data.drop(F.col(\"explode_drugrecurrence\"))\n",
    "# updated_data = updated_data.drop(F.col(\"drug\"))\n",
    "# updated_data = updated_data.drop(F.col(\"reaction\"))\n",
    "# updated_data = updated_data.drop(F.col(\"receiver\"))\n",
    "# updated_data = updated_data.drop(F.col(\"sender\"))\n",
    "# updated_data = updated_data.drop(F.col(\"summary\"))\n",
    "# updated_data = updated_data.drop(F.col(\"activesubstance\"))\n",
    "# updated_data = updated_data.drop(F.col(\"drugrecurrence\"))\n",
    "# updated_data = updated_data.drop(F.col(\"openfda\"))\n",
    "# updated_data = updated_data.drop(F.col(\"explode_reaction\"))"
   ]
  },
  {
   "cell_type": "markdown",
   "id": "ae68809e-5257-42a8-bcc3-714cf55e1c3d",
   "metadata": {},
   "source": [
    "## Sample Data Storing"
   ]
  },
  {
   "cell_type": "code",
   "execution_count": 45,
   "id": "e3f3e99f-46e0-482b-8ff1-75183cb6b4fd",
   "metadata": {},
   "outputs": [],
   "source": [
    "df_sample = updated_data.sample(withReplacement=False, fraction=0.1)"
   ]
  },
  {
   "cell_type": "code",
   "execution_count": 49,
   "id": "57bf180a-0d48-4292-859d-8792df190fc2",
   "metadata": {},
   "outputs": [],
   "source": [
    "pandas_df = df_sample.toPandas()"
   ]
  },
  {
   "cell_type": "code",
   "execution_count": 50,
   "id": "9e29eed8-7510-4b3d-82c7-bd490be96ac9",
   "metadata": {},
   "outputs": [],
   "source": [
    "pandas_df.to_csv(\"transformed_data.csv\")"
   ]
  },
  {
   "cell_type": "markdown",
   "id": "bca27277-61fe-4554-868b-5a1f80e3da1e",
   "metadata": {},
   "source": [
    "## Data Encoding"
   ]
  },
  {
   "cell_type": "code",
   "execution_count": 45,
   "id": "839c1ff3-3897-4d3f-be21-12cc840b97ce",
   "metadata": {},
   "outputs": [],
   "source": [
    "spark = SparkSession.builder \\\n",
    "    .master(\"local\") \\\n",
    "    .config(\"spark.driver.memory\", \"12g\") \\\n",
    "    .config(\"spark.executor.memory\", \"12g\") \\\n",
    "    .appName(\"data_encoding\") \\\n",
    "    .getOrCreate()"
   ]
  },
  {
   "cell_type": "code",
   "execution_count": 46,
   "id": "44d54656-20da-44da-b787-059a54dea2bb",
   "metadata": {},
   "outputs": [],
   "source": [
    "data = spark.read.csv(\"./transformed_data.csv\",header=True)"
   ]
  },
  {
   "cell_type": "code",
   "execution_count": 47,
   "id": "f2b055e3-88be-4a75-a241-ddf7b2f14023",
   "metadata": {},
   "outputs": [
    {
     "name": "stdout",
     "output_type": "stream",
     "text": [
      "root\n",
      " |-- _c0: string (nullable = true)\n",
      " |-- medicinalproduct: string (nullable = true)\n",
      " |-- drugindication: string (nullable = true)\n",
      " |-- reactionmeddrapt: string (nullable = true)\n",
      " |-- activesubstancename: string (nullable = true)\n",
      " |-- seriousnessdeath: string (nullable = true)\n",
      " |-- seriousnesslifethreatening: string (nullable = true)\n",
      " |-- seriousnesshospitalization: string (nullable = true)\n",
      " |-- seriousnessdisabling: string (nullable = true)\n",
      " |-- seriousnesscongenitalanomali: string (nullable = true)\n",
      " |-- seriousnessother: string (nullable = true)\n",
      " |-- patientonsetage: string (nullable = true)\n",
      " |-- reactionoutcome: string (nullable = true)\n",
      " |-- route: string (nullable = true)\n",
      " |-- brand_name: string (nullable = true)\n",
      " |-- generic_name: string (nullable = true)\n",
      "\n"
     ]
    }
   ],
   "source": [
    "data.printSchema()"
   ]
  },
  {
   "cell_type": "code",
   "execution_count": 48,
   "id": "7a4bf045-1ee3-45e0-914a-b5476356696e",
   "metadata": {},
   "outputs": [],
   "source": [
    "from pyspark.ml.feature import OneHotEncoder, StringIndexer"
   ]
  },
  {
   "cell_type": "code",
   "execution_count": 49,
   "id": "53920fef-e979-4b5e-adb8-bc2c0f9652b4",
   "metadata": {},
   "outputs": [],
   "source": [
    "indexer = StringIndexer(inputCol=\"medicinalproduct\", outputCol=\"op_medicinalproduct\")"
   ]
  },
  {
   "cell_type": "code",
   "execution_count": 50,
   "id": "f35e389a-c0a9-45f3-9781-67b27bb3b82a",
   "metadata": {},
   "outputs": [],
   "source": [
    "encoder = OneHotEncoder(inputCol=\"op_medicinalproduct\", outputCol=\"vec_medicinalproduct\")"
   ]
  },
  {
   "cell_type": "code",
   "execution_count": 51,
   "id": "4ec83d37-4af9-46c8-9301-c9ce7e343a98",
   "metadata": {},
   "outputs": [],
   "source": [
    "data = indexer.fit(data).transform(data)\n",
    "data = encoder.fit(data).transform(data)"
   ]
  },
  {
   "cell_type": "code",
   "execution_count": null,
   "id": "8be1937f-5deb-427a-8811-40e54820ffe0",
   "metadata": {},
   "outputs": [],
   "source": [
    "from pyspark.ml.functions import vector_to_array\n",
    "data = data.withColumn('vec_medicinalproduct_dense', vector_to_array('vec_medicinalproduct'))"
   ]
  },
  {
   "cell_type": "code",
   "execution_count": 53,
   "id": "ae8a868f-b503-42cb-b988-7711fef4653d",
   "metadata": {},
   "outputs": [
    {
     "name": "stdout",
     "output_type": "stream",
     "text": [
      "+----------------+-------------------+--------------------+\n",
      "|medicinalproduct|op_medicinalproduct|vec_medicinalproduct|\n",
      "+----------------+-------------------+--------------------+\n",
      "|        REVLIMID|                0.0|      (16,[0],[1.0])|\n",
      "|        REVLIMID|                0.0|      (16,[0],[1.0])|\n",
      "|        REVLIMID|                0.0|      (16,[0],[1.0])|\n",
      "|         OCREVUS|                3.0|      (16,[3],[1.0])|\n",
      "|     VEDOLIZUMAB|                6.0|      (16,[6],[1.0])|\n",
      "+----------------+-------------------+--------------------+\n",
      "only showing top 5 rows\n",
      "\n"
     ]
    }
   ],
   "source": [
    "data.select([\"medicinalproduct\",\"op_medicinalproduct\",\"vec_medicinalproduct\"]).show(5)"
   ]
  },
  {
   "cell_type": "code",
   "execution_count": 61,
   "id": "42693bbc-5d87-4058-a7b8-98ae45944003",
   "metadata": {},
   "outputs": [
    {
     "name": "stdout",
     "output_type": "stream",
     "text": [
      "root\n",
      " |-- _c0: string (nullable = true)\n",
      " |-- medicinalproduct: string (nullable = true)\n",
      " |-- drugindication: string (nullable = true)\n",
      " |-- reactionmeddrapt: string (nullable = true)\n",
      " |-- activesubstancename: string (nullable = true)\n",
      " |-- seriousnessdeath: string (nullable = true)\n",
      " |-- seriousnesslifethreatening: string (nullable = true)\n",
      " |-- seriousnesshospitalization: string (nullable = true)\n",
      " |-- seriousnessdisabling: string (nullable = true)\n",
      " |-- seriousnesscongenitalanomali: string (nullable = true)\n",
      " |-- seriousnessother: string (nullable = true)\n",
      " |-- patientonsetage: string (nullable = true)\n",
      " |-- reactionoutcome: string (nullable = true)\n",
      " |-- route: string (nullable = true)\n",
      " |-- brand_name: string (nullable = true)\n",
      " |-- generic_name: string (nullable = true)\n",
      " |-- op_medicinalproduct: double (nullable = false)\n",
      " |-- vec_medicinalproduct: vector (nullable = true)\n",
      " |-- vec_medicinalproduct_dense: array (nullable = false)\n",
      " |    |-- element: double (containsNull = false)\n",
      "\n"
     ]
    }
   ],
   "source": [
    "data.printSchema()"
   ]
  },
  {
   "cell_type": "code",
   "execution_count": 66,
   "id": "366ad482-92a9-4dfc-8ede-42a274829fc8",
   "metadata": {},
   "outputs": [],
   "source": [
    "data = [(0.0, Vectors.dense(0.5, 10.0)),\n",
    "        (0.0, Vectors.dense(1.5, 20.0)),\n",
    "        (1.0, Vectors.dense(1.5, 30.0)),\n",
    "        (0.0, Vectors.dense(3.5, 30.0)),\n",
    "        (0.0, Vectors.dense(3.5, 40.0)),\n",
    "        (1.0, Vectors.dense(3.5, 40.0))]\n",
    "df = spark.createDataFrame(data, [\"label\", \"features\"])"
   ]
  },
  {
   "cell_type": "code",
   "execution_count": 68,
   "id": "d5bfa2bd-8456-4490-86c0-4c5d538bbcc2",
   "metadata": {},
   "outputs": [
    {
     "name": "stdout",
     "output_type": "stream",
     "text": [
      "root\n",
      " |-- label: double (nullable = true)\n",
      " |-- features: vector (nullable = true)\n",
      "\n"
     ]
    }
   ],
   "source": [
    "df.printSchema()"
   ]
  },
  {
   "cell_type": "code",
   "execution_count": 69,
   "id": "0155fc01-c8c6-43bd-83fd-ed1e85c4e0b5",
   "metadata": {},
   "outputs": [],
   "source": [
    "from pyspark.ml.feature import VectorAssembler\n",
    "\n",
    "# Assuming seriousnessdeath is a string column\n",
    "updated_data = updated_data.withColumn(\"seriousnessdeath\", updated_data[\"seriousnessdeath\"].cast(\"double\"))\\\n",
    "                           .withColumn(\"reactionoutcome\", updated_data[\"reactionoutcome\"].cast(\"double\"))\\\n",
    "\n",
    "# vec_assembler_seriousnessdeath = VectorAssembler(inputCols=[\"seriousnessdeath\"], outputCol=\"seriousnessdeath_vector\")\n",
    "# updated_data = vec_assembler_seriousnessdeath.transform(updated_data)\n",
    "\n",
    "# # Create vector for 'reactionoutcome'\n",
    "# vec_assembler_reactionoutcome = VectorAssembler(inputCols=[\"reactionoutcome\"], outputCol=\"reactionoutcome_vector\")\n",
    "# updated_data = vec_assembler_reactionoutcome.transform(updated_data)\n"
   ]
  },
  {
   "cell_type": "code",
   "execution_count": null,
   "id": "567b9d8a-4f7d-4f35-8281-7ec23efa0ffd",
   "metadata": {},
   "outputs": [],
   "source": []
  },
  {
   "cell_type": "code",
   "execution_count": 70,
   "id": "f399c2e8-2c4a-4d06-b430-1a56ba2046ba",
   "metadata": {},
   "outputs": [],
   "source": [
    "from pyspark.ml.linalg import Vectors\n",
    "from pyspark.ml.stat import ChiSquareTest"
   ]
  },
  {
   "cell_type": "code",
   "execution_count": 71,
   "id": "d6d107d6-2b05-4eea-9297-ef1465d39412",
   "metadata": {},
   "outputs": [
    {
     "data": {
      "text/plain": [
       "['medicinalproduct',\n",
       " 'drugindication',\n",
       " 'reactionmeddrapt',\n",
       " 'activesubstancename',\n",
       " 'seriousnessdeath',\n",
       " 'seriousnesslifethreatening',\n",
       " 'seriousnesshospitalization',\n",
       " 'seriousnessdisabling',\n",
       " 'seriousnesscongenitalanomali',\n",
       " 'seriousnessother',\n",
       " 'patientonsetage',\n",
       " 'reactionoutcome',\n",
       " 'route',\n",
       " 'brand_name',\n",
       " 'generic_name',\n",
       " 'seriousnessdeath_vector',\n",
       " 'reactionoutcome_vector']"
      ]
     },
     "execution_count": 71,
     "metadata": {},
     "output_type": "execute_result"
    }
   ],
   "source": [
    "updated_data.columns"
   ]
  },
  {
   "cell_type": "code",
   "execution_count": 72,
   "id": "719c3bfa-7eb2-4c67-be07-893e5daf5877",
   "metadata": {},
   "outputs": [
    {
     "name": "stderr",
     "output_type": "stream",
     "text": [
      "----------------------------------------\n",
      "Exception occurred during processing of request from ('127.0.0.1', 59458)\n",
      "ERROR:root:KeyboardInterrupt while sending command.\n",
      "Traceback (most recent call last):\n",
      "  File \"C:\\Users\\Akshay\\anaconda3\\envs\\tf\\lib\\socket.py\", line 704, in readinto\n",
      "    return self._sock.recv_into(b)\n",
      "ConnectionResetError: [WinError 10054] An existing connection was forcibly closed by the remote host\n",
      "\n",
      "During handling of the above exception, another exception occurred:\n",
      "\n",
      "Traceback (most recent call last):\n",
      "  File \"C:\\Users\\Akshay\\anaconda3\\envs\\tf\\lib\\site-packages\\py4j\\java_gateway.py\", line 1038, in send_command\n",
      "    response = connection.send_command(command)\n",
      "  File \"C:\\Users\\Akshay\\anaconda3\\envs\\tf\\lib\\site-packages\\py4j\\clientserver.py\", line 511, in send_command\n",
      "    answer = smart_decode(self.stream.readline()[:-1])\n",
      "  File \"C:\\Users\\Akshay\\anaconda3\\envs\\tf\\lib\\socket.py\", line 704, in readinto\n",
      "    return self._sock.recv_into(b)\n",
      "KeyboardInterrupt\n",
      "Traceback (most recent call last):\n",
      "  File \"C:\\Users\\Akshay\\anaconda3\\envs\\tf\\lib\\socketserver.py\", line 316, in _handle_request_noblock\n",
      "    self.process_request(request, client_address)\n",
      "  File \"C:\\Users\\Akshay\\anaconda3\\envs\\tf\\lib\\socketserver.py\", line 347, in process_request\n",
      "    self.finish_request(request, client_address)\n",
      "  File \"C:\\Users\\Akshay\\anaconda3\\envs\\tf\\lib\\socketserver.py\", line 360, in finish_request\n",
      "    self.RequestHandlerClass(request, client_address, self)\n",
      "  File \"C:\\Users\\Akshay\\anaconda3\\envs\\tf\\lib\\socketserver.py\", line 747, in __init__\n",
      "    self.handle()\n",
      "  File \"C:\\Users\\Akshay\\anaconda3\\envs\\tf\\lib\\site-packages\\pyspark\\accumulators.py\", line 295, in handle\n",
      "    poll(accum_updates)\n",
      "  File \"C:\\Users\\Akshay\\anaconda3\\envs\\tf\\lib\\site-packages\\pyspark\\accumulators.py\", line 267, in poll\n",
      "    if self.rfile in r and func():\n",
      "  File \"C:\\Users\\Akshay\\anaconda3\\envs\\tf\\lib\\site-packages\\pyspark\\accumulators.py\", line 271, in accum_updates\n",
      "    num_updates = read_int(self.rfile)\n",
      "  File \"C:\\Users\\Akshay\\anaconda3\\envs\\tf\\lib\\site-packages\\pyspark\\serializers.py\", line 594, in read_int\n",
      "    length = stream.read(4)\n",
      "  File \"C:\\Users\\Akshay\\anaconda3\\envs\\tf\\lib\\socket.py\", line 704, in readinto\n",
      "    return self._sock.recv_into(b)\n",
      "ConnectionResetError: [WinError 10054] An existing connection was forcibly closed by the remote host\n",
      "----------------------------------------\n"
     ]
    },
    {
     "ename": "KeyboardInterrupt",
     "evalue": "",
     "output_type": "error",
     "traceback": [
      "\u001b[1;31m---------------------------------------------------------------------------\u001b[0m",
      "\u001b[1;31mConnectionResetError\u001b[0m                      Traceback (most recent call last)",
      "File \u001b[1;32m~\\anaconda3\\envs\\tf\\lib\\socket.py:704\u001b[0m, in \u001b[0;36mSocketIO.readinto\u001b[1;34m(self, b)\u001b[0m\n\u001b[0;32m    703\u001b[0m \u001b[38;5;28;01mtry\u001b[39;00m:\n\u001b[1;32m--> 704\u001b[0m     \u001b[38;5;28;01mreturn\u001b[39;00m \u001b[38;5;28;43mself\u001b[39;49m\u001b[38;5;241;43m.\u001b[39;49m\u001b[43m_sock\u001b[49m\u001b[38;5;241;43m.\u001b[39;49m\u001b[43mrecv_into\u001b[49m\u001b[43m(\u001b[49m\u001b[43mb\u001b[49m\u001b[43m)\u001b[49m\n\u001b[0;32m    705\u001b[0m \u001b[38;5;28;01mexcept\u001b[39;00m timeout:\n",
      "\u001b[1;31mConnectionResetError\u001b[0m: [WinError 10054] An existing connection was forcibly closed by the remote host",
      "\nDuring handling of the above exception, another exception occurred:\n",
      "\u001b[1;31mKeyboardInterrupt\u001b[0m                         Traceback (most recent call last)",
      "Cell \u001b[1;32mIn[72], line 1\u001b[0m\n\u001b[1;32m----> 1\u001b[0m \u001b[43mupdated_data\u001b[49m\u001b[38;5;241;43m.\u001b[39;49m\u001b[43mselect\u001b[49m\u001b[43m(\u001b[49m\u001b[38;5;124;43m\"\u001b[39;49m\u001b[38;5;124;43mseriousnessdeath\u001b[39;49m\u001b[38;5;124;43m\"\u001b[39;49m\u001b[43m,\u001b[49m\u001b[43m \u001b[49m\u001b[38;5;124;43m\"\u001b[39;49m\u001b[38;5;124;43mreactionoutcome\u001b[39;49m\u001b[38;5;124;43m\"\u001b[39;49m\u001b[43m)\u001b[49m\u001b[38;5;241;43m.\u001b[39;49m\u001b[43mshow\u001b[49m\u001b[43m(\u001b[49m\u001b[43mtruncate\u001b[49m\u001b[38;5;241;43m=\u001b[39;49m\u001b[38;5;28;43;01mFalse\u001b[39;49;00m\u001b[43m)\u001b[49m\n",
      "File \u001b[1;32m~\\anaconda3\\envs\\tf\\lib\\site-packages\\pyspark\\sql\\dataframe.py:947\u001b[0m, in \u001b[0;36mDataFrame.show\u001b[1;34m(self, n, truncate, vertical)\u001b[0m\n\u001b[0;32m    887\u001b[0m \u001b[38;5;28;01mdef\u001b[39;00m \u001b[38;5;21mshow\u001b[39m(\u001b[38;5;28mself\u001b[39m, n: \u001b[38;5;28mint\u001b[39m \u001b[38;5;241m=\u001b[39m \u001b[38;5;241m20\u001b[39m, truncate: Union[\u001b[38;5;28mbool\u001b[39m, \u001b[38;5;28mint\u001b[39m] \u001b[38;5;241m=\u001b[39m \u001b[38;5;28;01mTrue\u001b[39;00m, vertical: \u001b[38;5;28mbool\u001b[39m \u001b[38;5;241m=\u001b[39m \u001b[38;5;28;01mFalse\u001b[39;00m) \u001b[38;5;241m-\u001b[39m\u001b[38;5;241m>\u001b[39m \u001b[38;5;28;01mNone\u001b[39;00m:\n\u001b[0;32m    888\u001b[0m \u001b[38;5;250m    \u001b[39m\u001b[38;5;124;03m\"\"\"Prints the first ``n`` rows to the console.\u001b[39;00m\n\u001b[0;32m    889\u001b[0m \n\u001b[0;32m    890\u001b[0m \u001b[38;5;124;03m    .. versionadded:: 1.3.0\u001b[39;00m\n\u001b[1;32m   (...)\u001b[0m\n\u001b[0;32m    945\u001b[0m \u001b[38;5;124;03m    name | Bob\u001b[39;00m\n\u001b[0;32m    946\u001b[0m \u001b[38;5;124;03m    \"\"\"\u001b[39;00m\n\u001b[1;32m--> 947\u001b[0m     \u001b[38;5;28mprint\u001b[39m(\u001b[38;5;28;43mself\u001b[39;49m\u001b[38;5;241;43m.\u001b[39;49m\u001b[43m_show_string\u001b[49m\u001b[43m(\u001b[49m\u001b[43mn\u001b[49m\u001b[43m,\u001b[49m\u001b[43m \u001b[49m\u001b[43mtruncate\u001b[49m\u001b[43m,\u001b[49m\u001b[43m \u001b[49m\u001b[43mvertical\u001b[49m\u001b[43m)\u001b[49m)\n",
      "File \u001b[1;32m~\\anaconda3\\envs\\tf\\lib\\site-packages\\pyspark\\sql\\dataframe.py:978\u001b[0m, in \u001b[0;36mDataFrame._show_string\u001b[1;34m(self, n, truncate, vertical)\u001b[0m\n\u001b[0;32m    969\u001b[0m \u001b[38;5;28;01mexcept\u001b[39;00m \u001b[38;5;167;01mValueError\u001b[39;00m:\n\u001b[0;32m    970\u001b[0m     \u001b[38;5;28;01mraise\u001b[39;00m PySparkTypeError(\n\u001b[0;32m    971\u001b[0m         error_class\u001b[38;5;241m=\u001b[39m\u001b[38;5;124m\"\u001b[39m\u001b[38;5;124mNOT_BOOL\u001b[39m\u001b[38;5;124m\"\u001b[39m,\n\u001b[0;32m    972\u001b[0m         message_parameters\u001b[38;5;241m=\u001b[39m{\n\u001b[1;32m   (...)\u001b[0m\n\u001b[0;32m    975\u001b[0m         },\n\u001b[0;32m    976\u001b[0m     )\n\u001b[1;32m--> 978\u001b[0m \u001b[38;5;28;01mreturn\u001b[39;00m \u001b[38;5;28;43mself\u001b[39;49m\u001b[38;5;241;43m.\u001b[39;49m\u001b[43m_jdf\u001b[49m\u001b[38;5;241;43m.\u001b[39;49m\u001b[43mshowString\u001b[49m\u001b[43m(\u001b[49m\u001b[43mn\u001b[49m\u001b[43m,\u001b[49m\u001b[43m \u001b[49m\u001b[43mint_truncate\u001b[49m\u001b[43m,\u001b[49m\u001b[43m \u001b[49m\u001b[43mvertical\u001b[49m\u001b[43m)\u001b[49m\n",
      "File \u001b[1;32m~\\anaconda3\\envs\\tf\\lib\\site-packages\\py4j\\java_gateway.py:1321\u001b[0m, in \u001b[0;36mJavaMember.__call__\u001b[1;34m(self, *args)\u001b[0m\n\u001b[0;32m   1314\u001b[0m args_command, temp_args \u001b[38;5;241m=\u001b[39m \u001b[38;5;28mself\u001b[39m\u001b[38;5;241m.\u001b[39m_build_args(\u001b[38;5;241m*\u001b[39margs)\n\u001b[0;32m   1316\u001b[0m command \u001b[38;5;241m=\u001b[39m proto\u001b[38;5;241m.\u001b[39mCALL_COMMAND_NAME \u001b[38;5;241m+\u001b[39m\\\n\u001b[0;32m   1317\u001b[0m     \u001b[38;5;28mself\u001b[39m\u001b[38;5;241m.\u001b[39mcommand_header \u001b[38;5;241m+\u001b[39m\\\n\u001b[0;32m   1318\u001b[0m     args_command \u001b[38;5;241m+\u001b[39m\\\n\u001b[0;32m   1319\u001b[0m     proto\u001b[38;5;241m.\u001b[39mEND_COMMAND_PART\n\u001b[1;32m-> 1321\u001b[0m answer \u001b[38;5;241m=\u001b[39m \u001b[38;5;28;43mself\u001b[39;49m\u001b[38;5;241;43m.\u001b[39;49m\u001b[43mgateway_client\u001b[49m\u001b[38;5;241;43m.\u001b[39;49m\u001b[43msend_command\u001b[49m\u001b[43m(\u001b[49m\u001b[43mcommand\u001b[49m\u001b[43m)\u001b[49m\n\u001b[0;32m   1322\u001b[0m return_value \u001b[38;5;241m=\u001b[39m get_return_value(\n\u001b[0;32m   1323\u001b[0m     answer, \u001b[38;5;28mself\u001b[39m\u001b[38;5;241m.\u001b[39mgateway_client, \u001b[38;5;28mself\u001b[39m\u001b[38;5;241m.\u001b[39mtarget_id, \u001b[38;5;28mself\u001b[39m\u001b[38;5;241m.\u001b[39mname)\n\u001b[0;32m   1325\u001b[0m \u001b[38;5;28;01mfor\u001b[39;00m temp_arg \u001b[38;5;129;01min\u001b[39;00m temp_args:\n",
      "File \u001b[1;32m~\\anaconda3\\envs\\tf\\lib\\site-packages\\py4j\\java_gateway.py:1038\u001b[0m, in \u001b[0;36mGatewayClient.send_command\u001b[1;34m(self, command, retry, binary)\u001b[0m\n\u001b[0;32m   1036\u001b[0m connection \u001b[38;5;241m=\u001b[39m \u001b[38;5;28mself\u001b[39m\u001b[38;5;241m.\u001b[39m_get_connection()\n\u001b[0;32m   1037\u001b[0m \u001b[38;5;28;01mtry\u001b[39;00m:\n\u001b[1;32m-> 1038\u001b[0m     response \u001b[38;5;241m=\u001b[39m \u001b[43mconnection\u001b[49m\u001b[38;5;241;43m.\u001b[39;49m\u001b[43msend_command\u001b[49m\u001b[43m(\u001b[49m\u001b[43mcommand\u001b[49m\u001b[43m)\u001b[49m\n\u001b[0;32m   1039\u001b[0m     \u001b[38;5;28;01mif\u001b[39;00m binary:\n\u001b[0;32m   1040\u001b[0m         \u001b[38;5;28;01mreturn\u001b[39;00m response, \u001b[38;5;28mself\u001b[39m\u001b[38;5;241m.\u001b[39m_create_connection_guard(connection)\n",
      "File \u001b[1;32m~\\anaconda3\\envs\\tf\\lib\\site-packages\\py4j\\clientserver.py:511\u001b[0m, in \u001b[0;36mClientServerConnection.send_command\u001b[1;34m(self, command)\u001b[0m\n\u001b[0;32m    509\u001b[0m \u001b[38;5;28;01mtry\u001b[39;00m:\n\u001b[0;32m    510\u001b[0m     \u001b[38;5;28;01mwhile\u001b[39;00m \u001b[38;5;28;01mTrue\u001b[39;00m:\n\u001b[1;32m--> 511\u001b[0m         answer \u001b[38;5;241m=\u001b[39m smart_decode(\u001b[38;5;28;43mself\u001b[39;49m\u001b[38;5;241;43m.\u001b[39;49m\u001b[43mstream\u001b[49m\u001b[38;5;241;43m.\u001b[39;49m\u001b[43mreadline\u001b[49m\u001b[43m(\u001b[49m\u001b[43m)\u001b[49m[:\u001b[38;5;241m-\u001b[39m\u001b[38;5;241m1\u001b[39m])\n\u001b[0;32m    512\u001b[0m         logger\u001b[38;5;241m.\u001b[39mdebug(\u001b[38;5;124m\"\u001b[39m\u001b[38;5;124mAnswer received: \u001b[39m\u001b[38;5;132;01m{0}\u001b[39;00m\u001b[38;5;124m\"\u001b[39m\u001b[38;5;241m.\u001b[39mformat(answer))\n\u001b[0;32m    513\u001b[0m         \u001b[38;5;66;03m# Happens when a the other end is dead. There might be an empty\u001b[39;00m\n\u001b[0;32m    514\u001b[0m         \u001b[38;5;66;03m# answer before the socket raises an error.\u001b[39;00m\n",
      "File \u001b[1;32m~\\anaconda3\\envs\\tf\\lib\\socket.py:704\u001b[0m, in \u001b[0;36mSocketIO.readinto\u001b[1;34m(self, b)\u001b[0m\n\u001b[0;32m    702\u001b[0m \u001b[38;5;28;01mwhile\u001b[39;00m \u001b[38;5;28;01mTrue\u001b[39;00m:\n\u001b[0;32m    703\u001b[0m     \u001b[38;5;28;01mtry\u001b[39;00m:\n\u001b[1;32m--> 704\u001b[0m         \u001b[38;5;28;01mreturn\u001b[39;00m \u001b[38;5;28;43mself\u001b[39;49m\u001b[38;5;241;43m.\u001b[39;49m\u001b[43m_sock\u001b[49m\u001b[38;5;241;43m.\u001b[39;49m\u001b[43mrecv_into\u001b[49m\u001b[43m(\u001b[49m\u001b[43mb\u001b[49m\u001b[43m)\u001b[49m\n\u001b[0;32m    705\u001b[0m     \u001b[38;5;28;01mexcept\u001b[39;00m timeout:\n\u001b[0;32m    706\u001b[0m         \u001b[38;5;28mself\u001b[39m\u001b[38;5;241m.\u001b[39m_timeout_occurred \u001b[38;5;241m=\u001b[39m \u001b[38;5;28;01mTrue\u001b[39;00m\n",
      "\u001b[1;31mKeyboardInterrupt\u001b[0m: "
     ]
    }
   ],
   "source": [
    "# updated_data.select(\"seriousnessdeath\", \"reactionoutcome\").show(truncate=False)"
   ]
  },
  {
   "cell_type": "code",
   "execution_count": null,
   "id": "9bd74f0f-8bc5-498c-a365-a3844f49b29a",
   "metadata": {},
   "outputs": [],
   "source": [
    "r = ChiSquareTest.test(updated_data, \"seriousnessdeath\", \"reactionoutcome\").head()\n",
    "print(\"pValues: \" + str(r.pValues))\n",
    "print(\"degreesOfFreedom: \" + str(r.degreesOfFreedom))\n",
    "print(\"statistics: \" + str(r.statistics))"
   ]
  },
  {
   "cell_type": "markdown",
   "id": "90731ba0-b010-4889-825a-ff2e68078c42",
   "metadata": {},
   "source": [
    "## Data Cleaning"
   ]
  },
  {
   "cell_type": "code",
   "execution_count": 48,
   "id": "fe3bd6a3-5f5e-40d9-a022-14d4119c260e",
   "metadata": {},
   "outputs": [],
   "source": [
    "pandas_df = updated_data.toPandas()"
   ]
  },
  {
   "cell_type": "code",
   "execution_count": 49,
   "id": "0006e3d7-2e8c-4491-9bc1-1ac1d141356c",
   "metadata": {
    "scrolled": true
   },
   "outputs": [
    {
     "data": {
      "text/html": [
       "<div>\n",
       "<style scoped>\n",
       "    .dataframe tbody tr th:only-of-type {\n",
       "        vertical-align: middle;\n",
       "    }\n",
       "\n",
       "    .dataframe tbody tr th {\n",
       "        vertical-align: top;\n",
       "    }\n",
       "\n",
       "    .dataframe thead th {\n",
       "        text-align: right;\n",
       "    }\n",
       "</style>\n",
       "<table border=\"1\" class=\"dataframe\">\n",
       "  <thead>\n",
       "    <tr style=\"text-align: right;\">\n",
       "      <th></th>\n",
       "      <th>medicinalproduct</th>\n",
       "      <th>drugindication</th>\n",
       "      <th>reactionmeddrapt</th>\n",
       "      <th>activesubstancename</th>\n",
       "      <th>seriousnessdeath</th>\n",
       "      <th>seriousnesslifethreatening</th>\n",
       "      <th>seriousnesshospitalization</th>\n",
       "      <th>seriousnessdisabling</th>\n",
       "      <th>seriousnesscongenitalanomali</th>\n",
       "      <th>seriousnessother</th>\n",
       "      <th>patientonsetage</th>\n",
       "      <th>reactionoutcome</th>\n",
       "      <th>route</th>\n",
       "      <th>brand_name</th>\n",
       "      <th>generic_name</th>\n",
       "    </tr>\n",
       "  </thead>\n",
       "  <tbody>\n",
       "    <tr>\n",
       "      <th>0</th>\n",
       "      <td>NAPROXEN SODIUM</td>\n",
       "      <td>Headache</td>\n",
       "      <td>Asthenia</td>\n",
       "      <td>NAPROXEN\\NAPROXEN SODIUM</td>\n",
       "      <td>2</td>\n",
       "      <td>1</td>\n",
       "      <td>1</td>\n",
       "      <td>1</td>\n",
       "      <td>2</td>\n",
       "      <td>1</td>\n",
       "      <td>43</td>\n",
       "      <td>3</td>\n",
       "      <td>[ORAL]</td>\n",
       "      <td>[NAPROXEN SODIUM, LIL DRUG STORE PAIN RELIEF A...</td>\n",
       "      <td>[NAPROXEN SODIUM, NAPROXEN SODIUM, COATED TABL...</td>\n",
       "    </tr>\n",
       "    <tr>\n",
       "      <th>1</th>\n",
       "      <td>NAPROXEN SODIUM</td>\n",
       "      <td>Headache</td>\n",
       "      <td>Arthropathy</td>\n",
       "      <td>NAPROXEN\\NAPROXEN SODIUM</td>\n",
       "      <td>2</td>\n",
       "      <td>1</td>\n",
       "      <td>1</td>\n",
       "      <td>1</td>\n",
       "      <td>2</td>\n",
       "      <td>1</td>\n",
       "      <td>43</td>\n",
       "      <td>3</td>\n",
       "      <td>[ORAL]</td>\n",
       "      <td>[NAPROXEN SODIUM, LIL DRUG STORE PAIN RELIEF A...</td>\n",
       "      <td>[NAPROXEN SODIUM, NAPROXEN SODIUM, COATED TABL...</td>\n",
       "    </tr>\n",
       "    <tr>\n",
       "      <th>2</th>\n",
       "      <td>NAPROXEN SODIUM</td>\n",
       "      <td>Headache</td>\n",
       "      <td>Arthralgia</td>\n",
       "      <td>NAPROXEN\\NAPROXEN SODIUM</td>\n",
       "      <td>2</td>\n",
       "      <td>1</td>\n",
       "      <td>1</td>\n",
       "      <td>1</td>\n",
       "      <td>2</td>\n",
       "      <td>1</td>\n",
       "      <td>43</td>\n",
       "      <td>2</td>\n",
       "      <td>[ORAL]</td>\n",
       "      <td>[NAPROXEN SODIUM, LIL DRUG STORE PAIN RELIEF A...</td>\n",
       "      <td>[NAPROXEN SODIUM, NAPROXEN SODIUM, COATED TABL...</td>\n",
       "    </tr>\n",
       "    <tr>\n",
       "      <th>3</th>\n",
       "      <td>NAPROXEN SODIUM</td>\n",
       "      <td>Headache</td>\n",
       "      <td>Arthralgia</td>\n",
       "      <td>NAPROXEN\\NAPROXEN SODIUM</td>\n",
       "      <td>1</td>\n",
       "      <td>1</td>\n",
       "      <td>1</td>\n",
       "      <td>1</td>\n",
       "      <td>2</td>\n",
       "      <td>1</td>\n",
       "      <td>43</td>\n",
       "      <td>5</td>\n",
       "      <td>[ORAL]</td>\n",
       "      <td>[NAPROXEN SODIUM, LIL DRUG STORE PAIN RELIEF A...</td>\n",
       "      <td>[NAPROXEN SODIUM, NAPROXEN SODIUM, COATED TABL...</td>\n",
       "    </tr>\n",
       "    <tr>\n",
       "      <th>4</th>\n",
       "      <td>NAPROXEN SODIUM</td>\n",
       "      <td>Headache</td>\n",
       "      <td>Nausea</td>\n",
       "      <td>NAPROXEN\\NAPROXEN SODIUM</td>\n",
       "      <td>2</td>\n",
       "      <td>1</td>\n",
       "      <td>1</td>\n",
       "      <td>1</td>\n",
       "      <td>2</td>\n",
       "      <td>1</td>\n",
       "      <td>43</td>\n",
       "      <td>2</td>\n",
       "      <td>[ORAL]</td>\n",
       "      <td>[NAPROXEN SODIUM, LIL DRUG STORE PAIN RELIEF A...</td>\n",
       "      <td>[NAPROXEN SODIUM, NAPROXEN SODIUM, COATED TABL...</td>\n",
       "    </tr>\n",
       "    <tr>\n",
       "      <th>...</th>\n",
       "      <td>...</td>\n",
       "      <td>...</td>\n",
       "      <td>...</td>\n",
       "      <td>...</td>\n",
       "      <td>...</td>\n",
       "      <td>...</td>\n",
       "      <td>...</td>\n",
       "      <td>...</td>\n",
       "      <td>...</td>\n",
       "      <td>...</td>\n",
       "      <td>...</td>\n",
       "      <td>...</td>\n",
       "      <td>...</td>\n",
       "      <td>...</td>\n",
       "      <td>...</td>\n",
       "    </tr>\n",
       "    <tr>\n",
       "      <th>462088</th>\n",
       "      <td>ADALIMUMAB</td>\n",
       "      <td>Psoriasis</td>\n",
       "      <td>Crohn^s disease</td>\n",
       "      <td>ADALIMUMAB</td>\n",
       "      <td>2</td>\n",
       "      <td>2</td>\n",
       "      <td>2</td>\n",
       "      <td>2</td>\n",
       "      <td>2</td>\n",
       "      <td>1</td>\n",
       "      <td>26</td>\n",
       "      <td>1</td>\n",
       "      <td>[SUBCUTANEOUS]</td>\n",
       "      <td>[IDACIO, HUMIRA, ADALIMUMAB, YUFLYMA, ADALIMUM...</td>\n",
       "      <td>[ADALIMUMAB, ADALIMUMAB-AATY, ADALIMUMAB-FKJP]</td>\n",
       "    </tr>\n",
       "    <tr>\n",
       "      <th>462089</th>\n",
       "      <td>ADALIMUMAB</td>\n",
       "      <td>Psoriasis</td>\n",
       "      <td>Psoriasis</td>\n",
       "      <td>ADALIMUMAB</td>\n",
       "      <td>2</td>\n",
       "      <td>2</td>\n",
       "      <td>1</td>\n",
       "      <td>2</td>\n",
       "      <td>2</td>\n",
       "      <td>2</td>\n",
       "      <td>60</td>\n",
       "      <td>6</td>\n",
       "      <td>[SUBCUTANEOUS]</td>\n",
       "      <td>[IDACIO, HUMIRA, ADALIMUMAB, YUFLYMA, ADALIMUM...</td>\n",
       "      <td>[ADALIMUMAB, ADALIMUMAB-AATY, ADALIMUMAB-FKJP]</td>\n",
       "    </tr>\n",
       "    <tr>\n",
       "      <th>462090</th>\n",
       "      <td>ADALIMUMAB</td>\n",
       "      <td>Psoriasis</td>\n",
       "      <td>Psoriasis</td>\n",
       "      <td>ADALIMUMAB</td>\n",
       "      <td>2</td>\n",
       "      <td>2</td>\n",
       "      <td>1</td>\n",
       "      <td>2</td>\n",
       "      <td>2</td>\n",
       "      <td>2</td>\n",
       "      <td>60</td>\n",
       "      <td>6</td>\n",
       "      <td>[SUBCUTANEOUS]</td>\n",
       "      <td>[IDACIO, HUMIRA, ADALIMUMAB, YUFLYMA, ADALIMUM...</td>\n",
       "      <td>[ADALIMUMAB, ADALIMUMAB-AATY, ADALIMUMAB-FKJP]</td>\n",
       "    </tr>\n",
       "    <tr>\n",
       "      <th>462091</th>\n",
       "      <td>ADALIMUMAB</td>\n",
       "      <td>Psoriasis</td>\n",
       "      <td>Psoriasis</td>\n",
       "      <td>ADALIMUMAB</td>\n",
       "      <td>2</td>\n",
       "      <td>2</td>\n",
       "      <td>1</td>\n",
       "      <td>2</td>\n",
       "      <td>2</td>\n",
       "      <td>2</td>\n",
       "      <td>60</td>\n",
       "      <td>6</td>\n",
       "      <td>[SUBCUTANEOUS]</td>\n",
       "      <td>[IDACIO, HUMIRA, ADALIMUMAB, YUFLYMA, ADALIMUM...</td>\n",
       "      <td>[ADALIMUMAB, ADALIMUMAB-AATY, ADALIMUMAB-FKJP]</td>\n",
       "    </tr>\n",
       "    <tr>\n",
       "      <th>462092</th>\n",
       "      <td>ADALIMUMAB</td>\n",
       "      <td>Inflammation</td>\n",
       "      <td>Maternal exposure during pregnancy</td>\n",
       "      <td>ADALIMUMAB</td>\n",
       "      <td>2</td>\n",
       "      <td>2</td>\n",
       "      <td>2</td>\n",
       "      <td>2</td>\n",
       "      <td>2</td>\n",
       "      <td>1</td>\n",
       "      <td>37</td>\n",
       "      <td>6</td>\n",
       "      <td>[SUBCUTANEOUS]</td>\n",
       "      <td>[IDACIO, HUMIRA, ADALIMUMAB, YUFLYMA, ADALIMUM...</td>\n",
       "      <td>[ADALIMUMAB, ADALIMUMAB-AATY, ADALIMUMAB-FKJP]</td>\n",
       "    </tr>\n",
       "  </tbody>\n",
       "</table>\n",
       "<p>462093 rows × 15 columns</p>\n",
       "</div>"
      ],
      "text/plain": [
       "       medicinalproduct drugindication                    reactionmeddrapt  \\\n",
       "0       NAPROXEN SODIUM       Headache                            Asthenia   \n",
       "1       NAPROXEN SODIUM       Headache                         Arthropathy   \n",
       "2       NAPROXEN SODIUM       Headache                          Arthralgia   \n",
       "3       NAPROXEN SODIUM       Headache                          Arthralgia   \n",
       "4       NAPROXEN SODIUM       Headache                              Nausea   \n",
       "...                 ...            ...                                 ...   \n",
       "462088       ADALIMUMAB      Psoriasis                     Crohn^s disease   \n",
       "462089       ADALIMUMAB      Psoriasis                           Psoriasis   \n",
       "462090       ADALIMUMAB      Psoriasis                           Psoriasis   \n",
       "462091       ADALIMUMAB      Psoriasis                           Psoriasis   \n",
       "462092       ADALIMUMAB   Inflammation  Maternal exposure during pregnancy   \n",
       "\n",
       "             activesubstancename seriousnessdeath seriousnesslifethreatening  \\\n",
       "0       NAPROXEN\\NAPROXEN SODIUM                2                          1   \n",
       "1       NAPROXEN\\NAPROXEN SODIUM                2                          1   \n",
       "2       NAPROXEN\\NAPROXEN SODIUM                2                          1   \n",
       "3       NAPROXEN\\NAPROXEN SODIUM                1                          1   \n",
       "4       NAPROXEN\\NAPROXEN SODIUM                2                          1   \n",
       "...                          ...              ...                        ...   \n",
       "462088                ADALIMUMAB                2                          2   \n",
       "462089                ADALIMUMAB                2                          2   \n",
       "462090                ADALIMUMAB                2                          2   \n",
       "462091                ADALIMUMAB                2                          2   \n",
       "462092                ADALIMUMAB                2                          2   \n",
       "\n",
       "       seriousnesshospitalization seriousnessdisabling  \\\n",
       "0                               1                    1   \n",
       "1                               1                    1   \n",
       "2                               1                    1   \n",
       "3                               1                    1   \n",
       "4                               1                    1   \n",
       "...                           ...                  ...   \n",
       "462088                          2                    2   \n",
       "462089                          1                    2   \n",
       "462090                          1                    2   \n",
       "462091                          1                    2   \n",
       "462092                          2                    2   \n",
       "\n",
       "       seriousnesscongenitalanomali seriousnessother patientonsetage  \\\n",
       "0                                 2                1              43   \n",
       "1                                 2                1              43   \n",
       "2                                 2                1              43   \n",
       "3                                 2                1              43   \n",
       "4                                 2                1              43   \n",
       "...                             ...              ...             ...   \n",
       "462088                            2                1              26   \n",
       "462089                            2                2              60   \n",
       "462090                            2                2              60   \n",
       "462091                            2                2              60   \n",
       "462092                            2                1              37   \n",
       "\n",
       "       reactionoutcome           route  \\\n",
       "0                    3          [ORAL]   \n",
       "1                    3          [ORAL]   \n",
       "2                    2          [ORAL]   \n",
       "3                    5          [ORAL]   \n",
       "4                    2          [ORAL]   \n",
       "...                ...             ...   \n",
       "462088               1  [SUBCUTANEOUS]   \n",
       "462089               6  [SUBCUTANEOUS]   \n",
       "462090               6  [SUBCUTANEOUS]   \n",
       "462091               6  [SUBCUTANEOUS]   \n",
       "462092               6  [SUBCUTANEOUS]   \n",
       "\n",
       "                                               brand_name  \\\n",
       "0       [NAPROXEN SODIUM, LIL DRUG STORE PAIN RELIEF A...   \n",
       "1       [NAPROXEN SODIUM, LIL DRUG STORE PAIN RELIEF A...   \n",
       "2       [NAPROXEN SODIUM, LIL DRUG STORE PAIN RELIEF A...   \n",
       "3       [NAPROXEN SODIUM, LIL DRUG STORE PAIN RELIEF A...   \n",
       "4       [NAPROXEN SODIUM, LIL DRUG STORE PAIN RELIEF A...   \n",
       "...                                                   ...   \n",
       "462088  [IDACIO, HUMIRA, ADALIMUMAB, YUFLYMA, ADALIMUM...   \n",
       "462089  [IDACIO, HUMIRA, ADALIMUMAB, YUFLYMA, ADALIMUM...   \n",
       "462090  [IDACIO, HUMIRA, ADALIMUMAB, YUFLYMA, ADALIMUM...   \n",
       "462091  [IDACIO, HUMIRA, ADALIMUMAB, YUFLYMA, ADALIMUM...   \n",
       "462092  [IDACIO, HUMIRA, ADALIMUMAB, YUFLYMA, ADALIMUM...   \n",
       "\n",
       "                                             generic_name  \n",
       "0       [NAPROXEN SODIUM, NAPROXEN SODIUM, COATED TABL...  \n",
       "1       [NAPROXEN SODIUM, NAPROXEN SODIUM, COATED TABL...  \n",
       "2       [NAPROXEN SODIUM, NAPROXEN SODIUM, COATED TABL...  \n",
       "3       [NAPROXEN SODIUM, NAPROXEN SODIUM, COATED TABL...  \n",
       "4       [NAPROXEN SODIUM, NAPROXEN SODIUM, COATED TABL...  \n",
       "...                                                   ...  \n",
       "462088     [ADALIMUMAB, ADALIMUMAB-AATY, ADALIMUMAB-FKJP]  \n",
       "462089     [ADALIMUMAB, ADALIMUMAB-AATY, ADALIMUMAB-FKJP]  \n",
       "462090     [ADALIMUMAB, ADALIMUMAB-AATY, ADALIMUMAB-FKJP]  \n",
       "462091     [ADALIMUMAB, ADALIMUMAB-AATY, ADALIMUMAB-FKJP]  \n",
       "462092     [ADALIMUMAB, ADALIMUMAB-AATY, ADALIMUMAB-FKJP]  \n",
       "\n",
       "[462093 rows x 15 columns]"
      ]
     },
     "execution_count": 49,
     "metadata": {},
     "output_type": "execute_result"
    }
   ],
   "source": [
    "pandas_df.dropna()"
   ]
  },
  {
   "cell_type": "code",
   "execution_count": 50,
   "id": "066fffed-cce2-43ba-800f-235356dfc148",
   "metadata": {},
   "outputs": [],
   "source": [
    "# pandas_df[\"medicinalproduct\"].value_counts()"
   ]
  },
  {
   "cell_type": "code",
   "execution_count": null,
   "id": "9651bff8-40ed-4482-b8d5-c4b9f13e0cbf",
   "metadata": {},
   "outputs": [],
   "source": []
  },
  {
   "cell_type": "code",
   "execution_count": null,
   "id": "1c11e934-d4f1-49dd-be11-6b9b4980dd12",
   "metadata": {},
   "outputs": [],
   "source": []
  },
  {
   "cell_type": "markdown",
   "id": "b542410e-4470-46ab-9b88-78058fb4058a",
   "metadata": {},
   "source": [
    "### Removing Null Values"
   ]
  },
  {
   "cell_type": "code",
   "execution_count": null,
   "id": "32f7dad2-973a-4ab7-8d3e-6808e9a963c7",
   "metadata": {},
   "outputs": [],
   "source": []
  },
  {
   "cell_type": "code",
   "execution_count": null,
   "id": "b0f666c6-6a74-4d30-afcc-dc29ee468160",
   "metadata": {},
   "outputs": [],
   "source": []
  },
  {
   "cell_type": "code",
   "execution_count": null,
   "id": "d16249c2-4a60-486d-9536-9131e6070d7f",
   "metadata": {},
   "outputs": [],
   "source": []
  },
  {
   "cell_type": "code",
   "execution_count": null,
   "id": "4955a30f-ec0c-4c0a-8a1f-6eafbc040366",
   "metadata": {},
   "outputs": [],
   "source": [
    "updated_data.na.drop().toPandas().to_csv(\"test1.csv\")"
   ]
  },
  {
   "cell_type": "code",
   "execution_count": null,
   "id": "356eb7d9-6d20-475f-b62d-35de89caccaa",
   "metadata": {},
   "outputs": [],
   "source": [
    "# os.environ[\"HADOOP_HOME\"] = \"C:/hadoop/hadoop-2.8.3\"\n",
    "# os.environ[\"PATH\"] = \"C:/hadoop/hadoop-2.8.3/bin\"\n",
    "# updated_data.write.csv(\"./test1.csv\", mode=\"overwrite\", header=True)"
   ]
  },
  {
   "cell_type": "code",
   "execution_count": null,
   "id": "90d4702c-6c9c-43ae-a938-e3aff56505a3",
   "metadata": {},
   "outputs": [],
   "source": [
    "# updated_data.write.parquet(\"output_parquet_path\", mode=\"overwrite\")"
   ]
  },
  {
   "cell_type": "code",
   "execution_count": null,
   "id": "2ec18a83-9aa3-470c-80e3-3dedc278e074",
   "metadata": {},
   "outputs": [],
   "source": []
  }
 ],
 "metadata": {
  "kernelspec": {
   "display_name": "Python 3 (ipykernel)",
   "language": "python",
   "name": "python3"
  },
  "language_info": {
   "codemirror_mode": {
    "name": "ipython",
    "version": 3
   },
   "file_extension": ".py",
   "mimetype": "text/x-python",
   "name": "python",
   "nbconvert_exporter": "python",
   "pygments_lexer": "ipython3",
   "version": "3.9.19"
  }
 },
 "nbformat": 4,
 "nbformat_minor": 5
}
