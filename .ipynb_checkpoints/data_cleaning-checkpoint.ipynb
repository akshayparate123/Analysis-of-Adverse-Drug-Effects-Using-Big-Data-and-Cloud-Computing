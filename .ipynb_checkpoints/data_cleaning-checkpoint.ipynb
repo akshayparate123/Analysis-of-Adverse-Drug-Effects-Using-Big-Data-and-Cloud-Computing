{
 "cells": [
  {
   "cell_type": "markdown",
   "id": "d1b15426-3dfa-4dca-863f-3b15b28ceb2b",
   "metadata": {},
   "source": [
    "## Data Transformation from JSON to Dataframe"
   ]
  },
  {
   "cell_type": "markdown",
   "id": "bb452bf6-9bb4-4e95-a424-8a557339e46f",
   "metadata": {},
   "source": [
    "### All Imports"
   ]
  },
  {
   "cell_type": "code",
   "execution_count": 1,
   "id": "0baf9c78-0175-4ef9-a584-238e900fa30b",
   "metadata": {},
   "outputs": [],
   "source": [
    "import pandas as pd\n",
    "import numpy as np\n",
    "import seaborn as sns\n",
    "from pyspark.sql import SparkSession\n",
    "from pyspark.sql.functions import udf, explode, col, arrays_zip\n",
    "from pyspark.sql.types import StructType, StructField, StringType, IntegerType, ArrayType\n",
    "import pyspark.sql.functions as F\n",
    "import os\n",
    "import sys\n",
    "os.environ['PYSPARK_PYTHON'] = sys.executable\n",
    "os.environ['PYSPARK_DRIVER_PYTHON'] = sys.executable\n",
    "import findspark\n",
    "findspark.init()"
   ]
  },
  {
   "cell_type": "markdown",
   "id": "d58e53ea-51f0-4868-97d7-a62f8dab8974",
   "metadata": {},
   "source": [
    "### Spark Session"
   ]
  },
  {
   "cell_type": "code",
   "execution_count": 2,
   "id": "8f9ef91d-d6a0-47d7-b193-7df7a1d3f648",
   "metadata": {},
   "outputs": [],
   "source": [
    "spark = SparkSession.builder \\\n",
    "    .master(\"local\") \\\n",
    "    .config(\"spark.driver.memory\", \"8g\") \\\n",
    "    .config(\"spark.executor.memory\", \"8g\") \\\n",
    "    .appName(\"data_cleaning\") \\\n",
    "    .getOrCreate()"
   ]
  },
  {
   "cell_type": "markdown",
   "id": "c4676a23-3e17-4975-8e21-f422402ac2fa",
   "metadata": {},
   "source": [
    "### Read File"
   ]
  },
  {
   "cell_type": "code",
   "execution_count": 3,
   "id": "8800514d-40ad-42b3-a775-9b24523f5dc3",
   "metadata": {},
   "outputs": [],
   "source": [
    "json_data = spark.read.option(\"multiline\",\"true\").json(\"./Data/JSON/drug-event-0008-of-0034.json\")"
   ]
  },
  {
   "cell_type": "code",
   "execution_count": 4,
   "id": "48bbac0f-4207-4e7f-8567-0666944e5617",
   "metadata": {
    "scrolled": true
   },
   "outputs": [
    {
     "name": "stdout",
     "output_type": "stream",
     "text": [
      "root\n",
      " |-- meta: struct (nullable = true)\n",
      " |    |-- disclaimer: string (nullable = true)\n",
      " |    |-- last_updated: string (nullable = true)\n",
      " |    |-- license: string (nullable = true)\n",
      " |    |-- results: struct (nullable = true)\n",
      " |    |    |-- limit: long (nullable = true)\n",
      " |    |    |-- skip: long (nullable = true)\n",
      " |    |    |-- total: long (nullable = true)\n",
      " |    |-- terms: string (nullable = true)\n",
      " |-- results: array (nullable = true)\n",
      " |    |-- element: struct (containsNull = true)\n",
      " |    |    |-- authoritynumb: string (nullable = true)\n",
      " |    |    |-- companynumb: string (nullable = true)\n",
      " |    |    |-- duplicate: string (nullable = true)\n",
      " |    |    |-- fulfillexpeditecriteria: string (nullable = true)\n",
      " |    |    |-- occurcountry: string (nullable = true)\n",
      " |    |    |-- patient: struct (nullable = true)\n",
      " |    |    |    |-- drug: array (nullable = true)\n",
      " |    |    |    |    |-- element: struct (containsNull = true)\n",
      " |    |    |    |    |    |-- actiondrug: string (nullable = true)\n",
      " |    |    |    |    |    |-- activesubstance: struct (nullable = true)\n",
      " |    |    |    |    |    |    |-- activesubstancename: string (nullable = true)\n",
      " |    |    |    |    |    |-- drugadditional: string (nullable = true)\n",
      " |    |    |    |    |    |-- drugadministrationroute: string (nullable = true)\n",
      " |    |    |    |    |    |-- drugauthorizationnumb: string (nullable = true)\n",
      " |    |    |    |    |    |-- drugbatchnumb: string (nullable = true)\n",
      " |    |    |    |    |    |-- drugcharacterization: string (nullable = true)\n",
      " |    |    |    |    |    |-- drugcumulativedosagenumb: string (nullable = true)\n",
      " |    |    |    |    |    |-- drugcumulativedosageunit: string (nullable = true)\n",
      " |    |    |    |    |    |-- drugdosageform: string (nullable = true)\n",
      " |    |    |    |    |    |-- drugdosagetext: string (nullable = true)\n",
      " |    |    |    |    |    |-- drugenddate: string (nullable = true)\n",
      " |    |    |    |    |    |-- drugenddateformat: string (nullable = true)\n",
      " |    |    |    |    |    |-- drugindication: string (nullable = true)\n",
      " |    |    |    |    |    |-- drugintervaldosagedefinition: string (nullable = true)\n",
      " |    |    |    |    |    |-- drugintervaldosageunitnumb: string (nullable = true)\n",
      " |    |    |    |    |    |-- drugrecurreadministration: string (nullable = true)\n",
      " |    |    |    |    |    |-- drugrecurrence: array (nullable = true)\n",
      " |    |    |    |    |    |    |-- element: struct (containsNull = true)\n",
      " |    |    |    |    |    |    |    |-- drugrecuraction: string (nullable = true)\n",
      " |    |    |    |    |    |    |    |-- drugrecuractionmeddraversion: string (nullable = true)\n",
      " |    |    |    |    |    |-- drugseparatedosagenumb: string (nullable = true)\n",
      " |    |    |    |    |    |-- drugstartdate: string (nullable = true)\n",
      " |    |    |    |    |    |-- drugstartdateformat: string (nullable = true)\n",
      " |    |    |    |    |    |-- drugstructuredosagenumb: string (nullable = true)\n",
      " |    |    |    |    |    |-- drugstructuredosageunit: string (nullable = true)\n",
      " |    |    |    |    |    |-- drugtreatmentduration: string (nullable = true)\n",
      " |    |    |    |    |    |-- drugtreatmentdurationunit: string (nullable = true)\n",
      " |    |    |    |    |    |-- medicinalproduct: string (nullable = true)\n",
      " |    |    |    |    |    |-- openfda: struct (nullable = true)\n",
      " |    |    |    |    |    |    |-- application_number: array (nullable = true)\n",
      " |    |    |    |    |    |    |    |-- element: string (containsNull = true)\n",
      " |    |    |    |    |    |    |-- brand_name: array (nullable = true)\n",
      " |    |    |    |    |    |    |    |-- element: string (containsNull = true)\n",
      " |    |    |    |    |    |    |-- generic_name: array (nullable = true)\n",
      " |    |    |    |    |    |    |    |-- element: string (containsNull = true)\n",
      " |    |    |    |    |    |    |-- manufacturer_name: array (nullable = true)\n",
      " |    |    |    |    |    |    |    |-- element: string (containsNull = true)\n",
      " |    |    |    |    |    |    |-- nui: array (nullable = true)\n",
      " |    |    |    |    |    |    |    |-- element: string (containsNull = true)\n",
      " |    |    |    |    |    |    |-- package_ndc: array (nullable = true)\n",
      " |    |    |    |    |    |    |    |-- element: string (containsNull = true)\n",
      " |    |    |    |    |    |    |-- pharm_class_cs: array (nullable = true)\n",
      " |    |    |    |    |    |    |    |-- element: string (containsNull = true)\n",
      " |    |    |    |    |    |    |-- pharm_class_epc: array (nullable = true)\n",
      " |    |    |    |    |    |    |    |-- element: string (containsNull = true)\n",
      " |    |    |    |    |    |    |-- pharm_class_moa: array (nullable = true)\n",
      " |    |    |    |    |    |    |    |-- element: string (containsNull = true)\n",
      " |    |    |    |    |    |    |-- pharm_class_pe: array (nullable = true)\n",
      " |    |    |    |    |    |    |    |-- element: string (containsNull = true)\n",
      " |    |    |    |    |    |    |-- product_ndc: array (nullable = true)\n",
      " |    |    |    |    |    |    |    |-- element: string (containsNull = true)\n",
      " |    |    |    |    |    |    |-- product_type: array (nullable = true)\n",
      " |    |    |    |    |    |    |    |-- element: string (containsNull = true)\n",
      " |    |    |    |    |    |    |-- route: array (nullable = true)\n",
      " |    |    |    |    |    |    |    |-- element: string (containsNull = true)\n",
      " |    |    |    |    |    |    |-- rxcui: array (nullable = true)\n",
      " |    |    |    |    |    |    |    |-- element: string (containsNull = true)\n",
      " |    |    |    |    |    |    |-- spl_id: array (nullable = true)\n",
      " |    |    |    |    |    |    |    |-- element: string (containsNull = true)\n",
      " |    |    |    |    |    |    |-- spl_set_id: array (nullable = true)\n",
      " |    |    |    |    |    |    |    |-- element: string (containsNull = true)\n",
      " |    |    |    |    |    |    |-- substance_name: array (nullable = true)\n",
      " |    |    |    |    |    |    |    |-- element: string (containsNull = true)\n",
      " |    |    |    |    |    |    |-- unii: array (nullable = true)\n",
      " |    |    |    |    |    |    |    |-- element: string (containsNull = true)\n",
      " |    |    |    |-- patientagegroup: string (nullable = true)\n",
      " |    |    |    |-- patientonsetage: string (nullable = true)\n",
      " |    |    |    |-- patientonsetageunit: string (nullable = true)\n",
      " |    |    |    |-- patientsex: string (nullable = true)\n",
      " |    |    |    |-- patientweight: string (nullable = true)\n",
      " |    |    |    |-- reaction: array (nullable = true)\n",
      " |    |    |    |    |-- element: struct (containsNull = true)\n",
      " |    |    |    |    |    |-- reactionmeddrapt: string (nullable = true)\n",
      " |    |    |    |    |    |-- reactionmeddraversionpt: string (nullable = true)\n",
      " |    |    |    |    |    |-- reactionoutcome: string (nullable = true)\n",
      " |    |    |    |-- summary: struct (nullable = true)\n",
      " |    |    |    |    |-- narrativeincludeclinical: string (nullable = true)\n",
      " |    |    |-- primarysource: struct (nullable = true)\n",
      " |    |    |    |-- literaturereference: string (nullable = true)\n",
      " |    |    |    |-- qualification: string (nullable = true)\n",
      " |    |    |    |-- reportercountry: string (nullable = true)\n",
      " |    |    |-- primarysourcecountry: string (nullable = true)\n",
      " |    |    |-- receiptdate: string (nullable = true)\n",
      " |    |    |-- receiptdateformat: string (nullable = true)\n",
      " |    |    |-- receivedate: string (nullable = true)\n",
      " |    |    |-- receivedateformat: string (nullable = true)\n",
      " |    |    |-- receiver: struct (nullable = true)\n",
      " |    |    |    |-- receiverorganization: string (nullable = true)\n",
      " |    |    |    |-- receivertype: string (nullable = true)\n",
      " |    |    |-- reportduplicate: string (nullable = true)\n",
      " |    |    |-- reporttype: string (nullable = true)\n",
      " |    |    |-- safetyreportid: string (nullable = true)\n",
      " |    |    |-- safetyreportversion: string (nullable = true)\n",
      " |    |    |-- sender: struct (nullable = true)\n",
      " |    |    |    |-- senderorganization: string (nullable = true)\n",
      " |    |    |    |-- sendertype: string (nullable = true)\n",
      " |    |    |-- serious: string (nullable = true)\n",
      " |    |    |-- seriousnesscongenitalanomali: string (nullable = true)\n",
      " |    |    |-- seriousnessdeath: string (nullable = true)\n",
      " |    |    |-- seriousnessdisabling: string (nullable = true)\n",
      " |    |    |-- seriousnesshospitalization: string (nullable = true)\n",
      " |    |    |-- seriousnesslifethreatening: string (nullable = true)\n",
      " |    |    |-- seriousnessother: string (nullable = true)\n",
      " |    |    |-- transmissiondate: string (nullable = true)\n",
      " |    |    |-- transmissiondateformat: string (nullable = true)\n",
      "\n"
     ]
    }
   ],
   "source": [
    "json_data.printSchema()"
   ]
  },
  {
   "cell_type": "code",
   "execution_count": 5,
   "id": "049be9a2-e5cc-47a5-a2ea-173ea1dc29ad",
   "metadata": {},
   "outputs": [],
   "source": [
    "exploded_results = json_data.select(explode(F.col(\"results\")).alias(\"exploded_results\"))"
   ]
  },
  {
   "cell_type": "code",
   "execution_count": 6,
   "id": "6e5494f9-567e-4746-95af-c28ab88ced73",
   "metadata": {},
   "outputs": [],
   "source": [
    "# exploded_results.count()\n",
    "#12000"
   ]
  },
  {
   "cell_type": "code",
   "execution_count": 7,
   "id": "03b7f963-d4ec-4a13-9495-659f7e9db84a",
   "metadata": {},
   "outputs": [],
   "source": [
    "all_keys = []"
   ]
  },
  {
   "cell_type": "markdown",
   "id": "b631ea3b-0e4d-4a6a-a23f-4c94b93d9229",
   "metadata": {},
   "source": [
    "### Converting Nested JSON Data into Columns"
   ]
  },
  {
   "cell_type": "code",
   "execution_count": 8,
   "id": "a0b95afa-f108-4be9-98fe-d5d526782a7d",
   "metadata": {},
   "outputs": [],
   "source": [
    "def remove_null_column(data):\n",
    "    total_rows = 100000\n",
    "    null_counts = data.select([F.count(F.when(F.col(c).isNull(), c)).alias(c) for c in data.columns])\n",
    "    null_counts_pandas = null_counts.toPandas()\n",
    "    list_cols = [i for i in null_counts.columns if null_counts_pandas[i][0]/total_rows > 0.3] #remove any column with 30% null values\n",
    "    null_counts_pandas[list_cols]\n",
    "    data = data.drop(*list_cols)\n",
    "    return data"
   ]
  },
  {
   "cell_type": "code",
   "execution_count": 9,
   "id": "bd457f53-4b34-45de-81a5-8f07c7cb7704",
   "metadata": {},
   "outputs": [],
   "source": [
    "# temp_data.withColumn(\"keys\", F.json_object_keys(temp_data.exploded_array)).show()\n",
    "keys = exploded_results.select(F.col(\"exploded_results.*\")).columns\n",
    "keys = [\"exploded_results.\"+str(i) for i in keys]\n",
    "all_keys.extend(keys)"
   ]
  },
  {
   "cell_type": "code",
   "execution_count": 10,
   "id": "0ff4b7c3-3906-4992-899e-79440a8b08d9",
   "metadata": {},
   "outputs": [],
   "source": [
    "patient_keys = exploded_results.select(F.col(\"exploded_results.patient.*\")).columns\n",
    "patient_keys = [\"exploded_results.patient.\"+str(i) for i in patient_keys]\n",
    "all_keys.extend(patient_keys)\n",
    "updated_data = exploded_results.select(all_keys)\n",
    "updated_data = updated_data.drop(F.col(\"patient\"))\n",
    "all_keys = updated_data.columns"
   ]
  },
  {
   "cell_type": "code",
   "execution_count": 11,
   "id": "dbfdeb0f-f21b-44c5-9686-5f6e3cf839f0",
   "metadata": {},
   "outputs": [],
   "source": [
    "# updated_data.count()\n",
    "#12000"
   ]
  },
  {
   "cell_type": "code",
   "execution_count": 12,
   "id": "e8a11e61-c0d1-47fe-83ae-a83ca13d5db2",
   "metadata": {},
   "outputs": [],
   "source": [
    "updated_data = updated_data.select(all_keys)\\\n",
    "            .withColumn(\"explode_drug\",F.explode(F.col(\"drug\")))\n",
    "drug_keys = updated_data.select(F.col(\"explode_drug.*\")).columns\n",
    "drug_keys = [\"explode_drug.\"+i for i in drug_keys]\n",
    "all_keys.extend(drug_keys)"
   ]
  },
  {
   "cell_type": "code",
   "execution_count": 13,
   "id": "b8af7a00-c33e-4d0e-9200-fad0289a93c4",
   "metadata": {},
   "outputs": [],
   "source": [
    "updated_data = updated_data.select(all_keys)"
   ]
  },
  {
   "cell_type": "code",
   "execution_count": 14,
   "id": "ee756ce5-caf4-4682-8b59-b228a72901ba",
   "metadata": {},
   "outputs": [],
   "source": [
    "updated_data = updated_data.drop(*['authoritynumb','duplicate','reportduplicate','patientagegroup','patientweight','summary'])"
   ]
  },
  {
   "cell_type": "code",
   "execution_count": null,
   "id": "4e5aa893-136e-4012-acea-628187c4a3bc",
   "metadata": {},
   "outputs": [],
   "source": [
    "updated_data.select(\"drugindication\").show()"
   ]
  },
  {
   "cell_type": "code",
   "execution_count": 15,
   "id": "0cfdc5e6-b264-44e9-85cc-98f6d7a05957",
   "metadata": {},
   "outputs": [],
   "source": [
    "updated_data = updated_data.na.drop()"
   ]
  },
  {
   "cell_type": "code",
   "execution_count": 16,
   "id": "5fae90d2-146a-4f44-a25d-6d993edbf7f9",
   "metadata": {},
   "outputs": [
    {
     "name": "stdout",
     "output_type": "stream",
     "text": [
      "+--------------+\n",
      "|drugindication|\n",
      "+--------------+\n",
      "+--------------+\n",
      "\n"
     ]
    }
   ],
   "source": [
    "# updated_data.select(\"drugindication\").show()"
   ]
  },
  {
   "cell_type": "code",
   "execution_count": 24,
   "id": "e051b646-f98c-43e2-b4fc-8e8009cc0c37",
   "metadata": {},
   "outputs": [
    {
     "data": {
      "text/plain": [
       "31784"
      ]
     },
     "execution_count": 24,
     "metadata": {},
     "output_type": "execute_result"
    }
   ],
   "source": [
    "updated_data.select(\"explode_drug.drugindication\").where(F.col(\"explode_drug.drugindication\") != 'NULL').count()"
   ]
  },
  {
   "cell_type": "code",
   "execution_count": 20,
   "id": "7145ec60-eaa1-4c47-807f-b56d9bf7ac75",
   "metadata": {},
   "outputs": [],
   "source": [
    "all_keys = updated_data.columns"
   ]
  },
  {
   "cell_type": "code",
   "execution_count": null,
   "id": "58ebc6c0-53d4-4ebd-be9f-e0d042742a6b",
   "metadata": {},
   "outputs": [],
   "source": [
    "updated_data"
   ]
  },
  {
   "cell_type": "code",
   "execution_count": 15,
   "id": "3a9c8c21-4266-4b37-a094-b4e978d9ec36",
   "metadata": {},
   "outputs": [],
   "source": [
    "# updated_data.count()\n",
    "#54990"
   ]
  },
  {
   "cell_type": "code",
   "execution_count": 16,
   "id": "725d9384-629c-4616-bae9-1cf63bb6e2ec",
   "metadata": {},
   "outputs": [],
   "source": [
    "all_keys = updated_data.columns\n",
    "updated_data = updated_data.select(all_keys)\\\n",
    "            .withColumn(\"explode_reaction\",F.explode(F.col(\"reaction\")))\n",
    "all_keys = updated_data.columns\n",
    "reaction_keys = updated_data.select(F.col(\"explode_reaction.*\")).columns\n",
    "reaction_keys = [\"explode_reaction.\"+i for i in reaction_keys]\n",
    "all_keys.extend(reaction_keys)"
   ]
  },
  {
   "cell_type": "code",
   "execution_count": 17,
   "id": "9314a10c-bb2f-4152-9407-e7f883e6bdb9",
   "metadata": {},
   "outputs": [],
   "source": [
    "updated_data = updated_data.na.drop()"
   ]
  },
  {
   "cell_type": "code",
   "execution_count": 18,
   "id": "ea3a1dc2-f1cf-48c7-bf4c-4a990dd10c17",
   "metadata": {},
   "outputs": [],
   "source": [
    "# updated_data = updated_data.dropDuplicates()"
   ]
  },
  {
   "cell_type": "code",
   "execution_count": 19,
   "id": "30ef3933-1d3e-4d10-9298-ee46ab640a41",
   "metadata": {},
   "outputs": [
    {
     "data": {
      "text/plain": [
       "DataFrame[companynumb: string, fulfillexpeditecriteria: string, occurcountry: string, primarysource: struct<literaturereference:string,qualification:string,reportercountry:string>, primarysourcecountry: string, receiptdate: string, receiptdateformat: string, receivedate: string, receivedateformat: string, receiver: struct<receiverorganization:string,receivertype:string>, reporttype: string, safetyreportid: string, safetyreportversion: string, sender: struct<senderorganization:string,sendertype:string>, serious: string, seriousnesscongenitalanomali: string, seriousnessdeath: string, seriousnessdisabling: string, seriousnesshospitalization: string, seriousnesslifethreatening: string, seriousnessother: string, transmissiondate: string, transmissiondateformat: string, drug: array<struct<actiondrug:string,activesubstance:struct<activesubstancename:string>,drugadditional:string,drugadministrationroute:string,drugauthorizationnumb:string,drugbatchnumb:string,drugcharacterization:string,drugcumulativedosagenumb:string,drugcumulativedosageunit:string,drugdosageform:string,drugdosagetext:string,drugenddate:string,drugenddateformat:string,drugindication:string,drugintervaldosagedefinition:string,drugintervaldosageunitnumb:string,drugrecurreadministration:string,drugrecurrence:array<struct<drugrecuraction:string,drugrecuractionmeddraversion:string>>,drugseparatedosagenumb:string,drugstartdate:string,drugstartdateformat:string,drugstructuredosagenumb:string,drugstructuredosageunit:string,drugtreatmentduration:string,drugtreatmentdurationunit:string,medicinalproduct:string,openfda:struct<application_number:array<string>,brand_name:array<string>,generic_name:array<string>,manufacturer_name:array<string>,nui:array<string>,package_ndc:array<string>,pharm_class_cs:array<string>,pharm_class_epc:array<string>,pharm_class_moa:array<string>,pharm_class_pe:array<string>,product_ndc:array<string>,product_type:array<string>,route:array<string>,rxcui:array<string>,spl_id:array<string>,spl_set_id:array<string>,substance_name:array<string>,unii:array<string>>>>, patientonsetage: string, patientonsetageunit: string, patientsex: string, reaction: array<struct<reactionmeddrapt:string,reactionmeddraversionpt:string,reactionoutcome:string>>, explode_drug: struct<actiondrug:string,activesubstance:struct<activesubstancename:string>,drugadditional:string,drugadministrationroute:string,drugauthorizationnumb:string,drugbatchnumb:string,drugcharacterization:string,drugcumulativedosagenumb:string,drugcumulativedosageunit:string,drugdosageform:string,drugdosagetext:string,drugenddate:string,drugenddateformat:string,drugindication:string,drugintervaldosagedefinition:string,drugintervaldosageunitnumb:string,drugrecurreadministration:string,drugrecurrence:array<struct<drugrecuraction:string,drugrecuractionmeddraversion:string>>,drugseparatedosagenumb:string,drugstartdate:string,drugstartdateformat:string,drugstructuredosagenumb:string,drugstructuredosageunit:string,drugtreatmentduration:string,drugtreatmentdurationunit:string,medicinalproduct:string,openfda:struct<application_number:array<string>,brand_name:array<string>,generic_name:array<string>,manufacturer_name:array<string>,nui:array<string>,package_ndc:array<string>,pharm_class_cs:array<string>,pharm_class_epc:array<string>,pharm_class_moa:array<string>,pharm_class_pe:array<string>,product_ndc:array<string>,product_type:array<string>,route:array<string>,rxcui:array<string>,spl_id:array<string>,spl_set_id:array<string>,substance_name:array<string>,unii:array<string>>>, explode_reaction: struct<reactionmeddrapt:string,reactionmeddraversionpt:string,reactionoutcome:string>]"
      ]
     },
     "execution_count": 19,
     "metadata": {},
     "output_type": "execute_result"
    }
   ],
   "source": [
    "updated_data.cache()"
   ]
  },
  {
   "cell_type": "code",
   "execution_count": 20,
   "id": "f333a39e-efce-4abd-8ce5-7b4449470c9e",
   "metadata": {},
   "outputs": [
    {
     "name": "stderr",
     "output_type": "stream",
     "text": [
      "ERROR:root:KeyboardInterrupt while sending command.\n",
      "Traceback (most recent call last):\n",
      "  File \"C:\\Users\\Akshay\\anaconda3\\envs\\tf\\lib\\socket.py\", line 704, in readinto\n",
      "    return self._sock.recv_into(b)\n",
      "ConnectionResetError: [WinError 10054] An existing connection was forcibly closed by the remote host\n",
      "\n",
      "During handling of the above exception, another exception occurred:\n",
      "\n",
      "Traceback (most recent call last):\n",
      "  File \"C:\\Users\\Akshay\\anaconda3\\envs\\tf\\lib\\site-packages\\py4j\\java_gateway.py\", line 1038, in send_command\n",
      "    response = connection.send_command(command)\n",
      "  File \"C:\\Users\\Akshay\\anaconda3\\envs\\tf\\lib\\site-packages\\py4j\\clientserver.py\", line 511, in send_command\n",
      "    answer = smart_decode(self.stream.readline()[:-1])\n",
      "  File \"C:\\Users\\Akshay\\anaconda3\\envs\\tf\\lib\\socket.py\", line 704, in readinto\n",
      "    return self._sock.recv_into(b)\n",
      "KeyboardInterrupt\n"
     ]
    },
    {
     "ename": "KeyboardInterrupt",
     "evalue": "",
     "output_type": "error",
     "traceback": [
      "\u001b[1;31m---------------------------------------------------------------------------\u001b[0m",
      "\u001b[1;31mConnectionResetError\u001b[0m                      Traceback (most recent call last)",
      "File \u001b[1;32m~\\anaconda3\\envs\\tf\\lib\\socket.py:704\u001b[0m, in \u001b[0;36mSocketIO.readinto\u001b[1;34m(self, b)\u001b[0m\n\u001b[0;32m    703\u001b[0m \u001b[38;5;28;01mtry\u001b[39;00m:\n\u001b[1;32m--> 704\u001b[0m     \u001b[38;5;28;01mreturn\u001b[39;00m \u001b[38;5;28;43mself\u001b[39;49m\u001b[38;5;241;43m.\u001b[39;49m\u001b[43m_sock\u001b[49m\u001b[38;5;241;43m.\u001b[39;49m\u001b[43mrecv_into\u001b[49m\u001b[43m(\u001b[49m\u001b[43mb\u001b[49m\u001b[43m)\u001b[49m\n\u001b[0;32m    705\u001b[0m \u001b[38;5;28;01mexcept\u001b[39;00m timeout:\n",
      "\u001b[1;31mConnectionResetError\u001b[0m: [WinError 10054] An existing connection was forcibly closed by the remote host",
      "\nDuring handling of the above exception, another exception occurred:\n",
      "\u001b[1;31mKeyboardInterrupt\u001b[0m                         Traceback (most recent call last)",
      "Cell \u001b[1;32mIn[20], line 1\u001b[0m\n\u001b[1;32m----> 1\u001b[0m \u001b[43mupdated_data\u001b[49m\u001b[38;5;241;43m.\u001b[39;49m\u001b[43mselect\u001b[49m\u001b[43m(\u001b[49m\u001b[43mall_keys\u001b[49m\u001b[43m[\u001b[49m\u001b[38;5;241;43m0\u001b[39;49m\u001b[43m]\u001b[49m\u001b[43m)\u001b[49m\u001b[38;5;241;43m.\u001b[39;49m\u001b[43mshow\u001b[49m\u001b[43m(\u001b[49m\u001b[43m)\u001b[49m\n",
      "File \u001b[1;32m~\\anaconda3\\envs\\tf\\lib\\site-packages\\pyspark\\sql\\dataframe.py:947\u001b[0m, in \u001b[0;36mDataFrame.show\u001b[1;34m(self, n, truncate, vertical)\u001b[0m\n\u001b[0;32m    887\u001b[0m \u001b[38;5;28;01mdef\u001b[39;00m \u001b[38;5;21mshow\u001b[39m(\u001b[38;5;28mself\u001b[39m, n: \u001b[38;5;28mint\u001b[39m \u001b[38;5;241m=\u001b[39m \u001b[38;5;241m20\u001b[39m, truncate: Union[\u001b[38;5;28mbool\u001b[39m, \u001b[38;5;28mint\u001b[39m] \u001b[38;5;241m=\u001b[39m \u001b[38;5;28;01mTrue\u001b[39;00m, vertical: \u001b[38;5;28mbool\u001b[39m \u001b[38;5;241m=\u001b[39m \u001b[38;5;28;01mFalse\u001b[39;00m) \u001b[38;5;241m-\u001b[39m\u001b[38;5;241m>\u001b[39m \u001b[38;5;28;01mNone\u001b[39;00m:\n\u001b[0;32m    888\u001b[0m \u001b[38;5;250m    \u001b[39m\u001b[38;5;124;03m\"\"\"Prints the first ``n`` rows to the console.\u001b[39;00m\n\u001b[0;32m    889\u001b[0m \n\u001b[0;32m    890\u001b[0m \u001b[38;5;124;03m    .. versionadded:: 1.3.0\u001b[39;00m\n\u001b[1;32m   (...)\u001b[0m\n\u001b[0;32m    945\u001b[0m \u001b[38;5;124;03m    name | Bob\u001b[39;00m\n\u001b[0;32m    946\u001b[0m \u001b[38;5;124;03m    \"\"\"\u001b[39;00m\n\u001b[1;32m--> 947\u001b[0m     \u001b[38;5;28mprint\u001b[39m(\u001b[38;5;28;43mself\u001b[39;49m\u001b[38;5;241;43m.\u001b[39;49m\u001b[43m_show_string\u001b[49m\u001b[43m(\u001b[49m\u001b[43mn\u001b[49m\u001b[43m,\u001b[49m\u001b[43m \u001b[49m\u001b[43mtruncate\u001b[49m\u001b[43m,\u001b[49m\u001b[43m \u001b[49m\u001b[43mvertical\u001b[49m\u001b[43m)\u001b[49m)\n",
      "File \u001b[1;32m~\\anaconda3\\envs\\tf\\lib\\site-packages\\pyspark\\sql\\dataframe.py:965\u001b[0m, in \u001b[0;36mDataFrame._show_string\u001b[1;34m(self, n, truncate, vertical)\u001b[0m\n\u001b[0;32m    959\u001b[0m     \u001b[38;5;28;01mraise\u001b[39;00m PySparkTypeError(\n\u001b[0;32m    960\u001b[0m         error_class\u001b[38;5;241m=\u001b[39m\u001b[38;5;124m\"\u001b[39m\u001b[38;5;124mNOT_BOOL\u001b[39m\u001b[38;5;124m\"\u001b[39m,\n\u001b[0;32m    961\u001b[0m         message_parameters\u001b[38;5;241m=\u001b[39m{\u001b[38;5;124m\"\u001b[39m\u001b[38;5;124marg_name\u001b[39m\u001b[38;5;124m\"\u001b[39m: \u001b[38;5;124m\"\u001b[39m\u001b[38;5;124mvertical\u001b[39m\u001b[38;5;124m\"\u001b[39m, \u001b[38;5;124m\"\u001b[39m\u001b[38;5;124marg_type\u001b[39m\u001b[38;5;124m\"\u001b[39m: \u001b[38;5;28mtype\u001b[39m(vertical)\u001b[38;5;241m.\u001b[39m\u001b[38;5;18m__name__\u001b[39m},\n\u001b[0;32m    962\u001b[0m     )\n\u001b[0;32m    964\u001b[0m \u001b[38;5;28;01mif\u001b[39;00m \u001b[38;5;28misinstance\u001b[39m(truncate, \u001b[38;5;28mbool\u001b[39m) \u001b[38;5;129;01mand\u001b[39;00m truncate:\n\u001b[1;32m--> 965\u001b[0m     \u001b[38;5;28;01mreturn\u001b[39;00m \u001b[38;5;28;43mself\u001b[39;49m\u001b[38;5;241;43m.\u001b[39;49m\u001b[43m_jdf\u001b[49m\u001b[38;5;241;43m.\u001b[39;49m\u001b[43mshowString\u001b[49m\u001b[43m(\u001b[49m\u001b[43mn\u001b[49m\u001b[43m,\u001b[49m\u001b[43m \u001b[49m\u001b[38;5;241;43m20\u001b[39;49m\u001b[43m,\u001b[49m\u001b[43m \u001b[49m\u001b[43mvertical\u001b[49m\u001b[43m)\u001b[49m\n\u001b[0;32m    966\u001b[0m \u001b[38;5;28;01melse\u001b[39;00m:\n\u001b[0;32m    967\u001b[0m     \u001b[38;5;28;01mtry\u001b[39;00m:\n",
      "File \u001b[1;32m~\\anaconda3\\envs\\tf\\lib\\site-packages\\py4j\\java_gateway.py:1321\u001b[0m, in \u001b[0;36mJavaMember.__call__\u001b[1;34m(self, *args)\u001b[0m\n\u001b[0;32m   1314\u001b[0m args_command, temp_args \u001b[38;5;241m=\u001b[39m \u001b[38;5;28mself\u001b[39m\u001b[38;5;241m.\u001b[39m_build_args(\u001b[38;5;241m*\u001b[39margs)\n\u001b[0;32m   1316\u001b[0m command \u001b[38;5;241m=\u001b[39m proto\u001b[38;5;241m.\u001b[39mCALL_COMMAND_NAME \u001b[38;5;241m+\u001b[39m\\\n\u001b[0;32m   1317\u001b[0m     \u001b[38;5;28mself\u001b[39m\u001b[38;5;241m.\u001b[39mcommand_header \u001b[38;5;241m+\u001b[39m\\\n\u001b[0;32m   1318\u001b[0m     args_command \u001b[38;5;241m+\u001b[39m\\\n\u001b[0;32m   1319\u001b[0m     proto\u001b[38;5;241m.\u001b[39mEND_COMMAND_PART\n\u001b[1;32m-> 1321\u001b[0m answer \u001b[38;5;241m=\u001b[39m \u001b[38;5;28;43mself\u001b[39;49m\u001b[38;5;241;43m.\u001b[39;49m\u001b[43mgateway_client\u001b[49m\u001b[38;5;241;43m.\u001b[39;49m\u001b[43msend_command\u001b[49m\u001b[43m(\u001b[49m\u001b[43mcommand\u001b[49m\u001b[43m)\u001b[49m\n\u001b[0;32m   1322\u001b[0m return_value \u001b[38;5;241m=\u001b[39m get_return_value(\n\u001b[0;32m   1323\u001b[0m     answer, \u001b[38;5;28mself\u001b[39m\u001b[38;5;241m.\u001b[39mgateway_client, \u001b[38;5;28mself\u001b[39m\u001b[38;5;241m.\u001b[39mtarget_id, \u001b[38;5;28mself\u001b[39m\u001b[38;5;241m.\u001b[39mname)\n\u001b[0;32m   1325\u001b[0m \u001b[38;5;28;01mfor\u001b[39;00m temp_arg \u001b[38;5;129;01min\u001b[39;00m temp_args:\n",
      "File \u001b[1;32m~\\anaconda3\\envs\\tf\\lib\\site-packages\\py4j\\java_gateway.py:1038\u001b[0m, in \u001b[0;36mGatewayClient.send_command\u001b[1;34m(self, command, retry, binary)\u001b[0m\n\u001b[0;32m   1036\u001b[0m connection \u001b[38;5;241m=\u001b[39m \u001b[38;5;28mself\u001b[39m\u001b[38;5;241m.\u001b[39m_get_connection()\n\u001b[0;32m   1037\u001b[0m \u001b[38;5;28;01mtry\u001b[39;00m:\n\u001b[1;32m-> 1038\u001b[0m     response \u001b[38;5;241m=\u001b[39m \u001b[43mconnection\u001b[49m\u001b[38;5;241;43m.\u001b[39;49m\u001b[43msend_command\u001b[49m\u001b[43m(\u001b[49m\u001b[43mcommand\u001b[49m\u001b[43m)\u001b[49m\n\u001b[0;32m   1039\u001b[0m     \u001b[38;5;28;01mif\u001b[39;00m binary:\n\u001b[0;32m   1040\u001b[0m         \u001b[38;5;28;01mreturn\u001b[39;00m response, \u001b[38;5;28mself\u001b[39m\u001b[38;5;241m.\u001b[39m_create_connection_guard(connection)\n",
      "File \u001b[1;32m~\\anaconda3\\envs\\tf\\lib\\site-packages\\py4j\\clientserver.py:511\u001b[0m, in \u001b[0;36mClientServerConnection.send_command\u001b[1;34m(self, command)\u001b[0m\n\u001b[0;32m    509\u001b[0m \u001b[38;5;28;01mtry\u001b[39;00m:\n\u001b[0;32m    510\u001b[0m     \u001b[38;5;28;01mwhile\u001b[39;00m \u001b[38;5;28;01mTrue\u001b[39;00m:\n\u001b[1;32m--> 511\u001b[0m         answer \u001b[38;5;241m=\u001b[39m smart_decode(\u001b[38;5;28;43mself\u001b[39;49m\u001b[38;5;241;43m.\u001b[39;49m\u001b[43mstream\u001b[49m\u001b[38;5;241;43m.\u001b[39;49m\u001b[43mreadline\u001b[49m\u001b[43m(\u001b[49m\u001b[43m)\u001b[49m[:\u001b[38;5;241m-\u001b[39m\u001b[38;5;241m1\u001b[39m])\n\u001b[0;32m    512\u001b[0m         logger\u001b[38;5;241m.\u001b[39mdebug(\u001b[38;5;124m\"\u001b[39m\u001b[38;5;124mAnswer received: \u001b[39m\u001b[38;5;132;01m{0}\u001b[39;00m\u001b[38;5;124m\"\u001b[39m\u001b[38;5;241m.\u001b[39mformat(answer))\n\u001b[0;32m    513\u001b[0m         \u001b[38;5;66;03m# Happens when a the other end is dead. There might be an empty\u001b[39;00m\n\u001b[0;32m    514\u001b[0m         \u001b[38;5;66;03m# answer before the socket raises an error.\u001b[39;00m\n",
      "File \u001b[1;32m~\\anaconda3\\envs\\tf\\lib\\socket.py:704\u001b[0m, in \u001b[0;36mSocketIO.readinto\u001b[1;34m(self, b)\u001b[0m\n\u001b[0;32m    702\u001b[0m \u001b[38;5;28;01mwhile\u001b[39;00m \u001b[38;5;28;01mTrue\u001b[39;00m:\n\u001b[0;32m    703\u001b[0m     \u001b[38;5;28;01mtry\u001b[39;00m:\n\u001b[1;32m--> 704\u001b[0m         \u001b[38;5;28;01mreturn\u001b[39;00m \u001b[38;5;28;43mself\u001b[39;49m\u001b[38;5;241;43m.\u001b[39;49m\u001b[43m_sock\u001b[49m\u001b[38;5;241;43m.\u001b[39;49m\u001b[43mrecv_into\u001b[49m\u001b[43m(\u001b[49m\u001b[43mb\u001b[49m\u001b[43m)\u001b[49m\n\u001b[0;32m    705\u001b[0m     \u001b[38;5;28;01mexcept\u001b[39;00m timeout:\n\u001b[0;32m    706\u001b[0m         \u001b[38;5;28mself\u001b[39m\u001b[38;5;241m.\u001b[39m_timeout_occurred \u001b[38;5;241m=\u001b[39m \u001b[38;5;28;01mTrue\u001b[39;00m\n",
      "\u001b[1;31mKeyboardInterrupt\u001b[0m: "
     ]
    }
   ],
   "source": [
    "updated_data.select(all_keys[0]).show()"
   ]
  },
  {
   "cell_type": "code",
   "execution_count": null,
   "id": "fad892f5-ef6b-47c8-a08e-e0bf86e75c4f",
   "metadata": {},
   "outputs": [],
   "source": []
  },
  {
   "cell_type": "code",
   "execution_count": 15,
   "id": "36601e9d-1ff5-4d99-bfa3-07b1eaf514bc",
   "metadata": {},
   "outputs": [],
   "source": [
    "updated_data = updated_data.select(all_keys)\n",
    "all_keys = updated_data.columns\n",
    "openfda_keys = updated_data.select(F.col(\"openfda.*\")).columns\n",
    "openfda_keys = [\"openfda.\"+i for i in openfda_keys]\n",
    "all_keys.extend(openfda_keys)\n",
    "all_keys.append(\"activesubstance.activesubstancename\")"
   ]
  },
  {
   "cell_type": "code",
   "execution_count": 17,
   "id": "8379154f-4b02-4ebd-8970-e587c8a20551",
   "metadata": {},
   "outputs": [],
   "source": [
    "updated_data = updated_data.withColumn(\"openfda_{}\".format(\"application_number\"),F.explode(F.col('openfda.application_number')))\\\n",
    "            .withColumn(\"openfda_{}\".format(\"brand_name\"),F.explode(F.col('openfda.brand_name')))\\\n",
    "            .withColumn(\"openfda_{}\".format(\"generic_name\"),F.explode(F.col('openfda.generic_name')))\\\n",
    "            .withColumn(\"openfda_{}\".format(\"manufacturer_name\"),F.explode(F.col('openfda.manufacturer_name')))\\\n",
    "            .withColumn(\"openfda_{}\".format(\"product_type\"),F.explode(F.col('openfda.product_type')))\\\n",
    "            .withColumn(\"openfda_{}\".format(\"substance_name\"),F.explode(F.col('openfda.substance_name')))\n",
    "            # .withColumn(\"openfda_{}\".format(\"route\"),F.explode(F.col('openfda.route')))\\\n",
    "            # .withColumn(\"openfda_{}\".format(\"rxcui\"),F.explode(F.col('openfda.rxcui')))\\\n",
    "            # .withColumn(\"openfda_{}\".format(\"spl_id\"),F.explode(F.col('openfda.spl_id')))\\\n",
    "            # .withColumn(\"openfda_{}\".format(\"spl_set_id\"),F.explode(F.col('openfda.spl_set_id')))\\\n",
    "            # .withColumn(\"openfda_{}\".format(\"nui\"),F.explode(F.col('openfda.nui')))\\\n",
    "            # .withColumn(\"openfda_{}\".format(\"package_ndc\"),F.explode(F.col('openfda.package_ndc')))\\\n",
    "            # .withColumn(\"openfda_{}\".format(\"pharm_class_cs\"),F.explode(F.col('openfda.pharm_class_cs')))\\\n",
    "            # .withColumn(\"openfda_{}\".format(\"pharm_class_epc\"),F.explode(F.col('openfda.pharm_class_epc')))\\\n",
    "            # .withColumn(\"openfda_{}\".format(\"pharm_class_moa\"),F.explode(F.col('openfda.pharm_class_moa')))\\\n",
    "            # .withColumn(\"openfda_{}\".format(\"pharm_class_pe\"),F.explode(F.col('openfda.pharm_class_pe')))\\\n",
    "            # .withColumn(\"openfda_{}\".format(\"product_ndc\"),F.explode(F.col('openfda.product_ndc')))\\\n",
    "            # .withColumn(\"openfda_{}\".format(\"unii\"),F.explode(F.col('openfda.unii'))).show()"
   ]
  },
  {
   "cell_type": "code",
   "execution_count": 18,
   "id": "b20fa0f6-393c-4277-9f65-e4b55723ec45",
   "metadata": {},
   "outputs": [
    {
     "name": "stderr",
     "output_type": "stream",
     "text": [
      "ERROR:root:KeyboardInterrupt while sending command.\n",
      "Traceback (most recent call last):\n",
      "  File \"C:\\Users\\Akshay\\anaconda3\\envs\\tf\\lib\\socket.py\", line 704, in readinto\n",
      "    return self._sock.recv_into(b)\n",
      "ConnectionResetError: [WinError 10054] An existing connection was forcibly closed by the remote host\n",
      "\n",
      "During handling of the above exception, another exception occurred:\n",
      "\n",
      "Traceback (most recent call last):\n",
      "  File \"C:\\Users\\Akshay\\anaconda3\\envs\\tf\\lib\\site-packages\\py4j\\java_gateway.py\", line 1038, in send_command\n",
      "    response = connection.send_command(command)\n",
      "  File \"C:\\Users\\Akshay\\anaconda3\\envs\\tf\\lib\\site-packages\\py4j\\clientserver.py\", line 511, in send_command\n",
      "    answer = smart_decode(self.stream.readline()[:-1])\n",
      "  File \"C:\\Users\\Akshay\\anaconda3\\envs\\tf\\lib\\socket.py\", line 704, in readinto\n",
      "    return self._sock.recv_into(b)\n",
      "KeyboardInterrupt\n"
     ]
    },
    {
     "ename": "KeyboardInterrupt",
     "evalue": "",
     "output_type": "error",
     "traceback": [
      "\u001b[1;31m---------------------------------------------------------------------------\u001b[0m",
      "\u001b[1;31mConnectionResetError\u001b[0m                      Traceback (most recent call last)",
      "File \u001b[1;32m~\\anaconda3\\envs\\tf\\lib\\socket.py:704\u001b[0m, in \u001b[0;36mSocketIO.readinto\u001b[1;34m(self, b)\u001b[0m\n\u001b[0;32m    703\u001b[0m \u001b[38;5;28;01mtry\u001b[39;00m:\n\u001b[1;32m--> 704\u001b[0m     \u001b[38;5;28;01mreturn\u001b[39;00m \u001b[38;5;28;43mself\u001b[39;49m\u001b[38;5;241;43m.\u001b[39;49m\u001b[43m_sock\u001b[49m\u001b[38;5;241;43m.\u001b[39;49m\u001b[43mrecv_into\u001b[49m\u001b[43m(\u001b[49m\u001b[43mb\u001b[49m\u001b[43m)\u001b[49m\n\u001b[0;32m    705\u001b[0m \u001b[38;5;28;01mexcept\u001b[39;00m timeout:\n",
      "\u001b[1;31mConnectionResetError\u001b[0m: [WinError 10054] An existing connection was forcibly closed by the remote host",
      "\nDuring handling of the above exception, another exception occurred:\n",
      "\u001b[1;31mKeyboardInterrupt\u001b[0m                         Traceback (most recent call last)",
      "Cell \u001b[1;32mIn[18], line 1\u001b[0m\n\u001b[1;32m----> 1\u001b[0m \u001b[43mupdated_data\u001b[49m\u001b[38;5;241;43m.\u001b[39;49m\u001b[43mcount\u001b[49m\u001b[43m(\u001b[49m\u001b[43m)\u001b[49m\n",
      "File \u001b[1;32m~\\anaconda3\\envs\\tf\\lib\\site-packages\\pyspark\\sql\\dataframe.py:1240\u001b[0m, in \u001b[0;36mDataFrame.count\u001b[1;34m(self)\u001b[0m\n\u001b[0;32m   1217\u001b[0m \u001b[38;5;28;01mdef\u001b[39;00m \u001b[38;5;21mcount\u001b[39m(\u001b[38;5;28mself\u001b[39m) \u001b[38;5;241m-\u001b[39m\u001b[38;5;241m>\u001b[39m \u001b[38;5;28mint\u001b[39m:\n\u001b[0;32m   1218\u001b[0m \u001b[38;5;250m    \u001b[39m\u001b[38;5;124;03m\"\"\"Returns the number of rows in this :class:`DataFrame`.\u001b[39;00m\n\u001b[0;32m   1219\u001b[0m \n\u001b[0;32m   1220\u001b[0m \u001b[38;5;124;03m    .. versionadded:: 1.3.0\u001b[39;00m\n\u001b[1;32m   (...)\u001b[0m\n\u001b[0;32m   1238\u001b[0m \u001b[38;5;124;03m    3\u001b[39;00m\n\u001b[0;32m   1239\u001b[0m \u001b[38;5;124;03m    \"\"\"\u001b[39;00m\n\u001b[1;32m-> 1240\u001b[0m     \u001b[38;5;28;01mreturn\u001b[39;00m \u001b[38;5;28mint\u001b[39m(\u001b[38;5;28;43mself\u001b[39;49m\u001b[38;5;241;43m.\u001b[39;49m\u001b[43m_jdf\u001b[49m\u001b[38;5;241;43m.\u001b[39;49m\u001b[43mcount\u001b[49m\u001b[43m(\u001b[49m\u001b[43m)\u001b[49m)\n",
      "File \u001b[1;32m~\\anaconda3\\envs\\tf\\lib\\site-packages\\py4j\\java_gateway.py:1321\u001b[0m, in \u001b[0;36mJavaMember.__call__\u001b[1;34m(self, *args)\u001b[0m\n\u001b[0;32m   1314\u001b[0m args_command, temp_args \u001b[38;5;241m=\u001b[39m \u001b[38;5;28mself\u001b[39m\u001b[38;5;241m.\u001b[39m_build_args(\u001b[38;5;241m*\u001b[39margs)\n\u001b[0;32m   1316\u001b[0m command \u001b[38;5;241m=\u001b[39m proto\u001b[38;5;241m.\u001b[39mCALL_COMMAND_NAME \u001b[38;5;241m+\u001b[39m\\\n\u001b[0;32m   1317\u001b[0m     \u001b[38;5;28mself\u001b[39m\u001b[38;5;241m.\u001b[39mcommand_header \u001b[38;5;241m+\u001b[39m\\\n\u001b[0;32m   1318\u001b[0m     args_command \u001b[38;5;241m+\u001b[39m\\\n\u001b[0;32m   1319\u001b[0m     proto\u001b[38;5;241m.\u001b[39mEND_COMMAND_PART\n\u001b[1;32m-> 1321\u001b[0m answer \u001b[38;5;241m=\u001b[39m \u001b[38;5;28;43mself\u001b[39;49m\u001b[38;5;241;43m.\u001b[39;49m\u001b[43mgateway_client\u001b[49m\u001b[38;5;241;43m.\u001b[39;49m\u001b[43msend_command\u001b[49m\u001b[43m(\u001b[49m\u001b[43mcommand\u001b[49m\u001b[43m)\u001b[49m\n\u001b[0;32m   1322\u001b[0m return_value \u001b[38;5;241m=\u001b[39m get_return_value(\n\u001b[0;32m   1323\u001b[0m     answer, \u001b[38;5;28mself\u001b[39m\u001b[38;5;241m.\u001b[39mgateway_client, \u001b[38;5;28mself\u001b[39m\u001b[38;5;241m.\u001b[39mtarget_id, \u001b[38;5;28mself\u001b[39m\u001b[38;5;241m.\u001b[39mname)\n\u001b[0;32m   1325\u001b[0m \u001b[38;5;28;01mfor\u001b[39;00m temp_arg \u001b[38;5;129;01min\u001b[39;00m temp_args:\n",
      "File \u001b[1;32m~\\anaconda3\\envs\\tf\\lib\\site-packages\\py4j\\java_gateway.py:1038\u001b[0m, in \u001b[0;36mGatewayClient.send_command\u001b[1;34m(self, command, retry, binary)\u001b[0m\n\u001b[0;32m   1036\u001b[0m connection \u001b[38;5;241m=\u001b[39m \u001b[38;5;28mself\u001b[39m\u001b[38;5;241m.\u001b[39m_get_connection()\n\u001b[0;32m   1037\u001b[0m \u001b[38;5;28;01mtry\u001b[39;00m:\n\u001b[1;32m-> 1038\u001b[0m     response \u001b[38;5;241m=\u001b[39m \u001b[43mconnection\u001b[49m\u001b[38;5;241;43m.\u001b[39;49m\u001b[43msend_command\u001b[49m\u001b[43m(\u001b[49m\u001b[43mcommand\u001b[49m\u001b[43m)\u001b[49m\n\u001b[0;32m   1039\u001b[0m     \u001b[38;5;28;01mif\u001b[39;00m binary:\n\u001b[0;32m   1040\u001b[0m         \u001b[38;5;28;01mreturn\u001b[39;00m response, \u001b[38;5;28mself\u001b[39m\u001b[38;5;241m.\u001b[39m_create_connection_guard(connection)\n",
      "File \u001b[1;32m~\\anaconda3\\envs\\tf\\lib\\site-packages\\py4j\\clientserver.py:511\u001b[0m, in \u001b[0;36mClientServerConnection.send_command\u001b[1;34m(self, command)\u001b[0m\n\u001b[0;32m    509\u001b[0m \u001b[38;5;28;01mtry\u001b[39;00m:\n\u001b[0;32m    510\u001b[0m     \u001b[38;5;28;01mwhile\u001b[39;00m \u001b[38;5;28;01mTrue\u001b[39;00m:\n\u001b[1;32m--> 511\u001b[0m         answer \u001b[38;5;241m=\u001b[39m smart_decode(\u001b[38;5;28;43mself\u001b[39;49m\u001b[38;5;241;43m.\u001b[39;49m\u001b[43mstream\u001b[49m\u001b[38;5;241;43m.\u001b[39;49m\u001b[43mreadline\u001b[49m\u001b[43m(\u001b[49m\u001b[43m)\u001b[49m[:\u001b[38;5;241m-\u001b[39m\u001b[38;5;241m1\u001b[39m])\n\u001b[0;32m    512\u001b[0m         logger\u001b[38;5;241m.\u001b[39mdebug(\u001b[38;5;124m\"\u001b[39m\u001b[38;5;124mAnswer received: \u001b[39m\u001b[38;5;132;01m{0}\u001b[39;00m\u001b[38;5;124m\"\u001b[39m\u001b[38;5;241m.\u001b[39mformat(answer))\n\u001b[0;32m    513\u001b[0m         \u001b[38;5;66;03m# Happens when a the other end is dead. There might be an empty\u001b[39;00m\n\u001b[0;32m    514\u001b[0m         \u001b[38;5;66;03m# answer before the socket raises an error.\u001b[39;00m\n",
      "File \u001b[1;32m~\\anaconda3\\envs\\tf\\lib\\socket.py:704\u001b[0m, in \u001b[0;36mSocketIO.readinto\u001b[1;34m(self, b)\u001b[0m\n\u001b[0;32m    702\u001b[0m \u001b[38;5;28;01mwhile\u001b[39;00m \u001b[38;5;28;01mTrue\u001b[39;00m:\n\u001b[0;32m    703\u001b[0m     \u001b[38;5;28;01mtry\u001b[39;00m:\n\u001b[1;32m--> 704\u001b[0m         \u001b[38;5;28;01mreturn\u001b[39;00m \u001b[38;5;28;43mself\u001b[39;49m\u001b[38;5;241;43m.\u001b[39;49m\u001b[43m_sock\u001b[49m\u001b[38;5;241;43m.\u001b[39;49m\u001b[43mrecv_into\u001b[49m\u001b[43m(\u001b[49m\u001b[43mb\u001b[49m\u001b[43m)\u001b[49m\n\u001b[0;32m    705\u001b[0m     \u001b[38;5;28;01mexcept\u001b[39;00m timeout:\n\u001b[0;32m    706\u001b[0m         \u001b[38;5;28mself\u001b[39m\u001b[38;5;241m.\u001b[39m_timeout_occurred \u001b[38;5;241m=\u001b[39m \u001b[38;5;28;01mTrue\u001b[39;00m\n",
      "\u001b[1;31mKeyboardInterrupt\u001b[0m: "
     ]
    }
   ],
   "source": [
    "updated_data.count()"
   ]
  },
  {
   "cell_type": "code",
   "execution_count": null,
   "id": "32604bb5-b527-4d5f-b4cf-82283448b64a",
   "metadata": {},
   "outputs": [],
   "source": [
    "all_keys = updated_data.columns\n",
    "primarysource_keys = updated_data.select(F.col(\"primarysource.*\")).columns\n",
    "primarysource_keys = [\"primarysource.\"+i for i in primarysource_keys]\n",
    "all_keys.extend(primarysource_keys)"
   ]
  },
  {
   "cell_type": "code",
   "execution_count": null,
   "id": "91466669-6ce1-452d-a5ba-2d635b321a46",
   "metadata": {},
   "outputs": [],
   "source": [
    "updated_data.show()"
   ]
  },
  {
   "cell_type": "code",
   "execution_count": null,
   "id": "7436014a-781e-4b76-aa3b-c3b107ba1bea",
   "metadata": {
    "scrolled": true
   },
   "outputs": [],
   "source": [
    "try:\n",
    "    updated_data = updated_data.select(all_keys)\\\n",
    "                .withColumn(\"explode_drugrecurrence\",F.explode(F.col(\"drugrecurrence\")))\n",
    "    all_keys = updated_data.columns\n",
    "    drugrecurrence_keys = updated_data.select(F.col(\"explode_drugrecurrence.*\")).columns\n",
    "    drugrecurrence_keys = [\"explode_drugrecurrence.\"+i for i in drugrecurrence_keys]\n",
    "    all_keys.extend(drugrecurrence_keys)\n",
    "except Exception as e:\n",
    "    print(e)"
   ]
  },
  {
   "cell_type": "code",
   "execution_count": null,
   "id": "a5ab037c-e7df-428b-8fcf-bc4928ee0d51",
   "metadata": {},
   "outputs": [],
   "source": []
  },
  {
   "cell_type": "code",
   "execution_count": null,
   "id": "c891476c-76fb-4c66-b82d-477f68984f48",
   "metadata": {},
   "outputs": [],
   "source": []
  },
  {
   "cell_type": "code",
   "execution_count": null,
   "id": "78036449-06bf-4c07-816f-bdd45f7c894c",
   "metadata": {},
   "outputs": [],
   "source": [
    "updated_data = updated_data.drop(F.col(\"primarysource\"))\n",
    "updated_data = updated_data.drop(F.col(\"explode_drugrecurrence\"))\n",
    "updated_data = updated_data.drop(F.col(\"drug\"))\n",
    "updated_data = updated_data.drop(F.col(\"reaction\"))\n",
    "updated_data = updated_data.drop(F.col(\"receiver\"))\n",
    "updated_data = updated_data.drop(F.col(\"sender\"))\n",
    "updated_data = updated_data.drop(F.col(\"summary\"))\n",
    "updated_data = updated_data.drop(F.col(\"activesubstance\"))\n",
    "updated_data = updated_data.drop(F.col(\"drugrecurrence\"))\n",
    "updated_data = updated_data.drop(F.col(\"openfda\"))\n",
    "updated_data = updated_data.drop(F.col(\"explode_reaction\"))"
   ]
  },
  {
   "cell_type": "code",
   "execution_count": null,
   "id": "a762c71e-1773-4702-b341-daa11eedfa3a",
   "metadata": {},
   "outputs": [],
   "source": []
  },
  {
   "cell_type": "markdown",
   "id": "90731ba0-b010-4889-825a-ff2e68078c42",
   "metadata": {},
   "source": [
    "## Data Cleaning"
   ]
  },
  {
   "cell_type": "code",
   "execution_count": null,
   "id": "fe3bd6a3-5f5e-40d9-a022-14d4119c260e",
   "metadata": {},
   "outputs": [],
   "source": [
    "pandas_df = updated_data.limit(20).toPandas()"
   ]
  },
  {
   "cell_type": "code",
   "execution_count": null,
   "id": "0006e3d7-2e8c-4491-9bc1-1ac1d141356c",
   "metadata": {
    "scrolled": true
   },
   "outputs": [],
   "source": [
    "pandas_df"
   ]
  },
  {
   "cell_type": "code",
   "execution_count": null,
   "id": "9651bff8-40ed-4482-b8d5-c4b9f13e0cbf",
   "metadata": {},
   "outputs": [],
   "source": [
    "total_rows = updated_data.count()"
   ]
  },
  {
   "cell_type": "code",
   "execution_count": null,
   "id": "1c11e934-d4f1-49dd-be11-6b9b4980dd12",
   "metadata": {},
   "outputs": [],
   "source": []
  },
  {
   "cell_type": "markdown",
   "id": "b542410e-4470-46ab-9b88-78058fb4058a",
   "metadata": {},
   "source": [
    "### Removing Null Values"
   ]
  },
  {
   "cell_type": "code",
   "execution_count": null,
   "id": "32f7dad2-973a-4ab7-8d3e-6808e9a963c7",
   "metadata": {},
   "outputs": [],
   "source": []
  },
  {
   "cell_type": "code",
   "execution_count": null,
   "id": "b0f666c6-6a74-4d30-afcc-dc29ee468160",
   "metadata": {},
   "outputs": [],
   "source": []
  },
  {
   "cell_type": "code",
   "execution_count": null,
   "id": "d16249c2-4a60-486d-9536-9131e6070d7f",
   "metadata": {},
   "outputs": [],
   "source": []
  },
  {
   "cell_type": "code",
   "execution_count": null,
   "id": "4955a30f-ec0c-4c0a-8a1f-6eafbc040366",
   "metadata": {},
   "outputs": [],
   "source": [
    "updated_data.na.drop().toPandas().to_csv(\"test1.csv\")"
   ]
  },
  {
   "cell_type": "code",
   "execution_count": null,
   "id": "356eb7d9-6d20-475f-b62d-35de89caccaa",
   "metadata": {},
   "outputs": [],
   "source": [
    "# os.environ[\"HADOOP_HOME\"] = \"C:/hadoop/hadoop-2.8.3\"\n",
    "# os.environ[\"PATH\"] = \"C:/hadoop/hadoop-2.8.3/bin\"\n",
    "# updated_data.write.csv(\"./test1.csv\", mode=\"overwrite\", header=True)"
   ]
  },
  {
   "cell_type": "code",
   "execution_count": null,
   "id": "90d4702c-6c9c-43ae-a938-e3aff56505a3",
   "metadata": {},
   "outputs": [],
   "source": [
    "# updated_data.write.parquet(\"output_parquet_path\", mode=\"overwrite\")"
   ]
  },
  {
   "cell_type": "code",
   "execution_count": null,
   "id": "2ec18a83-9aa3-470c-80e3-3dedc278e074",
   "metadata": {},
   "outputs": [],
   "source": []
  }
 ],
 "metadata": {
  "kernelspec": {
   "display_name": "Python 3 (ipykernel)",
   "language": "python",
   "name": "python3"
  },
  "language_info": {
   "codemirror_mode": {
    "name": "ipython",
    "version": 3
   },
   "file_extension": ".py",
   "mimetype": "text/x-python",
   "name": "python",
   "nbconvert_exporter": "python",
   "pygments_lexer": "ipython3",
   "version": "3.9.19"
  }
 },
 "nbformat": 4,
 "nbformat_minor": 5
}
