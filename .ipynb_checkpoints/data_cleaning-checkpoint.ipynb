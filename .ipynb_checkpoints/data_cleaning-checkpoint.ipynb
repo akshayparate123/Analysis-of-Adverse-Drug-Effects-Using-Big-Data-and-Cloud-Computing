{
 "cells": [
  {
   "cell_type": "markdown",
   "id": "d1b15426-3dfa-4dca-863f-3b15b28ceb2b",
   "metadata": {},
   "source": [
    "## Data Transformation from JSON to Dataframe"
   ]
  },
  {
   "cell_type": "markdown",
   "id": "bb452bf6-9bb4-4e95-a424-8a557339e46f",
   "metadata": {},
   "source": [
    "### All Imports"
   ]
  },
  {
   "cell_type": "code",
   "execution_count": 1,
   "id": "0baf9c78-0175-4ef9-a584-238e900fa30b",
   "metadata": {},
   "outputs": [],
   "source": [
    "import pandas as pd\n",
    "import numpy as np\n",
    "import seaborn as sns\n",
    "from pyspark.sql import SparkSession\n",
    "from pyspark.sql.functions import udf, explode, col, arrays_zip\n",
    "from pyspark.sql.types import StructType, StructField, StringType, IntegerType, ArrayType\n",
    "import pyspark.sql.functions as F\n",
    "import os\n",
    "import sys\n",
    "os.environ['PYSPARK_PYTHON'] = sys.executable\n",
    "os.environ['PYSPARK_DRIVER_PYTHON'] = sys.executable\n",
    "import findspark\n",
    "findspark.init()"
   ]
  },
  {
   "cell_type": "markdown",
   "id": "d58e53ea-51f0-4868-97d7-a62f8dab8974",
   "metadata": {},
   "source": [
    "### Spark Session"
   ]
  },
  {
   "cell_type": "code",
   "execution_count": 2,
   "id": "8f9ef91d-d6a0-47d7-b193-7df7a1d3f648",
   "metadata": {},
   "outputs": [],
   "source": [
    "spark = SparkSession.builder \\\n",
    "    .master(\"local\") \\\n",
    "    .config(\"spark.driver.memory\", \"8g\") \\\n",
    "    .config(\"spark.executor.memory\", \"8g\") \\\n",
    "    .appName(\"data_cleaning\") \\\n",
    "    .getOrCreate()"
   ]
  },
  {
   "cell_type": "markdown",
   "id": "c4676a23-3e17-4975-8e21-f422402ac2fa",
   "metadata": {},
   "source": [
    "### Read File"
   ]
  },
  {
   "cell_type": "code",
   "execution_count": 3,
   "id": "8800514d-40ad-42b3-a775-9b24523f5dc3",
   "metadata": {},
   "outputs": [],
   "source": [
    "json_data = spark.read.option(\"multiline\",\"true\").json(\"./Data/JSON/drug-event-0008-of-0034.json\")"
   ]
  },
  {
   "cell_type": "code",
   "execution_count": 4,
   "id": "48bbac0f-4207-4e7f-8567-0666944e5617",
   "metadata": {
    "scrolled": true
   },
   "outputs": [
    {
     "name": "stdout",
     "output_type": "stream",
     "text": [
      "root\n",
      " |-- meta: struct (nullable = true)\n",
      " |    |-- disclaimer: string (nullable = true)\n",
      " |    |-- last_updated: string (nullable = true)\n",
      " |    |-- license: string (nullable = true)\n",
      " |    |-- results: struct (nullable = true)\n",
      " |    |    |-- limit: long (nullable = true)\n",
      " |    |    |-- skip: long (nullable = true)\n",
      " |    |    |-- total: long (nullable = true)\n",
      " |    |-- terms: string (nullable = true)\n",
      " |-- results: array (nullable = true)\n",
      " |    |-- element: struct (containsNull = true)\n",
      " |    |    |-- authoritynumb: string (nullable = true)\n",
      " |    |    |-- companynumb: string (nullable = true)\n",
      " |    |    |-- duplicate: string (nullable = true)\n",
      " |    |    |-- fulfillexpeditecriteria: string (nullable = true)\n",
      " |    |    |-- occurcountry: string (nullable = true)\n",
      " |    |    |-- patient: struct (nullable = true)\n",
      " |    |    |    |-- drug: array (nullable = true)\n",
      " |    |    |    |    |-- element: struct (containsNull = true)\n",
      " |    |    |    |    |    |-- actiondrug: string (nullable = true)\n",
      " |    |    |    |    |    |-- activesubstance: struct (nullable = true)\n",
      " |    |    |    |    |    |    |-- activesubstancename: string (nullable = true)\n",
      " |    |    |    |    |    |-- drugadditional: string (nullable = true)\n",
      " |    |    |    |    |    |-- drugadministrationroute: string (nullable = true)\n",
      " |    |    |    |    |    |-- drugauthorizationnumb: string (nullable = true)\n",
      " |    |    |    |    |    |-- drugbatchnumb: string (nullable = true)\n",
      " |    |    |    |    |    |-- drugcharacterization: string (nullable = true)\n",
      " |    |    |    |    |    |-- drugcumulativedosagenumb: string (nullable = true)\n",
      " |    |    |    |    |    |-- drugcumulativedosageunit: string (nullable = true)\n",
      " |    |    |    |    |    |-- drugdosageform: string (nullable = true)\n",
      " |    |    |    |    |    |-- drugdosagetext: string (nullable = true)\n",
      " |    |    |    |    |    |-- drugenddate: string (nullable = true)\n",
      " |    |    |    |    |    |-- drugenddateformat: string (nullable = true)\n",
      " |    |    |    |    |    |-- drugindication: string (nullable = true)\n",
      " |    |    |    |    |    |-- drugintervaldosagedefinition: string (nullable = true)\n",
      " |    |    |    |    |    |-- drugintervaldosageunitnumb: string (nullable = true)\n",
      " |    |    |    |    |    |-- drugrecurreadministration: string (nullable = true)\n",
      " |    |    |    |    |    |-- drugrecurrence: array (nullable = true)\n",
      " |    |    |    |    |    |    |-- element: struct (containsNull = true)\n",
      " |    |    |    |    |    |    |    |-- drugrecuraction: string (nullable = true)\n",
      " |    |    |    |    |    |    |    |-- drugrecuractionmeddraversion: string (nullable = true)\n",
      " |    |    |    |    |    |-- drugseparatedosagenumb: string (nullable = true)\n",
      " |    |    |    |    |    |-- drugstartdate: string (nullable = true)\n",
      " |    |    |    |    |    |-- drugstartdateformat: string (nullable = true)\n",
      " |    |    |    |    |    |-- drugstructuredosagenumb: string (nullable = true)\n",
      " |    |    |    |    |    |-- drugstructuredosageunit: string (nullable = true)\n",
      " |    |    |    |    |    |-- drugtreatmentduration: string (nullable = true)\n",
      " |    |    |    |    |    |-- drugtreatmentdurationunit: string (nullable = true)\n",
      " |    |    |    |    |    |-- medicinalproduct: string (nullable = true)\n",
      " |    |    |    |    |    |-- openfda: struct (nullable = true)\n",
      " |    |    |    |    |    |    |-- application_number: array (nullable = true)\n",
      " |    |    |    |    |    |    |    |-- element: string (containsNull = true)\n",
      " |    |    |    |    |    |    |-- brand_name: array (nullable = true)\n",
      " |    |    |    |    |    |    |    |-- element: string (containsNull = true)\n",
      " |    |    |    |    |    |    |-- generic_name: array (nullable = true)\n",
      " |    |    |    |    |    |    |    |-- element: string (containsNull = true)\n",
      " |    |    |    |    |    |    |-- manufacturer_name: array (nullable = true)\n",
      " |    |    |    |    |    |    |    |-- element: string (containsNull = true)\n",
      " |    |    |    |    |    |    |-- nui: array (nullable = true)\n",
      " |    |    |    |    |    |    |    |-- element: string (containsNull = true)\n",
      " |    |    |    |    |    |    |-- package_ndc: array (nullable = true)\n",
      " |    |    |    |    |    |    |    |-- element: string (containsNull = true)\n",
      " |    |    |    |    |    |    |-- pharm_class_cs: array (nullable = true)\n",
      " |    |    |    |    |    |    |    |-- element: string (containsNull = true)\n",
      " |    |    |    |    |    |    |-- pharm_class_epc: array (nullable = true)\n",
      " |    |    |    |    |    |    |    |-- element: string (containsNull = true)\n",
      " |    |    |    |    |    |    |-- pharm_class_moa: array (nullable = true)\n",
      " |    |    |    |    |    |    |    |-- element: string (containsNull = true)\n",
      " |    |    |    |    |    |    |-- pharm_class_pe: array (nullable = true)\n",
      " |    |    |    |    |    |    |    |-- element: string (containsNull = true)\n",
      " |    |    |    |    |    |    |-- product_ndc: array (nullable = true)\n",
      " |    |    |    |    |    |    |    |-- element: string (containsNull = true)\n",
      " |    |    |    |    |    |    |-- product_type: array (nullable = true)\n",
      " |    |    |    |    |    |    |    |-- element: string (containsNull = true)\n",
      " |    |    |    |    |    |    |-- route: array (nullable = true)\n",
      " |    |    |    |    |    |    |    |-- element: string (containsNull = true)\n",
      " |    |    |    |    |    |    |-- rxcui: array (nullable = true)\n",
      " |    |    |    |    |    |    |    |-- element: string (containsNull = true)\n",
      " |    |    |    |    |    |    |-- spl_id: array (nullable = true)\n",
      " |    |    |    |    |    |    |    |-- element: string (containsNull = true)\n",
      " |    |    |    |    |    |    |-- spl_set_id: array (nullable = true)\n",
      " |    |    |    |    |    |    |    |-- element: string (containsNull = true)\n",
      " |    |    |    |    |    |    |-- substance_name: array (nullable = true)\n",
      " |    |    |    |    |    |    |    |-- element: string (containsNull = true)\n",
      " |    |    |    |    |    |    |-- unii: array (nullable = true)\n",
      " |    |    |    |    |    |    |    |-- element: string (containsNull = true)\n",
      " |    |    |    |-- patientagegroup: string (nullable = true)\n",
      " |    |    |    |-- patientonsetage: string (nullable = true)\n",
      " |    |    |    |-- patientonsetageunit: string (nullable = true)\n",
      " |    |    |    |-- patientsex: string (nullable = true)\n",
      " |    |    |    |-- patientweight: string (nullable = true)\n",
      " |    |    |    |-- reaction: array (nullable = true)\n",
      " |    |    |    |    |-- element: struct (containsNull = true)\n",
      " |    |    |    |    |    |-- reactionmeddrapt: string (nullable = true)\n",
      " |    |    |    |    |    |-- reactionmeddraversionpt: string (nullable = true)\n",
      " |    |    |    |    |    |-- reactionoutcome: string (nullable = true)\n",
      " |    |    |    |-- summary: struct (nullable = true)\n",
      " |    |    |    |    |-- narrativeincludeclinical: string (nullable = true)\n",
      " |    |    |-- primarysource: struct (nullable = true)\n",
      " |    |    |    |-- literaturereference: string (nullable = true)\n",
      " |    |    |    |-- qualification: string (nullable = true)\n",
      " |    |    |    |-- reportercountry: string (nullable = true)\n",
      " |    |    |-- primarysourcecountry: string (nullable = true)\n",
      " |    |    |-- receiptdate: string (nullable = true)\n",
      " |    |    |-- receiptdateformat: string (nullable = true)\n",
      " |    |    |-- receivedate: string (nullable = true)\n",
      " |    |    |-- receivedateformat: string (nullable = true)\n",
      " |    |    |-- receiver: struct (nullable = true)\n",
      " |    |    |    |-- receiverorganization: string (nullable = true)\n",
      " |    |    |    |-- receivertype: string (nullable = true)\n",
      " |    |    |-- reportduplicate: string (nullable = true)\n",
      " |    |    |-- reporttype: string (nullable = true)\n",
      " |    |    |-- safetyreportid: string (nullable = true)\n",
      " |    |    |-- safetyreportversion: string (nullable = true)\n",
      " |    |    |-- sender: struct (nullable = true)\n",
      " |    |    |    |-- senderorganization: string (nullable = true)\n",
      " |    |    |    |-- sendertype: string (nullable = true)\n",
      " |    |    |-- serious: string (nullable = true)\n",
      " |    |    |-- seriousnesscongenitalanomali: string (nullable = true)\n",
      " |    |    |-- seriousnessdeath: string (nullable = true)\n",
      " |    |    |-- seriousnessdisabling: string (nullable = true)\n",
      " |    |    |-- seriousnesshospitalization: string (nullable = true)\n",
      " |    |    |-- seriousnesslifethreatening: string (nullable = true)\n",
      " |    |    |-- seriousnessother: string (nullable = true)\n",
      " |    |    |-- transmissiondate: string (nullable = true)\n",
      " |    |    |-- transmissiondateformat: string (nullable = true)\n",
      "\n"
     ]
    }
   ],
   "source": [
    "json_data.printSchema()"
   ]
  },
  {
   "cell_type": "code",
   "execution_count": 5,
   "id": "049be9a2-e5cc-47a5-a2ea-173ea1dc29ad",
   "metadata": {},
   "outputs": [],
   "source": [
    "exploded_results = json_data.select(explode(F.col(\"results\")).alias(\"exploded_results\"))"
   ]
  },
  {
   "cell_type": "code",
   "execution_count": 6,
   "id": "6e5494f9-567e-4746-95af-c28ab88ced73",
   "metadata": {},
   "outputs": [],
   "source": [
    "# exploded_results.count()\n",
    "#12000"
   ]
  },
  {
   "cell_type": "code",
   "execution_count": 7,
   "id": "03b7f963-d4ec-4a13-9495-659f7e9db84a",
   "metadata": {},
   "outputs": [],
   "source": [
    "all_keys = []"
   ]
  },
  {
   "cell_type": "markdown",
   "id": "b631ea3b-0e4d-4a6a-a23f-4c94b93d9229",
   "metadata": {},
   "source": [
    "### Converting Nested JSON Data into Columns"
   ]
  },
  {
   "cell_type": "code",
   "execution_count": 8,
   "id": "a0b95afa-f108-4be9-98fe-d5d526782a7d",
   "metadata": {},
   "outputs": [],
   "source": [
    "def remove_null_column(data):\n",
    "    total_rows = 100000\n",
    "    null_counts = data.select([F.count(F.when(F.col(c).isNull(), c)).alias(c) for c in data.columns])\n",
    "    null_counts_pandas = null_counts.toPandas()\n",
    "    list_cols = [i for i in null_counts.columns if null_counts_pandas[i][0]/total_rows > 0.3] #remove any column with 30% null values\n",
    "    null_counts_pandas[list_cols]\n",
    "    data = data.drop(*list_cols)\n",
    "    return data"
   ]
  },
  {
   "cell_type": "code",
   "execution_count": 9,
   "id": "bd457f53-4b34-45de-81a5-8f07c7cb7704",
   "metadata": {},
   "outputs": [],
   "source": [
    "# temp_data.withColumn(\"keys\", F.json_object_keys(temp_data.exploded_array)).show()\n",
    "keys = exploded_results.select(F.col(\"exploded_results.*\")).columns\n",
    "keys = [\"exploded_results.\"+str(i) for i in keys]\n",
    "all_keys.extend(keys)"
   ]
  },
  {
   "cell_type": "code",
   "execution_count": 10,
   "id": "0ff4b7c3-3906-4992-899e-79440a8b08d9",
   "metadata": {},
   "outputs": [],
   "source": [
    "patient_keys = exploded_results.select(F.col(\"exploded_results.patient.*\")).columns\n",
    "patient_keys = [\"exploded_results.patient.\"+str(i) for i in patient_keys]\n",
    "all_keys.extend(patient_keys)\n",
    "updated_data = exploded_results.select(all_keys)\n",
    "updated_data = updated_data.drop(F.col(\"patient\"))\n",
    "all_keys = updated_data.columns"
   ]
  },
  {
   "cell_type": "code",
   "execution_count": 11,
   "id": "dbfdeb0f-f21b-44c5-9686-5f6e3cf839f0",
   "metadata": {},
   "outputs": [],
   "source": [
    "# updated_data.count()\n",
    "#12000"
   ]
  },
  {
   "cell_type": "code",
   "execution_count": 12,
   "id": "e8a11e61-c0d1-47fe-83ae-a83ca13d5db2",
   "metadata": {},
   "outputs": [],
   "source": [
    "updated_data = updated_data.select(all_keys)\\\n",
    "            .withColumn(\"explode_drug\",F.explode(F.col(\"drug\")))\n",
    "drug_keys = updated_data.select(F.col(\"explode_drug.*\")).columns\n",
    "drug_keys = [\"explode_drug.\"+i for i in drug_keys]\n",
    "all_keys.extend(drug_keys)"
   ]
  },
  {
   "cell_type": "code",
   "execution_count": 13,
   "id": "b8af7a00-c33e-4d0e-9200-fad0289a93c4",
   "metadata": {},
   "outputs": [],
   "source": [
    "updated_data = updated_data.select(all_keys)"
   ]
  },
  {
   "cell_type": "code",
   "execution_count": 14,
   "id": "ee756ce5-caf4-4682-8b59-b228a72901ba",
   "metadata": {},
   "outputs": [],
   "source": [
    "updated_data = updated_data.drop(*['authoritynumb','duplicate','reportduplicate','patientagegroup','patientweight','summary'])"
   ]
  },
  {
   "cell_type": "code",
   "execution_count": 15,
   "id": "e051b646-f98c-43e2-b4fc-8e8009cc0c37",
   "metadata": {},
   "outputs": [],
   "source": [
    "updated_data = updated_data.where(F.col(\"drugindication\") != 'NULL')"
   ]
  },
  {
   "cell_type": "code",
   "execution_count": 16,
   "id": "bf1916c7-2990-4d4c-bb87-3dd97b3c5e34",
   "metadata": {},
   "outputs": [],
   "source": [
    "updated_data = updated_data.where(F.col(\"drugindication\") != \"Product used for unknown indication\")"
   ]
  },
  {
   "cell_type": "code",
   "execution_count": 17,
   "id": "4e5aa893-136e-4012-acea-628187c4a3bc",
   "metadata": {},
   "outputs": [
    {
     "name": "stdout",
     "output_type": "stream",
     "text": [
      "+--------------------+-----------------------+------------+--------------------+--------------------+-----------+-----------------+-----------+-----------------+--------+----------+--------------+-------------------+--------------------+-------+----------------------------+----------------+--------------------+--------------------------+--------------------------+----------------+----------------+----------------------+--------------------+---------------+-------------------+----------+--------------------+----------+--------------------+--------------+-----------------------+---------------------+-------------------+--------------------+------------------------+------------------------+--------------------+--------------------+-----------+-----------------+--------------------+----------------------------+--------------------------+-------------------------+--------------+----------------------+-------------+-------------------+-----------------------+-----------------------+---------------------+-------------------------+-------------------+--------------------+\n",
      "|         companynumb|fulfillexpeditecriteria|occurcountry|       primarysource|primarysourcecountry|receiptdate|receiptdateformat|receivedate|receivedateformat|receiver|reporttype|safetyreportid|safetyreportversion|              sender|serious|seriousnesscongenitalanomali|seriousnessdeath|seriousnessdisabling|seriousnesshospitalization|seriousnesslifethreatening|seriousnessother|transmissiondate|transmissiondateformat|                drug|patientonsetage|patientonsetageunit|patientsex|            reaction|actiondrug|     activesubstance|drugadditional|drugadministrationroute|drugauthorizationnumb|      drugbatchnumb|drugcharacterization|drugcumulativedosagenumb|drugcumulativedosageunit|      drugdosageform|      drugdosagetext|drugenddate|drugenddateformat|      drugindication|drugintervaldosagedefinition|drugintervaldosageunitnumb|drugrecurreadministration|drugrecurrence|drugseparatedosagenumb|drugstartdate|drugstartdateformat|drugstructuredosagenumb|drugstructuredosageunit|drugtreatmentduration|drugtreatmentdurationunit|   medicinalproduct|             openfda|\n",
      "+--------------------+-----------------------+------------+--------------------+--------------------+-----------+-----------------+-----------+-----------------+--------+----------+--------------+-------------------+--------------------+-------+----------------------------+----------------+--------------------+--------------------------+--------------------------+----------------+----------------+----------------------+--------------------+---------------+-------------------+----------+--------------------+----------+--------------------+--------------+-----------------------+---------------------+-------------------+--------------------+------------------------+------------------------+--------------------+--------------------+-----------+-----------------+--------------------+----------------------------+--------------------------+-------------------------+--------------+----------------------+-------------+-------------------+-----------------------+-----------------------+---------------------+-------------------------+-------------------+--------------------+\n",
      "|CA-TAKEDA-2024TUS...|                      1|          CA|       {NULL, 3, CA}|                  CA|   20240925|              102|   20240925|              102|{FDA, 6}|         1|      24362345|                  1|         {TAKEDA, 1}|      1|                           2|               2|                   2|                         2|                         2|               1|        20241016|                   102|[{5, {HUMAN IMMUN...|             66|                801|         2|[{Oxygen saturati...|         5|{HUMAN IMMUNOGLOB...|             3|                    065|               125105|               NULL|                   1|                    NULL|                    NULL|Solution for infu...|        60 GRAM, QOD|       NULL|             NULL|Immune thrombocyt...|                         804|                         2|                        3|          NULL|                     1|         NULL|               NULL|                     60|                    002|                 NULL|                     NULL|   GAMMAGARD LIQUID|                NULL|\n",
      "|US-RIGEL Pharmace...|                      2|          US|       {NULL, 5, US}|                  US|   20240925|              102|   20240925|              102|{FDA, 6}|         1|      24363951|                  1|{RIGEL PHARMACEUT...|      2|                           2|               2|                   2|                         2|                         2|               2|        20241017|                   102|[{5, {OLUTASIDENI...|           NULL|               NULL|         1|[{Transfusion, 27...|         5|      {OLUTASIDENIB}|             3|                    048|               215814|            FG14203|                   1|                    NULL|                    NULL|             Capsule|         150 MG, BID|       NULL|             NULL|Chronic myeloid l...|                         804|                         1|                     NULL|          NULL|                     2|     20240607|                102|                    150|                    003|                 NULL|                     NULL|          REZLIDHIA|{[NDA215814], [RE...|\n",
      "|  CA-SA-2017SA169943|                      1|          CA|       {NULL, 3, CA}|                  CA|   20240914|              102|   20200527|              102|{FDA, 6}|         2|      17831270|                  7| {SANOFI AVENTIS, 1}|      1|                           2|               2|                   2|                         2|                         2|               1|        20241017|                   102|[{4, {ALEMTUZUMAB...|             50|                801|         2|[{Lymphopenia, 27...|         4|       {ALEMTUZUMAB}|          NULL|                    041|               103948|               NULL|                   1|                  74.278|                     003|Concentrate for s...|            12 MG,QD|   20170908|              102|Relapsing multipl...|                         804|                         1|                     NULL|          NULL|                     1|     20170906|                102|                     12|                    003|                 4540|                      806|        ALEMTUZUMAB|{[BLA103948], [CA...|\n",
      "|  CA-SA-2017SA169943|                      1|          CA|       {NULL, 3, CA}|                  CA|   20240914|              102|   20200527|              102|{FDA, 6}|         2|      17831270|                  7| {SANOFI AVENTIS, 1}|      1|                           2|               2|                   2|                         2|                         2|               1|        20241017|                   102|[{4, {ALEMTUZUMAB...|             50|                801|         2|[{Lymphopenia, 27...|         5|{ONABOTULINUMTOXINA}|             3|                    030|                 NULL|               NULL|                   2|                    NULL|                    NULL|                NULL|                 UNK|       NULL|             NULL|         Prophylaxis|                        NULL|                      NULL|                     NULL|          NULL|                  NULL|     20181108|                102|                   NULL|                   NULL|                 NULL|                     NULL|              BOTOX|{[BLA103000], [BO...|\n",
      "|  CA-SA-2017SA169943|                      1|          CA|       {NULL, 3, CA}|                  CA|   20240914|              102|   20200527|              102|{FDA, 6}|         2|      17831270|                  7| {SANOFI AVENTIS, 1}|      1|                           2|               2|                   2|                         2|                         2|               1|        20241017|                   102|[{4, {ALEMTUZUMAB...|             50|                801|         2|[{Lymphopenia, 27...|         5|      {TRIMETHOPRIM}|             3|                    048|                 NULL|               NULL|                   2|                    NULL|                    NULL|                NULL|                 UNK|       NULL|             NULL|         Prophylaxis|                        NULL|                      NULL|                     NULL|          NULL|                  NULL|     20210724|                102|                   NULL|                   NULL|                 NULL|                     NULL|       TRIMETHOPRIM|{[NDA018679, ANDA...|\n",
      "|US-PFIZER INC-202...|                      1|          US|       {NULL, 5, US}|                  US|   20240718|              102|   20200605|              102|{FDA, 6}|         1|      17865558|                  9|         {PFIZER, 1}|      1|                           2|               2|                   2|                         2|                         2|               1|        20241017|                   102|[{4, {TOFACITINIB...|             80|                801|         2|[{Rotator cuff sy...|         4|{TOFACITINIB CITR...|          NULL|                    048|               208246|            8164605|                   1|                    NULL|                    NULL|Prolonged-release...|11 MG, 1X/DAY (ON...|       NULL|             NULL|Rheumatoid arthritis|                         804|                         1|                     NULL|          NULL|                     1|         NULL|               NULL|                     11|                    003|                 NULL|                     NULL|         XELJANZ XR|{[NDA208246], [XE...|\n",
      "|US-PFIZER INC-202...|                      1|          US|       {NULL, 5, US}|                  US|   20240718|              102|   20200605|              102|{FDA, 6}|         1|      17865558|                  9|         {PFIZER, 1}|      1|                           2|               2|                   2|                         2|                         2|               1|        20241017|                   102|[{4, {TOFACITINIB...|             80|                801|         2|[{Rotator cuff sy...|      NULL|      {METHOTREXATE}|          NULL|                   NULL|                 NULL|               NULL|                   2|                    NULL|                    NULL|                NULL|                 UNK|       NULL|             NULL|Rheumatoid arthritis|                        NULL|                      NULL|                     NULL|          NULL|                  NULL|         NULL|               NULL|                   NULL|                   NULL|                 NULL|                     NULL|       METHOTREXATE|{[ANDA210454, NDA...|\n",
      "|CA-APOTEX-2020AP0...|                      1|          CA|       {NULL, 1, CA}|                  CA|   20240821|              102|   20200729|              102|{FDA, 6}|         3|      18087054|                  5|         {APOTEX, 1}|      1|                           2|               2|                   2|                         1|                         2|               1|        20241017|                   102|[{5, {AMLODIPINE ...|             61|                801|         1|[{Asthma, 27.0, 6...|         5| {DIVALPROEX SODIUM}|             3|                    065|               077615|               NULL|                   1|                    NULL|                    NULL|                NULL|                 UNK|       NULL|             NULL|            Epilepsy|                        NULL|                      NULL|                     NULL|          NULL|                  NULL|         NULL|               NULL|                   NULL|                   NULL|                 NULL|                     NULL|  DIVALPROEX SODIUM|{[ANDA090161, AND...|\n",
      "|CA-TOLMAR, INC.-2...|                      2|          CA|       {NULL, 5, CA}|                  CA|   20240919|              102|   20201029|              102|{FDA, 6}|         3|      18442482|                  6|         {TOLMAR, 1}|      1|                           2|               2|                   2|                         2|                         2|               1|        20241017|                   102|[{4, {LEUPROLIDE ...|             76|                801|         1|[{Appendicitis pe...|         4|{LEUPROLIDE ACETATE}|          NULL|                    058|               021731|11097A; 11096A; UNK|                   1|                    NULL|                    NULL|           Injection|45 MILLIGRAM, Q 6...|       NULL|             NULL|     Prostate cancer|                         802|                         6|                     NULL|          NULL|                     1|     20200908|                102|                     45|                    003|                 NULL|                     NULL|            ELIGARD|{[NDA021379, NDA0...|\n",
      "|JP-KYOWAKIRIN-202...|                      1|          JP|       {NULL, 2, JP}|                  JP|   20240922|              102|   20201128|              102|{FDA, 6}|         1|      18556206|                  3|          {AMGEN, 1}|      1|                           2|               2|                   2|                         1|                         2|               2|        20241016|                   102|[{5, {DARBEPOETIN...|             94|                801|      NULL|[{Hospitalisation...|         5|  {DARBEPOETIN ALFA}|             3|                    065|               103951|               NULL|                   1|                    NULL|                    NULL|           Injection|  30 MICROGRAM, Q2WK|       NULL|             NULL| Nephrogenic anaemia|                         803|                         2|                     NULL|          NULL|                     1|         NULL|               NULL|                     30|                    004|                 NULL|                     NULL|   DARBEPOETIN ALFA|{[BLA103951], [AR...|\n",
      "|CA-AUROBINDO-AUR-...|                      1|          CA|       {NULL, 3, CA}|                  CA|   20240807|              102|   20210113|              102|{FDA, 6}|         1|      18733892|                  9|      {AUROBINDO, 1}|      1|                           2|               2|                   2|                         1|                         2|               1|        20241017|                   102|[{5, {ATORVASTATI...|             45|                801|         2|[{Asthma, 27.0, 6...|         5| {ALBUTEROL SULFATE}|             3|                   NULL|                 NULL|               NULL|                   1|                    NULL|                    NULL|                NULL|100 MILLIGRAM, ON...|       NULL|             NULL|              Asthma|                         804|                         1|                     NULL|          NULL|                     1|         NULL|               NULL|                    100|                    003|                 NULL|                     NULL|  ALBUTEROL SULFATE|{[ANDA077788, AND...|\n",
      "|                NULL|                      1|          FR|       {NULL, 1, FR}|                  FR|   20240926|              102|   20240926|              102|{FDA, 6}|         1|      24366152|                  1|          {MERCK, 1}|      1|                           2|               2|                   2|                         1|                         2|               1|        20241016|                   102|[{5, {TEDIZOLID P...|             85|                801|         1|[{Pancytopenia, 2...|         5|{TEDIZOLID PHOSPH...|             3|                    048|               205435|               NULL|                   1|                    NULL|                    NULL|              Tablet|       200 MILLIGRAM|   20240823|              102|           Infection|                        NULL|                      NULL|                     NULL|          NULL|                  NULL|     20240812|                102|                    200|                    003|                   12|                      804|TEDIZOLID PHOSPHATE|{[NDA205436, NDA2...|\n",
      "|                NULL|                      1|          FR|       {NULL, 1, FR}|                  FR|   20240926|              102|   20240926|              102|{FDA, 6}|         1|      24366152|                  1|          {MERCK, 1}|      1|                           2|               2|                   2|                         1|                         2|               1|        20241016|                   102|[{5, {TEDIZOLID P...|             85|                801|         1|[{Pancytopenia, 2...|         5|       {MIRTAZAPINE}|             3|                    048|                 NULL|               NULL|                   1|                    NULL|                    NULL|              Tablet|                 UNK|       NULL|             NULL|          Depression|                        NULL|                      NULL|                     NULL|          NULL|                  NULL|     20240625|                102|                   NULL|                   NULL|                 NULL|                     NULL|        MIRTAZAPINE|{[ANDA076921, AND...|\n",
      "|                NULL|                      1|          FR|       {NULL, 1, FR}|                  FR|   20240926|              102|   20240926|              102|{FDA, 6}|         1|      24366152|                  1|          {MERCK, 1}|      1|                           2|               2|                   2|                         1|                         2|               1|        20241016|                   102|[{5, {TEDIZOLID P...|             85|                801|         1|[{Pancytopenia, 2...|         5|{DOXYCYCLINE\\DOXY...|             3|                    048|                 NULL|               NULL|                   1|                    NULL|                    NULL|                NULL|       200 MILLIGRAM|   20240826|              102|           Infection|                        NULL|                      NULL|                     NULL|          NULL|                  NULL|     20240812|                102|                    200|                    003|                   15|                      804|        DOXYCYCLINE|{[ANDA201678, AND...|\n",
      "|                NULL|                      1|          FR|       {NULL, 1, FR}|                  FR|   20240926|              102|   20240926|              102|{FDA, 6}|         1|      24366152|                  1|          {MERCK, 1}|      1|                           2|               2|                   2|                         1|                         2|               1|        20241016|                   102|[{5, {TEDIZOLID P...|             85|                801|         1|[{Pancytopenia, 2...|         5|     {ACETAMINOPHEN}|             3|                    048|                 NULL|               NULL|                   1|                    NULL|                    NULL|                NULL|                 UNK|       NULL|             NULL|                Pain|                        NULL|                      NULL|                     NULL|          NULL|                  NULL|         NULL|               NULL|                   NULL|                   NULL|                 NULL|                     NULL|      ACETAMINOPHEN|{[M013, part343, ...|\n",
      "|                NULL|                      1|          FR|       {NULL, 1, FR}|                  FR|   20240926|              102|   20240926|              102|{FDA, 6}|         1|      24366152|                  1|          {MERCK, 1}|      1|                           2|               2|                   2|                         1|                         2|               1|        20241016|                   102|[{5, {TEDIZOLID P...|             85|                801|         1|[{Pancytopenia, 2...|         5|        {FUROSEMIDE}|             3|                    048|                 NULL|               NULL|                   1|                    NULL|                    NULL|                NULL|                 UNK|   20240706|              102| Atrial fibrillation|                        NULL|                      NULL|                     NULL|          NULL|                  NULL|     20240620|                102|                   NULL|                   NULL|                   17|                      804|         FUROSEMIDE|{[ANDA078010, AND...|\n",
      "|US-SMPA-2024SPA00...|                      2|          US|       {NULL, 5, US}|                  US|   20240826|              102|   20240826|              102|{FDA, 6}|         1|      24251165|                  1|       {SUNOVION, 1}|      2|                           2|               2|                   2|                         2|                         2|               2|        20241016|                   102|[{5, {RELUGOLIX},...|           NULL|               NULL|      NULL|[{Hot flush, 27.0...|         5|         {RELUGOLIX}|             3|                    048|               214621|             CPMNGA|                   1|                    NULL|                    NULL|              Tablet|          120 MG, QD|       NULL|             NULL|     Prostate cancer|                         804|                         1|                     NULL|          NULL|                     1|         NULL|               NULL|                    120|                    003|                 NULL|                     NULL|            ORGOVYX|{[NDA214621], [OR...|\n",
      "|US-CADILA HEALTHC...|                      1|          US|{Monge J, Razavi ...|                  US|   20240827|              102|   20240827|              102|{FDA, 6}|         1|      24252380|                  1|    {ZYDUS PHARM, 1}|      1|                           2|               1|                   2|                         1|                         2|               1|        20241017|                   102|[{1, {BORTEZOMIB}...|           NULL|               NULL|      NULL|[{Plasma cell mye...|         1|        {BORTEZOMIB}|          NULL|                    065|               210204|            Unknown|                   1|                    NULL|                    NULL|                NULL|                 UNK|       NULL|             NULL| Plasma cell myeloma|                        NULL|                      NULL|                     NULL|          NULL|                  NULL|         NULL|               NULL|                   NULL|                   NULL|                 NULL|                     NULL|         BORTEZOMIB|{[ANDA213823, AND...|\n",
      "|US-CADILA HEALTHC...|                      1|          US|{Monge J, Razavi ...|                  US|   20240827|              102|   20240827|              102|{FDA, 6}|         1|      24252380|                  1|    {ZYDUS PHARM, 1}|      1|                           2|               1|                   2|                         1|                         2|               1|        20241017|                   102|[{1, {BORTEZOMIB}...|           NULL|               NULL|      NULL|[{Plasma cell mye...|         1|      {LENALIDOMIDE}|          NULL|                    065|               210154|            Unknown|                   1|                    NULL|                    NULL|                NULL|                 UNK|       NULL|             NULL| Plasma cell myeloma|                        NULL|                      NULL|                     NULL|          NULL|                  NULL|         NULL|               NULL|                   NULL|                   NULL|                 NULL|                     NULL|       LENALIDOMIDE|{[ANDA211022, AND...|\n",
      "|US-CADILA HEALTHC...|                      1|          US|{Monge J, Razavi ...|                  US|   20240827|              102|   20240827|              102|{FDA, 6}|         1|      24252380|                  1|    {ZYDUS PHARM, 1}|      1|                           2|               1|                   2|                         1|                         2|               1|        20241017|                   102|[{1, {BORTEZOMIB}...|           NULL|               NULL|      NULL|[{Plasma cell mye...|         5|     {DEXAMETHASONE}|             3|                    065|                 NULL|            Unknown|                   1|                    NULL|                    NULL|                NULL|                 UNK|       NULL|             NULL| Plasma cell myeloma|                        NULL|                      NULL|                     NULL|          NULL|                  NULL|         NULL|               NULL|                   NULL|                   NULL|                 NULL|                     NULL|      DEXAMETHASONE|{[ANDA216283, NDA...|\n",
      "+--------------------+-----------------------+------------+--------------------+--------------------+-----------+-----------------+-----------+-----------------+--------+----------+--------------+-------------------+--------------------+-------+----------------------------+----------------+--------------------+--------------------------+--------------------------+----------------+----------------+----------------------+--------------------+---------------+-------------------+----------+--------------------+----------+--------------------+--------------+-----------------------+---------------------+-------------------+--------------------+------------------------+------------------------+--------------------+--------------------+-----------+-----------------+--------------------+----------------------------+--------------------------+-------------------------+--------------+----------------------+-------------+-------------------+-----------------------+-----------------------+---------------------+-------------------------+-------------------+--------------------+\n",
      "only showing top 20 rows\n",
      "\n"
     ]
    }
   ],
   "source": [
    "updated_data.show()"
   ]
  },
  {
   "cell_type": "code",
   "execution_count": 20,
   "id": "7145ec60-eaa1-4c47-807f-b56d9bf7ac75",
   "metadata": {},
   "outputs": [],
   "source": [
    "all_keys = updated_data.columns"
   ]
  },
  {
   "cell_type": "code",
   "execution_count": 22,
   "id": "725d9384-629c-4616-bae9-1cf63bb6e2ec",
   "metadata": {},
   "outputs": [],
   "source": [
    "all_keys = updated_data.columns\n",
    "updated_data = updated_data.select(all_keys)\\\n",
    "            .withColumn(\"explode_reaction\",F.explode(F.col(\"reaction\")))\n",
    "all_keys = updated_data.columns\n",
    "reaction_keys = updated_data.select(F.col(\"explode_reaction.*\")).columns\n",
    "reaction_keys = [\"explode_reaction.\"+i for i in reaction_keys]\n",
    "all_keys.extend(reaction_keys)"
   ]
  },
  {
   "cell_type": "code",
   "execution_count": 23,
   "id": "de326f81-78d5-466b-9f6a-526833875a5a",
   "metadata": {},
   "outputs": [],
   "source": [
    "updated_data = updated_data.select(all_keys)"
   ]
  },
  {
   "cell_type": "code",
   "execution_count": 24,
   "id": "d9748cd8-8e3e-45a1-bc96-0f53e8a4dc47",
   "metadata": {},
   "outputs": [],
   "source": [
    "updated_data = updated_data.where(F.col(\"reactionmeddrapt\") != 'NULL')"
   ]
  },
  {
   "cell_type": "code",
   "execution_count": 25,
   "id": "f333a39e-efce-4abd-8ce5-7b4449470c9e",
   "metadata": {},
   "outputs": [],
   "source": [
    "updated_data = updated_data.select([\"seriousnessdeath\",\"seriousnesslifethreatening\",\"seriousnesshospitalization\",\"seriousnessdisabling\",\"seriousnesscongenitalanomali\",\"seriousnessother\",\"patientonsetage\",\"reactionmeddrapt\",\"reactionoutcome\",\"drugindication\",\"activesubstance.activesubstancename\",\"medicinalproduct\",\"openfda.route\",\"openfda.brand_name\",\"openfda.generic_name\"])"
   ]
  },
  {
   "cell_type": "code",
   "execution_count": 26,
   "id": "fad892f5-ef6b-47c8-a08e-e0bf86e75c4f",
   "metadata": {
    "scrolled": true
   },
   "outputs": [
    {
     "name": "stdout",
     "output_type": "stream",
     "text": [
      "+----------------+--------------------------+--------------------------+--------------------+----------------------------+----------------+---------------+--------------------+---------------+--------------------+--------------------+----------------+-------------+-------------------+--------------+\n",
      "|seriousnessdeath|seriousnesslifethreatening|seriousnesshospitalization|seriousnessdisabling|seriousnesscongenitalanomali|seriousnessother|patientonsetage|    reactionmeddrapt|reactionoutcome|      drugindication| activesubstancename|medicinalproduct|        route|         brand_name|  generic_name|\n",
      "+----------------+--------------------------+--------------------------+--------------------+----------------------------+----------------+---------------+--------------------+---------------+--------------------+--------------------+----------------+-------------+-------------------+--------------+\n",
      "|               2|                         2|                         2|                   2|                           2|               1|             66|Oxygen saturation...|              6|Immune thrombocyt...|HUMAN IMMUNOGLOBU...|GAMMAGARD LIQUID|         NULL|               NULL|          NULL|\n",
      "|               2|                         2|                         2|                   2|                           2|               1|             66|Tongue discoloura...|              6|Immune thrombocyt...|HUMAN IMMUNOGLOBU...|GAMMAGARD LIQUID|         NULL|               NULL|          NULL|\n",
      "|               2|                         2|                         2|                   2|                           2|               2|           NULL|         Transfusion|              6|Chronic myeloid l...|        OLUTASIDENIB|       REZLIDHIA|       [ORAL]|        [REZLIDHIA]|[OLUTASIDENIB]|\n",
      "|               2|                         2|                         2|                   2|                           2|               2|           NULL|Platelet transfusion|              6|Chronic myeloid l...|        OLUTASIDENIB|       REZLIDHIA|       [ORAL]|        [REZLIDHIA]|[OLUTASIDENIB]|\n",
      "|               2|                         2|                         2|                   2|                           2|               2|           NULL|    Hypersensitivity|              6|Chronic myeloid l...|        OLUTASIDENIB|       REZLIDHIA|       [ORAL]|        [REZLIDHIA]|[OLUTASIDENIB]|\n",
      "|               2|                         2|                         2|                   2|                           2|               2|           NULL|       Off label use|              6|Chronic myeloid l...|        OLUTASIDENIB|       REZLIDHIA|       [ORAL]|        [REZLIDHIA]|[OLUTASIDENIB]|\n",
      "|               2|                         2|                         2|                   2|                           2|               2|           NULL|        Constipation|              6|Chronic myeloid l...|        OLUTASIDENIB|       REZLIDHIA|       [ORAL]|        [REZLIDHIA]|[OLUTASIDENIB]|\n",
      "|               2|                         2|                         2|                   2|                           2|               1|             50|         Lymphopenia|              3|Relapsing multipl...|         ALEMTUZUMAB|     ALEMTUZUMAB|[INTRAVENOUS]|[CAMPATH, LEMTRADA]| [ALEMTUZUMAB]|\n",
      "|               2|                         2|                         2|                   2|                           2|               1|             50|Abdominal discomfort|              1|Relapsing multipl...|         ALEMTUZUMAB|     ALEMTUZUMAB|[INTRAVENOUS]|[CAMPATH, LEMTRADA]| [ALEMTUZUMAB]|\n",
      "|               2|                         2|                         2|                   2|                           2|               1|             50|                Rash|              1|Relapsing multipl...|         ALEMTUZUMAB|     ALEMTUZUMAB|[INTRAVENOUS]|[CAMPATH, LEMTRADA]| [ALEMTUZUMAB]|\n",
      "|               2|                         2|                         2|                   2|                           2|               1|             50|            Headache|              1|Relapsing multipl...|         ALEMTUZUMAB|     ALEMTUZUMAB|[INTRAVENOUS]|[CAMPATH, LEMTRADA]| [ALEMTUZUMAB]|\n",
      "|               2|                         2|                         2|                   2|                           2|               1|             50|      Claustrophobia|              3|Relapsing multipl...|         ALEMTUZUMAB|     ALEMTUZUMAB|[INTRAVENOUS]|[CAMPATH, LEMTRADA]| [ALEMTUZUMAB]|\n",
      "|               2|                         2|                         2|                   2|                           2|               1|             50|   Visual impairment|              3|Relapsing multipl...|         ALEMTUZUMAB|     ALEMTUZUMAB|[INTRAVENOUS]|[CAMPATH, LEMTRADA]| [ALEMTUZUMAB]|\n",
      "|               2|                         2|                         2|                   2|                           2|               1|             50|Peroneal nerve palsy|              3|Relapsing multipl...|         ALEMTUZUMAB|     ALEMTUZUMAB|[INTRAVENOUS]|[CAMPATH, LEMTRADA]| [ALEMTUZUMAB]|\n",
      "|               2|                         2|                         2|                   2|                           2|               1|             50|                Fall|              1|Relapsing multipl...|         ALEMTUZUMAB|     ALEMTUZUMAB|[INTRAVENOUS]|[CAMPATH, LEMTRADA]| [ALEMTUZUMAB]|\n",
      "|               2|                         2|                         2|                   2|                           2|               1|             50|           Contusion|              1|Relapsing multipl...|         ALEMTUZUMAB|     ALEMTUZUMAB|[INTRAVENOUS]|[CAMPATH, LEMTRADA]| [ALEMTUZUMAB]|\n",
      "|               2|                         2|                         2|                   2|                           2|               1|             50|      Gait inability|              3|Relapsing multipl...|         ALEMTUZUMAB|     ALEMTUZUMAB|[INTRAVENOUS]|[CAMPATH, LEMTRADA]| [ALEMTUZUMAB]|\n",
      "|               2|                         2|                         2|                   2|                           2|               1|             50|    Muscle twitching|              3|Relapsing multipl...|         ALEMTUZUMAB|     ALEMTUZUMAB|[INTRAVENOUS]|[CAMPATH, LEMTRADA]| [ALEMTUZUMAB]|\n",
      "|               2|                         2|                         2|                   2|                           2|               1|             50|Hepatic function ...|              1|Relapsing multipl...|         ALEMTUZUMAB|     ALEMTUZUMAB|[INTRAVENOUS]|[CAMPATH, LEMTRADA]| [ALEMTUZUMAB]|\n",
      "|               2|                         2|                         2|                   2|                           2|               1|             50|Electric shock se...|              3|Relapsing multipl...|         ALEMTUZUMAB|     ALEMTUZUMAB|[INTRAVENOUS]|[CAMPATH, LEMTRADA]| [ALEMTUZUMAB]|\n",
      "+----------------+--------------------------+--------------------------+--------------------+----------------------------+----------------+---------------+--------------------+---------------+--------------------+--------------------+----------------+-------------+-------------------+--------------+\n",
      "only showing top 20 rows\n",
      "\n"
     ]
    }
   ],
   "source": [
    "updated_data.show()"
   ]
  },
  {
   "cell_type": "code",
   "execution_count": 30,
   "id": "d5dd3c01-25d7-43c8-9e75-5b5ad0fe6437",
   "metadata": {},
   "outputs": [],
   "source": [
    "updated_data = updated_data.dropna()"
   ]
  },
  {
   "cell_type": "code",
   "execution_count": 51,
   "id": "6a4563c6-0a9e-41c3-9d7f-929684ba9fc3",
   "metadata": {},
   "outputs": [],
   "source": [
    "updated_data = updated_data.join(updated_data.groupby(F.col(\"activesubstancename\")).count().filter(F.col(\"count\") > 200).select(\"activesubstancename\"),\n",
    "                  on=\"activesubstancename\", how=\"inner\")"
   ]
  },
  {
   "cell_type": "code",
   "execution_count": 31,
   "id": "36601e9d-1ff5-4d99-bfa3-07b1eaf514bc",
   "metadata": {},
   "outputs": [],
   "source": [
    "# updated_data = updated_data.select(all_keys)\n",
    "# all_keys = updated_data.columns\n",
    "# openfda_keys = updated_data.select(F.col(\"openfda.*\")).columns\n",
    "# openfda_keys = [\"openfda.\"+i for i in openfda_keys]\n",
    "# all_keys.extend(openfda_keys)\n",
    "# all_keys.append(\"activesubstance.activesubstancename\")"
   ]
  },
  {
   "cell_type": "code",
   "execution_count": 33,
   "id": "8379154f-4b02-4ebd-8970-e587c8a20551",
   "metadata": {},
   "outputs": [],
   "source": [
    "# updated_data = updated_data.withColumn(\"openfda_{}\".format(\"application_number\"),F.explode(F.col('openfda.application_number')))\\\n",
    "#             .withColumn(\"openfda_{}\".format(\"brand_name\"),F.explode(F.col('openfda.brand_name')))\\\n",
    "#             .withColumn(\"openfda_{}\".format(\"generic_name\"),F.explode(F.col('openfda.generic_name')))\\\n",
    "#             .withColumn(\"openfda_{}\".format(\"manufacturer_name\"),F.explode(F.col('openfda.manufacturer_name')))\\\n",
    "#             .withColumn(\"openfda_{}\".format(\"product_type\"),F.explode(F.col('openfda.product_type')))\\\n",
    "#             .withColumn(\"openfda_{}\".format(\"substance_name\"),F.explode(F.col('openfda.substance_name')))\n",
    "#             # .withColumn(\"openfda_{}\".format(\"route\"),F.explode(F.col('openfda.route')))\\\n",
    "#             # .withColumn(\"openfda_{}\".format(\"rxcui\"),F.explode(F.col('openfda.rxcui')))\\\n",
    "#             # .withColumn(\"openfda_{}\".format(\"spl_id\"),F.explode(F.col('openfda.spl_id')))\\\n",
    "#             # .withColumn(\"openfda_{}\".format(\"spl_set_id\"),F.explode(F.col('openfda.spl_set_id')))\\\n",
    "#             # .withColumn(\"openfda_{}\".format(\"nui\"),F.explode(F.col('openfda.nui')))\\\n",
    "#             # .withColumn(\"openfda_{}\".format(\"package_ndc\"),F.explode(F.col('openfda.package_ndc')))\\\n",
    "#             # .withColumn(\"openfda_{}\".format(\"pharm_class_cs\"),F.explode(F.col('openfda.pharm_class_cs')))\\\n",
    "#             # .withColumn(\"openfda_{}\".format(\"pharm_class_epc\"),F.explode(F.col('openfda.pharm_class_epc')))\\\n",
    "#             # .withColumn(\"openfda_{}\".format(\"pharm_class_moa\"),F.explode(F.col('openfda.pharm_class_moa')))\\\n",
    "#             # .withColumn(\"openfda_{}\".format(\"pharm_class_pe\"),F.explode(F.col('openfda.pharm_class_pe')))\\\n",
    "#             # .withColumn(\"openfda_{}\".format(\"product_ndc\"),F.explode(F.col('openfda.product_ndc')))\\\n",
    "#             # .withColumn(\"openfda_{}\".format(\"unii\"),F.explode(F.col('openfda.unii'))).show()"
   ]
  },
  {
   "cell_type": "code",
   "execution_count": 34,
   "id": "b20fa0f6-393c-4277-9f65-e4b55723ec45",
   "metadata": {},
   "outputs": [],
   "source": [
    "# updated_data.count()"
   ]
  },
  {
   "cell_type": "code",
   "execution_count": 35,
   "id": "32604bb5-b527-4d5f-b4cf-82283448b64a",
   "metadata": {},
   "outputs": [],
   "source": [
    "# all_keys = updated_data.columns\n",
    "# primarysource_keys = updated_data.select(F.col(\"primarysource.*\")).columns\n",
    "# primarysource_keys = [\"primarysource.\"+i for i in primarysource_keys]\n",
    "# all_keys.extend(primarysource_keys)"
   ]
  },
  {
   "cell_type": "code",
   "execution_count": 36,
   "id": "91466669-6ce1-452d-a5ba-2d635b321a46",
   "metadata": {},
   "outputs": [],
   "source": [
    "# updated_data.show()"
   ]
  },
  {
   "cell_type": "code",
   "execution_count": 37,
   "id": "7436014a-781e-4b76-aa3b-c3b107ba1bea",
   "metadata": {
    "scrolled": true
   },
   "outputs": [],
   "source": [
    "# try:\n",
    "#     updated_data = updated_data.select(all_keys)\\\n",
    "#                 .withColumn(\"explode_drugrecurrence\",F.explode(F.col(\"drugrecurrence\")))\n",
    "#     all_keys = updated_data.columns\n",
    "#     drugrecurrence_keys = updated_data.select(F.col(\"explode_drugrecurrence.*\")).columns\n",
    "#     drugrecurrence_keys = [\"explode_drugrecurrence.\"+i for i in drugrecurrence_keys]\n",
    "#     all_keys.extend(drugrecurrence_keys)\n",
    "# except Exception as e:\n",
    "#     print(e)"
   ]
  },
  {
   "cell_type": "code",
   "execution_count": 38,
   "id": "78036449-06bf-4c07-816f-bdd45f7c894c",
   "metadata": {},
   "outputs": [],
   "source": [
    "# updated_data = updated_data.drop(F.col(\"primarysource\"))\n",
    "# updated_data = updated_data.drop(F.col(\"explode_drugrecurrence\"))\n",
    "# updated_data = updated_data.drop(F.col(\"drug\"))\n",
    "# updated_data = updated_data.drop(F.col(\"reaction\"))\n",
    "# updated_data = updated_data.drop(F.col(\"receiver\"))\n",
    "# updated_data = updated_data.drop(F.col(\"sender\"))\n",
    "# updated_data = updated_data.drop(F.col(\"summary\"))\n",
    "# updated_data = updated_data.drop(F.col(\"activesubstance\"))\n",
    "# updated_data = updated_data.drop(F.col(\"drugrecurrence\"))\n",
    "# updated_data = updated_data.drop(F.col(\"openfda\"))\n",
    "# updated_data = updated_data.drop(F.col(\"explode_reaction\"))"
   ]
  },
  {
   "cell_type": "markdown",
   "id": "90731ba0-b010-4889-825a-ff2e68078c42",
   "metadata": {},
   "source": [
    "## Data Cleaning"
   ]
  },
  {
   "cell_type": "code",
   "execution_count": 52,
   "id": "fe3bd6a3-5f5e-40d9-a022-14d4119c260e",
   "metadata": {},
   "outputs": [],
   "source": [
    "pandas_df = updated_data.toPandas()"
   ]
  },
  {
   "cell_type": "code",
   "execution_count": 53,
   "id": "0006e3d7-2e8c-4491-9bc1-1ac1d141356c",
   "metadata": {
    "scrolled": true
   },
   "outputs": [
    {
     "data": {
      "text/html": [
       "<div>\n",
       "<style scoped>\n",
       "    .dataframe tbody tr th:only-of-type {\n",
       "        vertical-align: middle;\n",
       "    }\n",
       "\n",
       "    .dataframe tbody tr th {\n",
       "        vertical-align: top;\n",
       "    }\n",
       "\n",
       "    .dataframe thead th {\n",
       "        text-align: right;\n",
       "    }\n",
       "</style>\n",
       "<table border=\"1\" class=\"dataframe\">\n",
       "  <thead>\n",
       "    <tr style=\"text-align: right;\">\n",
       "      <th></th>\n",
       "      <th>activesubstancename</th>\n",
       "      <th>seriousnessdeath</th>\n",
       "      <th>seriousnesslifethreatening</th>\n",
       "      <th>seriousnesshospitalization</th>\n",
       "      <th>seriousnessdisabling</th>\n",
       "      <th>seriousnesscongenitalanomali</th>\n",
       "      <th>seriousnessother</th>\n",
       "      <th>patientonsetage</th>\n",
       "      <th>reactionmeddrapt</th>\n",
       "      <th>reactionoutcome</th>\n",
       "      <th>drugindication</th>\n",
       "      <th>medicinalproduct</th>\n",
       "      <th>route</th>\n",
       "      <th>brand_name</th>\n",
       "      <th>generic_name</th>\n",
       "    </tr>\n",
       "  </thead>\n",
       "  <tbody>\n",
       "    <tr>\n",
       "      <th>0</th>\n",
       "      <td>BORTEZOMIB</td>\n",
       "      <td>2</td>\n",
       "      <td>2</td>\n",
       "      <td>2</td>\n",
       "      <td>2</td>\n",
       "      <td>2</td>\n",
       "      <td>1</td>\n",
       "      <td>55</td>\n",
       "      <td>Plasma cell myeloma</td>\n",
       "      <td>6</td>\n",
       "      <td>Plasma cell myeloma</td>\n",
       "      <td>VELCADE</td>\n",
       "      <td>[INTRAVENOUS, SUBCUTANEOUS]</td>\n",
       "      <td>[VELCADE]</td>\n",
       "      <td>[BORTEZOMIB]</td>\n",
       "    </tr>\n",
       "    <tr>\n",
       "      <th>1</th>\n",
       "      <td>BORTEZOMIB</td>\n",
       "      <td>2</td>\n",
       "      <td>2</td>\n",
       "      <td>2</td>\n",
       "      <td>2</td>\n",
       "      <td>2</td>\n",
       "      <td>1</td>\n",
       "      <td>55</td>\n",
       "      <td>Intentional product use issue</td>\n",
       "      <td>6</td>\n",
       "      <td>Plasma cell myeloma</td>\n",
       "      <td>VELCADE</td>\n",
       "      <td>[INTRAVENOUS, SUBCUTANEOUS]</td>\n",
       "      <td>[VELCADE]</td>\n",
       "      <td>[BORTEZOMIB]</td>\n",
       "    </tr>\n",
       "    <tr>\n",
       "      <th>2</th>\n",
       "      <td>BORTEZOMIB</td>\n",
       "      <td>2</td>\n",
       "      <td>2</td>\n",
       "      <td>1</td>\n",
       "      <td>2</td>\n",
       "      <td>2</td>\n",
       "      <td>1</td>\n",
       "      <td>77</td>\n",
       "      <td>Cholecystitis acute</td>\n",
       "      <td>2</td>\n",
       "      <td>Plasma cell myeloma</td>\n",
       "      <td>BORTEZOMIB</td>\n",
       "      <td>[INTRAVENOUS, SUBCUTANEOUS]</td>\n",
       "      <td>[BORTEZOMIB, BORUZU, VELCADE]</td>\n",
       "      <td>[BORTEZOMIB, BORTEZOMIB FOR INJECTION, BORTEXO...</td>\n",
       "    </tr>\n",
       "    <tr>\n",
       "      <th>3</th>\n",
       "      <td>BORTEZOMIB</td>\n",
       "      <td>2</td>\n",
       "      <td>2</td>\n",
       "      <td>1</td>\n",
       "      <td>2</td>\n",
       "      <td>2</td>\n",
       "      <td>1</td>\n",
       "      <td>77</td>\n",
       "      <td>Fall</td>\n",
       "      <td>2</td>\n",
       "      <td>Plasma cell myeloma</td>\n",
       "      <td>BORTEZOMIB</td>\n",
       "      <td>[INTRAVENOUS, SUBCUTANEOUS]</td>\n",
       "      <td>[BORTEZOMIB, BORUZU, VELCADE]</td>\n",
       "      <td>[BORTEZOMIB, BORTEZOMIB FOR INJECTION, BORTEXO...</td>\n",
       "    </tr>\n",
       "    <tr>\n",
       "      <th>4</th>\n",
       "      <td>BORTEZOMIB</td>\n",
       "      <td>2</td>\n",
       "      <td>1</td>\n",
       "      <td>2</td>\n",
       "      <td>2</td>\n",
       "      <td>2</td>\n",
       "      <td>1</td>\n",
       "      <td>53</td>\n",
       "      <td>Myocarditis</td>\n",
       "      <td>1</td>\n",
       "      <td>Plasma cell myeloma</td>\n",
       "      <td>BORTEZOMIB</td>\n",
       "      <td>[INTRAVENOUS, SUBCUTANEOUS]</td>\n",
       "      <td>[BORTEZOMIB, BORUZU, VELCADE]</td>\n",
       "      <td>[BORTEZOMIB, BORTEZOMIB FOR INJECTION, BORTEXO...</td>\n",
       "    </tr>\n",
       "    <tr>\n",
       "      <th>...</th>\n",
       "      <td>...</td>\n",
       "      <td>...</td>\n",
       "      <td>...</td>\n",
       "      <td>...</td>\n",
       "      <td>...</td>\n",
       "      <td>...</td>\n",
       "      <td>...</td>\n",
       "      <td>...</td>\n",
       "      <td>...</td>\n",
       "      <td>...</td>\n",
       "      <td>...</td>\n",
       "      <td>...</td>\n",
       "      <td>...</td>\n",
       "      <td>...</td>\n",
       "      <td>...</td>\n",
       "    </tr>\n",
       "    <tr>\n",
       "      <th>256683</th>\n",
       "      <td>AMOXICILLIN</td>\n",
       "      <td>2</td>\n",
       "      <td>2</td>\n",
       "      <td>1</td>\n",
       "      <td>2</td>\n",
       "      <td>2</td>\n",
       "      <td>1</td>\n",
       "      <td>2</td>\n",
       "      <td>Pyrexia</td>\n",
       "      <td>1</td>\n",
       "      <td>Pneumonia</td>\n",
       "      <td>AMOXICILLIN</td>\n",
       "      <td>[ORAL]</td>\n",
       "      <td>[AMOXICILLIN]</td>\n",
       "      <td>[AMOXICILLIN]</td>\n",
       "    </tr>\n",
       "    <tr>\n",
       "      <th>256684</th>\n",
       "      <td>AMOXICILLIN</td>\n",
       "      <td>2</td>\n",
       "      <td>2</td>\n",
       "      <td>1</td>\n",
       "      <td>2</td>\n",
       "      <td>2</td>\n",
       "      <td>1</td>\n",
       "      <td>2</td>\n",
       "      <td>Oedema peripheral</td>\n",
       "      <td>1</td>\n",
       "      <td>Pneumonia</td>\n",
       "      <td>AMOXICILLIN</td>\n",
       "      <td>[ORAL]</td>\n",
       "      <td>[AMOXICILLIN]</td>\n",
       "      <td>[AMOXICILLIN]</td>\n",
       "    </tr>\n",
       "    <tr>\n",
       "      <th>256685</th>\n",
       "      <td>AMOXICILLIN</td>\n",
       "      <td>2</td>\n",
       "      <td>2</td>\n",
       "      <td>1</td>\n",
       "      <td>2</td>\n",
       "      <td>2</td>\n",
       "      <td>1</td>\n",
       "      <td>2</td>\n",
       "      <td>Cardiac murmur</td>\n",
       "      <td>1</td>\n",
       "      <td>Pneumonia</td>\n",
       "      <td>AMOXICILLIN</td>\n",
       "      <td>[ORAL]</td>\n",
       "      <td>[AMOXICILLIN]</td>\n",
       "      <td>[AMOXICILLIN]</td>\n",
       "    </tr>\n",
       "    <tr>\n",
       "      <th>256686</th>\n",
       "      <td>AMOXICILLIN</td>\n",
       "      <td>2</td>\n",
       "      <td>2</td>\n",
       "      <td>1</td>\n",
       "      <td>2</td>\n",
       "      <td>2</td>\n",
       "      <td>1</td>\n",
       "      <td>2</td>\n",
       "      <td>Condition aggravated</td>\n",
       "      <td>1</td>\n",
       "      <td>Pneumonia</td>\n",
       "      <td>AMOXICILLIN</td>\n",
       "      <td>[ORAL]</td>\n",
       "      <td>[AMOXICILLIN]</td>\n",
       "      <td>[AMOXICILLIN]</td>\n",
       "    </tr>\n",
       "    <tr>\n",
       "      <th>256687</th>\n",
       "      <td>LANSOPRAZOLE</td>\n",
       "      <td>2</td>\n",
       "      <td>2</td>\n",
       "      <td>1</td>\n",
       "      <td>2</td>\n",
       "      <td>2</td>\n",
       "      <td>2</td>\n",
       "      <td>90</td>\n",
       "      <td>Rash scarlatiniform</td>\n",
       "      <td>2</td>\n",
       "      <td>Metastatic malignant melanoma</td>\n",
       "      <td>LANSOPRAZOLE</td>\n",
       "      <td>[ORAL]</td>\n",
       "      <td>[BASIC CARE LANSOPRAZOLE, LANSOPRAZOLE, EQUATE...</td>\n",
       "      <td>[LANSOPRAZOLE]</td>\n",
       "    </tr>\n",
       "  </tbody>\n",
       "</table>\n",
       "<p>256688 rows × 15 columns</p>\n",
       "</div>"
      ],
      "text/plain": [
       "       activesubstancename seriousnessdeath seriousnesslifethreatening  \\\n",
       "0               BORTEZOMIB                2                          2   \n",
       "1               BORTEZOMIB                2                          2   \n",
       "2               BORTEZOMIB                2                          2   \n",
       "3               BORTEZOMIB                2                          2   \n",
       "4               BORTEZOMIB                2                          1   \n",
       "...                    ...              ...                        ...   \n",
       "256683         AMOXICILLIN                2                          2   \n",
       "256684         AMOXICILLIN                2                          2   \n",
       "256685         AMOXICILLIN                2                          2   \n",
       "256686         AMOXICILLIN                2                          2   \n",
       "256687        LANSOPRAZOLE                2                          2   \n",
       "\n",
       "       seriousnesshospitalization seriousnessdisabling  \\\n",
       "0                               2                    2   \n",
       "1                               2                    2   \n",
       "2                               1                    2   \n",
       "3                               1                    2   \n",
       "4                               2                    2   \n",
       "...                           ...                  ...   \n",
       "256683                          1                    2   \n",
       "256684                          1                    2   \n",
       "256685                          1                    2   \n",
       "256686                          1                    2   \n",
       "256687                          1                    2   \n",
       "\n",
       "       seriousnesscongenitalanomali seriousnessother patientonsetage  \\\n",
       "0                                 2                1              55   \n",
       "1                                 2                1              55   \n",
       "2                                 2                1              77   \n",
       "3                                 2                1              77   \n",
       "4                                 2                1              53   \n",
       "...                             ...              ...             ...   \n",
       "256683                            2                1               2   \n",
       "256684                            2                1               2   \n",
       "256685                            2                1               2   \n",
       "256686                            2                1               2   \n",
       "256687                            2                2              90   \n",
       "\n",
       "                     reactionmeddrapt reactionoutcome  \\\n",
       "0                 Plasma cell myeloma               6   \n",
       "1       Intentional product use issue               6   \n",
       "2                 Cholecystitis acute               2   \n",
       "3                                Fall               2   \n",
       "4                         Myocarditis               1   \n",
       "...                               ...             ...   \n",
       "256683                        Pyrexia               1   \n",
       "256684              Oedema peripheral               1   \n",
       "256685                 Cardiac murmur               1   \n",
       "256686           Condition aggravated               1   \n",
       "256687            Rash scarlatiniform               2   \n",
       "\n",
       "                       drugindication medicinalproduct  \\\n",
       "0                 Plasma cell myeloma          VELCADE   \n",
       "1                 Plasma cell myeloma          VELCADE   \n",
       "2                 Plasma cell myeloma       BORTEZOMIB   \n",
       "3                 Plasma cell myeloma       BORTEZOMIB   \n",
       "4                 Plasma cell myeloma       BORTEZOMIB   \n",
       "...                               ...              ...   \n",
       "256683                      Pneumonia      AMOXICILLIN   \n",
       "256684                      Pneumonia      AMOXICILLIN   \n",
       "256685                      Pneumonia      AMOXICILLIN   \n",
       "256686                      Pneumonia      AMOXICILLIN   \n",
       "256687  Metastatic malignant melanoma     LANSOPRAZOLE   \n",
       "\n",
       "                              route  \\\n",
       "0       [INTRAVENOUS, SUBCUTANEOUS]   \n",
       "1       [INTRAVENOUS, SUBCUTANEOUS]   \n",
       "2       [INTRAVENOUS, SUBCUTANEOUS]   \n",
       "3       [INTRAVENOUS, SUBCUTANEOUS]   \n",
       "4       [INTRAVENOUS, SUBCUTANEOUS]   \n",
       "...                             ...   \n",
       "256683                       [ORAL]   \n",
       "256684                       [ORAL]   \n",
       "256685                       [ORAL]   \n",
       "256686                       [ORAL]   \n",
       "256687                       [ORAL]   \n",
       "\n",
       "                                               brand_name  \\\n",
       "0                                               [VELCADE]   \n",
       "1                                               [VELCADE]   \n",
       "2                           [BORTEZOMIB, BORUZU, VELCADE]   \n",
       "3                           [BORTEZOMIB, BORUZU, VELCADE]   \n",
       "4                           [BORTEZOMIB, BORUZU, VELCADE]   \n",
       "...                                                   ...   \n",
       "256683                                      [AMOXICILLIN]   \n",
       "256684                                      [AMOXICILLIN]   \n",
       "256685                                      [AMOXICILLIN]   \n",
       "256686                                      [AMOXICILLIN]   \n",
       "256687  [BASIC CARE LANSOPRAZOLE, LANSOPRAZOLE, EQUATE...   \n",
       "\n",
       "                                             generic_name  \n",
       "0                                            [BORTEZOMIB]  \n",
       "1                                            [BORTEZOMIB]  \n",
       "2       [BORTEZOMIB, BORTEZOMIB FOR INJECTION, BORTEXO...  \n",
       "3       [BORTEZOMIB, BORTEZOMIB FOR INJECTION, BORTEXO...  \n",
       "4       [BORTEZOMIB, BORTEZOMIB FOR INJECTION, BORTEXO...  \n",
       "...                                                   ...  \n",
       "256683                                      [AMOXICILLIN]  \n",
       "256684                                      [AMOXICILLIN]  \n",
       "256685                                      [AMOXICILLIN]  \n",
       "256686                                      [AMOXICILLIN]  \n",
       "256687                                     [LANSOPRAZOLE]  \n",
       "\n",
       "[256688 rows x 15 columns]"
      ]
     },
     "execution_count": 53,
     "metadata": {},
     "output_type": "execute_result"
    }
   ],
   "source": [
    "pandas_df.dropna()"
   ]
  },
  {
   "cell_type": "code",
   "execution_count": 57,
   "id": "066fffed-cce2-43ba-800f-235356dfc148",
   "metadata": {},
   "outputs": [
    {
     "data": {
      "text/plain": [
       "generic_name\n",
       "[PREDNISONE]                           17451\n",
       "[INFLIXIMAB]                            8519\n",
       "[LEFLUNOMIDE]                           8485\n",
       "[DESOXIMETASONE]                        8045\n",
       "[METHOTREXATE, METHOTREXATE SODIUM]     7244\n",
       "                                       ...  \n",
       "[DIAZEPAM]                                 4\n",
       "[TOPIRAMATE]                               4\n",
       "[HEPARIN SODIUM AND DEXTROSE]              3\n",
       "[IBUPROFEN]                                2\n",
       "[FUROSEMIDE INJECTION 80 MG/ 10 ML]        1\n",
       "Name: count, Length: 251, dtype: int64"
      ]
     },
     "execution_count": 57,
     "metadata": {},
     "output_type": "execute_result"
    }
   ],
   "source": [
    "pandas_df[\"generic_name\"].value_counts()"
   ]
  },
  {
   "cell_type": "code",
   "execution_count": null,
   "id": "9651bff8-40ed-4482-b8d5-c4b9f13e0cbf",
   "metadata": {},
   "outputs": [],
   "source": [
    "total_rows = updated_data.count()"
   ]
  },
  {
   "cell_type": "code",
   "execution_count": null,
   "id": "1c11e934-d4f1-49dd-be11-6b9b4980dd12",
   "metadata": {},
   "outputs": [],
   "source": []
  },
  {
   "cell_type": "markdown",
   "id": "b542410e-4470-46ab-9b88-78058fb4058a",
   "metadata": {},
   "source": [
    "### Removing Null Values"
   ]
  },
  {
   "cell_type": "code",
   "execution_count": null,
   "id": "32f7dad2-973a-4ab7-8d3e-6808e9a963c7",
   "metadata": {},
   "outputs": [],
   "source": []
  },
  {
   "cell_type": "code",
   "execution_count": null,
   "id": "b0f666c6-6a74-4d30-afcc-dc29ee468160",
   "metadata": {},
   "outputs": [],
   "source": []
  },
  {
   "cell_type": "code",
   "execution_count": null,
   "id": "d16249c2-4a60-486d-9536-9131e6070d7f",
   "metadata": {},
   "outputs": [],
   "source": []
  },
  {
   "cell_type": "code",
   "execution_count": null,
   "id": "4955a30f-ec0c-4c0a-8a1f-6eafbc040366",
   "metadata": {},
   "outputs": [],
   "source": [
    "updated_data.na.drop().toPandas().to_csv(\"test1.csv\")"
   ]
  },
  {
   "cell_type": "code",
   "execution_count": null,
   "id": "356eb7d9-6d20-475f-b62d-35de89caccaa",
   "metadata": {},
   "outputs": [],
   "source": [
    "# os.environ[\"HADOOP_HOME\"] = \"C:/hadoop/hadoop-2.8.3\"\n",
    "# os.environ[\"PATH\"] = \"C:/hadoop/hadoop-2.8.3/bin\"\n",
    "# updated_data.write.csv(\"./test1.csv\", mode=\"overwrite\", header=True)"
   ]
  },
  {
   "cell_type": "code",
   "execution_count": null,
   "id": "90d4702c-6c9c-43ae-a938-e3aff56505a3",
   "metadata": {},
   "outputs": [],
   "source": [
    "# updated_data.write.parquet(\"output_parquet_path\", mode=\"overwrite\")"
   ]
  },
  {
   "cell_type": "code",
   "execution_count": null,
   "id": "2ec18a83-9aa3-470c-80e3-3dedc278e074",
   "metadata": {},
   "outputs": [],
   "source": []
  }
 ],
 "metadata": {
  "kernelspec": {
   "display_name": "Python 3 (ipykernel)",
   "language": "python",
   "name": "python3"
  },
  "language_info": {
   "codemirror_mode": {
    "name": "ipython",
    "version": 3
   },
   "file_extension": ".py",
   "mimetype": "text/x-python",
   "name": "python",
   "nbconvert_exporter": "python",
   "pygments_lexer": "ipython3",
   "version": "3.9.19"
  }
 },
 "nbformat": 4,
 "nbformat_minor": 5
}
