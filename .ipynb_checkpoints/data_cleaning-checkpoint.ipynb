{
 "cells": [
  {
   "cell_type": "code",
   "execution_count": 1,
   "id": "0baf9c78-0175-4ef9-a584-238e900fa30b",
   "metadata": {},
   "outputs": [],
   "source": [
    "import pandas as pd\n",
    "import numpy as np\n",
    "import seaborn as sns\n",
    "from pyspark.sql import SparkSession\n",
    "from pyspark.sql.functions import udf, explode, col, arrays_zip\n",
    "from pyspark.sql.types import StructType, StructField, StringType, IntegerType, ArrayType\n",
    "import pyspark.sql.functions as F\n",
    "import os\n",
    "import sys\n",
    "os.environ['PYSPARK_PYTHON'] = sys.executable\n",
    "os.environ['PYSPARK_DRIVER_PYTHON'] = sys.executable"
   ]
  },
  {
   "cell_type": "code",
   "execution_count": 2,
   "id": "8f9ef91d-d6a0-47d7-b193-7df7a1d3f648",
   "metadata": {},
   "outputs": [],
   "source": [
    "spark = SparkSession.builder \\\n",
    "    .master(\"local\") \\\n",
    "    .config(\"spark.driver.memory\", \"2g\") \\\n",
    "    .config(\"spark.executor.memory\", \"2g\") \\\n",
    "    .appName(\"data_cleaning\") \\\n",
    "    .getOrCreate()"
   ]
  },
  {
   "cell_type": "code",
   "execution_count": 3,
   "id": "8800514d-40ad-42b3-a775-9b24523f5dc3",
   "metadata": {},
   "outputs": [],
   "source": [
    "json_data = spark.read.option(\"multiline\",\"true\").json(\"./Data/JSON/drug-event-0001-of-0005.json\")"
   ]
  },
  {
   "cell_type": "code",
   "execution_count": 4,
   "id": "48bbac0f-4207-4e7f-8567-0666944e5617",
   "metadata": {
    "scrolled": true
   },
   "outputs": [
    {
     "name": "stdout",
     "output_type": "stream",
     "text": [
      "root\n",
      " |-- meta: struct (nullable = true)\n",
      " |    |-- disclaimer: string (nullable = true)\n",
      " |    |-- last_updated: string (nullable = true)\n",
      " |    |-- license: string (nullable = true)\n",
      " |    |-- results: struct (nullable = true)\n",
      " |    |    |-- limit: long (nullable = true)\n",
      " |    |    |-- skip: long (nullable = true)\n",
      " |    |    |-- total: long (nullable = true)\n",
      " |    |-- terms: string (nullable = true)\n",
      " |-- results: array (nullable = true)\n",
      " |    |-- element: struct (containsNull = true)\n",
      " |    |    |-- companynumb: string (nullable = true)\n",
      " |    |    |-- duplicate: string (nullable = true)\n",
      " |    |    |-- fulfillexpeditecriteria: string (nullable = true)\n",
      " |    |    |-- occurcountry: string (nullable = true)\n",
      " |    |    |-- patient: struct (nullable = true)\n",
      " |    |    |    |-- drug: array (nullable = true)\n",
      " |    |    |    |    |-- element: struct (containsNull = true)\n",
      " |    |    |    |    |    |-- actiondrug: string (nullable = true)\n",
      " |    |    |    |    |    |-- activesubstance: struct (nullable = true)\n",
      " |    |    |    |    |    |    |-- activesubstancename: string (nullable = true)\n",
      " |    |    |    |    |    |-- drugadditional: string (nullable = true)\n",
      " |    |    |    |    |    |-- drugadministrationroute: string (nullable = true)\n",
      " |    |    |    |    |    |-- drugauthorizationnumb: string (nullable = true)\n",
      " |    |    |    |    |    |-- drugbatchnumb: string (nullable = true)\n",
      " |    |    |    |    |    |-- drugcharacterization: string (nullable = true)\n",
      " |    |    |    |    |    |-- drugdosageform: string (nullable = true)\n",
      " |    |    |    |    |    |-- drugdosagetext: string (nullable = true)\n",
      " |    |    |    |    |    |-- drugenddate: string (nullable = true)\n",
      " |    |    |    |    |    |-- drugenddateformat: string (nullable = true)\n",
      " |    |    |    |    |    |-- drugindication: string (nullable = true)\n",
      " |    |    |    |    |    |-- drugrecurreadministration: string (nullable = true)\n",
      " |    |    |    |    |    |-- drugstartdate: string (nullable = true)\n",
      " |    |    |    |    |    |-- drugstartdateformat: string (nullable = true)\n",
      " |    |    |    |    |    |-- drugstructuredosagenumb: string (nullable = true)\n",
      " |    |    |    |    |    |-- drugstructuredosageunit: string (nullable = true)\n",
      " |    |    |    |    |    |-- drugtreatmentduration: string (nullable = true)\n",
      " |    |    |    |    |    |-- drugtreatmentdurationunit: string (nullable = true)\n",
      " |    |    |    |    |    |-- medicinalproduct: string (nullable = true)\n",
      " |    |    |    |    |    |-- openfda: struct (nullable = true)\n",
      " |    |    |    |    |    |    |-- application_number: array (nullable = true)\n",
      " |    |    |    |    |    |    |    |-- element: string (containsNull = true)\n",
      " |    |    |    |    |    |    |-- brand_name: array (nullable = true)\n",
      " |    |    |    |    |    |    |    |-- element: string (containsNull = true)\n",
      " |    |    |    |    |    |    |-- generic_name: array (nullable = true)\n",
      " |    |    |    |    |    |    |    |-- element: string (containsNull = true)\n",
      " |    |    |    |    |    |    |-- manufacturer_name: array (nullable = true)\n",
      " |    |    |    |    |    |    |    |-- element: string (containsNull = true)\n",
      " |    |    |    |    |    |    |-- nui: array (nullable = true)\n",
      " |    |    |    |    |    |    |    |-- element: string (containsNull = true)\n",
      " |    |    |    |    |    |    |-- package_ndc: array (nullable = true)\n",
      " |    |    |    |    |    |    |    |-- element: string (containsNull = true)\n",
      " |    |    |    |    |    |    |-- pharm_class_cs: array (nullable = true)\n",
      " |    |    |    |    |    |    |    |-- element: string (containsNull = true)\n",
      " |    |    |    |    |    |    |-- pharm_class_epc: array (nullable = true)\n",
      " |    |    |    |    |    |    |    |-- element: string (containsNull = true)\n",
      " |    |    |    |    |    |    |-- pharm_class_moa: array (nullable = true)\n",
      " |    |    |    |    |    |    |    |-- element: string (containsNull = true)\n",
      " |    |    |    |    |    |    |-- pharm_class_pe: array (nullable = true)\n",
      " |    |    |    |    |    |    |    |-- element: string (containsNull = true)\n",
      " |    |    |    |    |    |    |-- product_ndc: array (nullable = true)\n",
      " |    |    |    |    |    |    |    |-- element: string (containsNull = true)\n",
      " |    |    |    |    |    |    |-- product_type: array (nullable = true)\n",
      " |    |    |    |    |    |    |    |-- element: string (containsNull = true)\n",
      " |    |    |    |    |    |    |-- route: array (nullable = true)\n",
      " |    |    |    |    |    |    |    |-- element: string (containsNull = true)\n",
      " |    |    |    |    |    |    |-- rxcui: array (nullable = true)\n",
      " |    |    |    |    |    |    |    |-- element: string (containsNull = true)\n",
      " |    |    |    |    |    |    |-- spl_id: array (nullable = true)\n",
      " |    |    |    |    |    |    |    |-- element: string (containsNull = true)\n",
      " |    |    |    |    |    |    |-- spl_set_id: array (nullable = true)\n",
      " |    |    |    |    |    |    |    |-- element: string (containsNull = true)\n",
      " |    |    |    |    |    |    |-- substance_name: array (nullable = true)\n",
      " |    |    |    |    |    |    |    |-- element: string (containsNull = true)\n",
      " |    |    |    |    |    |    |-- unii: array (nullable = true)\n",
      " |    |    |    |    |    |    |    |-- element: string (containsNull = true)\n",
      " |    |    |    |-- patientagegroup: string (nullable = true)\n",
      " |    |    |    |-- patientdeath: struct (nullable = true)\n",
      " |    |    |    |    |-- patientdeathdate: string (nullable = true)\n",
      " |    |    |    |    |-- patientdeathdateformat: string (nullable = true)\n",
      " |    |    |    |-- patientonsetage: string (nullable = true)\n",
      " |    |    |    |-- patientonsetageunit: string (nullable = true)\n",
      " |    |    |    |-- patientsex: string (nullable = true)\n",
      " |    |    |    |-- patientweight: string (nullable = true)\n",
      " |    |    |    |-- reaction: array (nullable = true)\n",
      " |    |    |    |    |-- element: struct (containsNull = true)\n",
      " |    |    |    |    |    |-- reactionmeddrapt: string (nullable = true)\n",
      " |    |    |    |    |    |-- reactionmeddraversionpt: string (nullable = true)\n",
      " |    |    |    |    |    |-- reactionoutcome: string (nullable = true)\n",
      " |    |    |    |-- summary: struct (nullable = true)\n",
      " |    |    |    |    |-- narrativeincludeclinical: string (nullable = true)\n",
      " |    |    |-- primarysource: struct (nullable = true)\n",
      " |    |    |    |-- qualification: string (nullable = true)\n",
      " |    |    |    |-- reportercountry: string (nullable = true)\n",
      " |    |    |-- primarysourcecountry: string (nullable = true)\n",
      " |    |    |-- receiptdate: string (nullable = true)\n",
      " |    |    |-- receiptdateformat: string (nullable = true)\n",
      " |    |    |-- receivedate: string (nullable = true)\n",
      " |    |    |-- receivedateformat: string (nullable = true)\n",
      " |    |    |-- receiver: struct (nullable = true)\n",
      " |    |    |    |-- receiverorganization: string (nullable = true)\n",
      " |    |    |    |-- receivertype: string (nullable = true)\n",
      " |    |    |-- reportduplicate: struct (nullable = true)\n",
      " |    |    |    |-- duplicatenumb: string (nullable = true)\n",
      " |    |    |    |-- duplicatesource: string (nullable = true)\n",
      " |    |    |-- reporttype: string (nullable = true)\n",
      " |    |    |-- safetyreportid: string (nullable = true)\n",
      " |    |    |-- safetyreportversion: string (nullable = true)\n",
      " |    |    |-- sender: struct (nullable = true)\n",
      " |    |    |    |-- senderorganization: string (nullable = true)\n",
      " |    |    |    |-- sendertype: string (nullable = true)\n",
      " |    |    |-- serious: string (nullable = true)\n",
      " |    |    |-- seriousnesscongenitalanomali: string (nullable = true)\n",
      " |    |    |-- seriousnessdeath: string (nullable = true)\n",
      " |    |    |-- seriousnessdisabling: string (nullable = true)\n",
      " |    |    |-- seriousnesshospitalization: string (nullable = true)\n",
      " |    |    |-- seriousnesslifethreatening: string (nullable = true)\n",
      " |    |    |-- seriousnessother: string (nullable = true)\n",
      " |    |    |-- transmissiondate: string (nullable = true)\n",
      " |    |    |-- transmissiondateformat: string (nullable = true)\n",
      "\n"
     ]
    }
   ],
   "source": [
    "json_data.printSchema()"
   ]
  },
  {
   "cell_type": "code",
   "execution_count": 5,
   "id": "049be9a2-e5cc-47a5-a2ea-173ea1dc29ad",
   "metadata": {},
   "outputs": [
    {
     "name": "stdout",
     "output_type": "stream",
     "text": [
      "+--------------------+--------------------+\n",
      "|                meta|             results|\n",
      "+--------------------+--------------------+\n",
      "|{Do not rely on o...|[{US-PFIZER INC-2...|\n",
      "+--------------------+--------------------+\n",
      "\n"
     ]
    }
   ],
   "source": [
    "json_data.show()"
   ]
  },
  {
   "cell_type": "code",
   "execution_count": null,
   "id": "032a7991-c321-4c22-8011-1c96e033f66e",
   "metadata": {},
   "outputs": [],
   "source": []
  },
  {
   "cell_type": "code",
   "execution_count": 6,
   "id": "03b7f963-d4ec-4a13-9495-659f7e9db84a",
   "metadata": {},
   "outputs": [
    {
     "data": {
      "text/plain": [
       "[Row(exploded_array=Row(companynumb='US-PFIZER INC-2007080022', duplicate=None, fulfillexpeditecriteria='2', occurcountry=None, patient=Row(drug=[Row(actiondrug=None, activesubstance=None, drugadditional=None, drugadministrationroute=None, drugauthorizationnumb='020998', drugbatchnumb=None, drugcharacterization='1', drugdosageform=None, drugdosagetext=None, drugenddate=None, drugenddateformat=None, drugindication='ARTHRITIS', drugrecurreadministration=None, drugstartdate='20020101', drugstartdateformat='102', drugstructuredosagenumb=None, drugstructuredosageunit=None, drugtreatmentduration='30', drugtreatmentdurationunit='804', medicinalproduct='CELEBREX', openfda=Row(application_number=['NDA020998'], brand_name=['CELEBREX'], generic_name=['CELECOXIB'], manufacturer_name=['PFIZER LABORATORIES DIV PFIZER INC', 'Viatris Specialty LLC'], nui=['N0000000160', 'M0001335', 'N0000175722'], package_ndc=['0025-1515-01', '0025-1520-31', '0025-1520-51', '0025-1520-34', '0025-1525-31', '0025-1525-51', '0025-1525-34', '0025-1525-99', '0025-1525-96', '0025-1530-02', '0025-1530-01', '58151-082-91', '58151-083-01', '58151-083-05', '58151-083-32', '58151-083-88', '58151-084-01', '58151-084-05', '58151-084-32', '58151-084-88', '58151-085-91', '58151-085-32', '58151-085-88'], pharm_class_cs=['Anti-Inflammatory Agents, Non-Steroidal [CS]'], pharm_class_epc=['Nonsteroidal Anti-inflammatory Drug [EPC]'], pharm_class_moa=['Cyclooxygenase Inhibitors [MoA]'], pharm_class_pe=None, product_ndc=['0025-1520', '0025-1515', '0025-1525', '0025-1530', '58151-082', '58151-083', '58151-084', '58151-085'], product_type=['HUMAN PRESCRIPTION DRUG'], route=['ORAL'], rxcui=['205322', '205323', '213468', '213469', '349514', '352314', '686379', '686381'], spl_id=['1bdb9c5a-3368-4ffd-a42d-3e28a477f2f1', '2819ce05-07a2-4f48-8e6d-658747aaf9aa'], spl_set_id=['8d52185d-421f-4e34-8db7-f7676db2a226', '2d6675e4-5859-4be2-8037-a20ce9f707aa'], substance_name=['CELECOXIB'], unii=['JCX84Q7J1L']))], patientagegroup=None, patientdeath=None, patientonsetage=None, patientonsetageunit=None, patientsex='2', patientweight=None, reaction=[Row(reactionmeddrapt='DRUG INEFFECTIVE', reactionmeddraversionpt=None, reactionoutcome=None)], summary=None), primarysource=Row(qualification='5', reportercountry='UNITED STATES'), primarysourcecountry=None, receiptdate='20040831', receiptdateformat='102', receivedate='20100729', receivedateformat='102', receiver=None, reportduplicate=None, reporttype=None, safetyreportid='6884723-0', safetyreportversion=None, sender=Row(senderorganization='FDA-Public Use', sendertype=None), serious='2', seriousnesscongenitalanomali=None, seriousnessdeath=None, seriousnessdisabling=None, seriousnesshospitalization=None, seriousnesslifethreatening=None, seriousnessother=None, transmissiondate='20110219', transmissiondateformat='102'))]"
      ]
     },
     "execution_count": 6,
     "metadata": {},
     "output_type": "execute_result"
    }
   ],
   "source": [
    "json_data.select(explode(F.col(\"results\")).alias(\"exploded_array\")).take(1)"
   ]
  },
  {
   "cell_type": "code",
   "execution_count": 7,
   "id": "2bf5e740-75cc-4012-88f3-1307f55628fe",
   "metadata": {},
   "outputs": [],
   "source": [
    "exploded_results = json_data.select(explode(F.col(\"results\")).alias(\"exploded_results\"))"
   ]
  },
  {
   "cell_type": "code",
   "execution_count": 8,
   "id": "f3155b27-c80b-4f64-9649-5e675d7ad116",
   "metadata": {},
   "outputs": [
    {
     "name": "stdout",
     "output_type": "stream",
     "text": [
      "+--------------------+\n",
      "|    exploded_results|\n",
      "+--------------------+\n",
      "|{US-PFIZER INC-20...|\n",
      "|{US-ABBOTT-04P-16...|\n",
      "|{USA040977859, NU...|\n",
      "|{2004235828US, NU...|\n",
      "|{2004-BP-07617BP(...|\n",
      "+--------------------+\n",
      "only showing top 5 rows\n",
      "\n"
     ]
    }
   ],
   "source": [
    "exploded_results.show(5)"
   ]
  },
  {
   "cell_type": "code",
   "execution_count": 9,
   "id": "4b432b71-b2ce-450c-9de5-212cb3853ff0",
   "metadata": {},
   "outputs": [
    {
     "data": {
      "text/plain": [
       "[Row(exploded_results=Row(companynumb='US-PFIZER INC-2007080022', duplicate=None, fulfillexpeditecriteria='2', occurcountry=None, patient=Row(drug=[Row(actiondrug=None, activesubstance=None, drugadditional=None, drugadministrationroute=None, drugauthorizationnumb='020998', drugbatchnumb=None, drugcharacterization='1', drugdosageform=None, drugdosagetext=None, drugenddate=None, drugenddateformat=None, drugindication='ARTHRITIS', drugrecurreadministration=None, drugstartdate='20020101', drugstartdateformat='102', drugstructuredosagenumb=None, drugstructuredosageunit=None, drugtreatmentduration='30', drugtreatmentdurationunit='804', medicinalproduct='CELEBREX', openfda=Row(application_number=['NDA020998'], brand_name=['CELEBREX'], generic_name=['CELECOXIB'], manufacturer_name=['PFIZER LABORATORIES DIV PFIZER INC', 'Viatris Specialty LLC'], nui=['N0000000160', 'M0001335', 'N0000175722'], package_ndc=['0025-1515-01', '0025-1520-31', '0025-1520-51', '0025-1520-34', '0025-1525-31', '0025-1525-51', '0025-1525-34', '0025-1525-99', '0025-1525-96', '0025-1530-02', '0025-1530-01', '58151-082-91', '58151-083-01', '58151-083-05', '58151-083-32', '58151-083-88', '58151-084-01', '58151-084-05', '58151-084-32', '58151-084-88', '58151-085-91', '58151-085-32', '58151-085-88'], pharm_class_cs=['Anti-Inflammatory Agents, Non-Steroidal [CS]'], pharm_class_epc=['Nonsteroidal Anti-inflammatory Drug [EPC]'], pharm_class_moa=['Cyclooxygenase Inhibitors [MoA]'], pharm_class_pe=None, product_ndc=['0025-1520', '0025-1515', '0025-1525', '0025-1530', '58151-082', '58151-083', '58151-084', '58151-085'], product_type=['HUMAN PRESCRIPTION DRUG'], route=['ORAL'], rxcui=['205322', '205323', '213468', '213469', '349514', '352314', '686379', '686381'], spl_id=['1bdb9c5a-3368-4ffd-a42d-3e28a477f2f1', '2819ce05-07a2-4f48-8e6d-658747aaf9aa'], spl_set_id=['8d52185d-421f-4e34-8db7-f7676db2a226', '2d6675e4-5859-4be2-8037-a20ce9f707aa'], substance_name=['CELECOXIB'], unii=['JCX84Q7J1L']))], patientagegroup=None, patientdeath=None, patientonsetage=None, patientonsetageunit=None, patientsex='2', patientweight=None, reaction=[Row(reactionmeddrapt='DRUG INEFFECTIVE', reactionmeddraversionpt=None, reactionoutcome=None)], summary=None), primarysource=Row(qualification='5', reportercountry='UNITED STATES'), primarysourcecountry=None, receiptdate='20040831', receiptdateformat='102', receivedate='20100729', receivedateformat='102', receiver=None, reportduplicate=None, reporttype=None, safetyreportid='6884723-0', safetyreportversion=None, sender=Row(senderorganization='FDA-Public Use', sendertype=None), serious='2', seriousnesscongenitalanomali=None, seriousnessdeath=None, seriousnessdisabling=None, seriousnesshospitalization=None, seriousnesslifethreatening=None, seriousnessother=None, transmissiondate='20110219', transmissiondateformat='102'))]"
      ]
     },
     "execution_count": 9,
     "metadata": {},
     "output_type": "execute_result"
    }
   ],
   "source": [
    "exploded_results.take(1)"
   ]
  },
  {
   "cell_type": "code",
   "execution_count": 65,
   "id": "4c779d84-b8d2-44ca-8c08-7896ca34834a",
   "metadata": {},
   "outputs": [],
   "source": [
    "all_keys = []"
   ]
  },
  {
   "cell_type": "code",
   "execution_count": 66,
   "id": "bd457f53-4b34-45de-81a5-8f07c7cb7704",
   "metadata": {},
   "outputs": [],
   "source": [
    "# temp_data.withColumn(\"keys\", F.json_object_keys(temp_data.exploded_array)).show()\n",
    "keys = exploded_results.select(F.col(\"exploded_results.*\")).columns\n",
    "keys = [\"exploded_results.\"+str(i) for i in keys]\n",
    "all_keys.extend(keys)"
   ]
  },
  {
   "cell_type": "code",
   "execution_count": 67,
   "id": "e0de97c0-5b61-4b78-9ead-be7cbd28cd53",
   "metadata": {},
   "outputs": [
    {
     "data": {
      "text/plain": [
       "['exploded_results.companynumb',\n",
       " 'exploded_results.duplicate',\n",
       " 'exploded_results.fulfillexpeditecriteria',\n",
       " 'exploded_results.occurcountry',\n",
       " 'exploded_results.patient',\n",
       " 'exploded_results.primarysource',\n",
       " 'exploded_results.primarysourcecountry',\n",
       " 'exploded_results.receiptdate',\n",
       " 'exploded_results.receiptdateformat',\n",
       " 'exploded_results.receivedate',\n",
       " 'exploded_results.receivedateformat',\n",
       " 'exploded_results.receiver',\n",
       " 'exploded_results.reportduplicate',\n",
       " 'exploded_results.reporttype',\n",
       " 'exploded_results.safetyreportid',\n",
       " 'exploded_results.safetyreportversion',\n",
       " 'exploded_results.sender',\n",
       " 'exploded_results.serious',\n",
       " 'exploded_results.seriousnesscongenitalanomali',\n",
       " 'exploded_results.seriousnessdeath',\n",
       " 'exploded_results.seriousnessdisabling',\n",
       " 'exploded_results.seriousnesshospitalization',\n",
       " 'exploded_results.seriousnesslifethreatening',\n",
       " 'exploded_results.seriousnessother',\n",
       " 'exploded_results.transmissiondate',\n",
       " 'exploded_results.transmissiondateformat']"
      ]
     },
     "execution_count": 67,
     "metadata": {},
     "output_type": "execute_result"
    }
   ],
   "source": [
    "keys"
   ]
  },
  {
   "cell_type": "code",
   "execution_count": 68,
   "id": "0ff4b7c3-3906-4992-899e-79440a8b08d9",
   "metadata": {},
   "outputs": [],
   "source": [
    "patient_keys = exploded_results.select(F.col(\"exploded_results.patient.*\")).columns\n",
    "patient_keys = [\"exploded_results.patient.\"+str(i) for i in patient_keys]\n",
    "all_keys.extend(patient_keys)"
   ]
  },
  {
   "cell_type": "code",
   "execution_count": 69,
   "id": "2f846796-031c-4b26-ae94-f89160d4115c",
   "metadata": {},
   "outputs": [
    {
     "data": {
      "text/plain": [
       "['exploded_results.patient.drug',\n",
       " 'exploded_results.patient.patientagegroup',\n",
       " 'exploded_results.patient.patientdeath',\n",
       " 'exploded_results.patient.patientonsetage',\n",
       " 'exploded_results.patient.patientonsetageunit',\n",
       " 'exploded_results.patient.patientsex',\n",
       " 'exploded_results.patient.patientweight',\n",
       " 'exploded_results.patient.reaction',\n",
       " 'exploded_results.patient.summary']"
      ]
     },
     "execution_count": 69,
     "metadata": {},
     "output_type": "execute_result"
    }
   ],
   "source": [
    "patient_keys"
   ]
  },
  {
   "cell_type": "code",
   "execution_count": 70,
   "id": "9cb5fe25-0a80-4663-80d7-abbaead54eaf",
   "metadata": {},
   "outputs": [],
   "source": [
    "updated_data = exploded_results.select(all_keys)\n",
    "updated_data = updated_data.drop(F.col(\"patient\"))"
   ]
  },
  {
   "cell_type": "code",
   "execution_count": 71,
   "id": "00ddd66f-51a6-4ef8-bbb4-0f9ad068f8ba",
   "metadata": {},
   "outputs": [],
   "source": [
    "all_keys = updated_data.columns"
   ]
  },
  {
   "cell_type": "code",
   "execution_count": 72,
   "id": "105212d5-953c-4fec-b99b-64660a5ca13c",
   "metadata": {},
   "outputs": [
    {
     "data": {
      "text/plain": [
       "['companynumb',\n",
       " 'duplicate',\n",
       " 'fulfillexpeditecriteria',\n",
       " 'occurcountry',\n",
       " 'primarysource',\n",
       " 'primarysourcecountry',\n",
       " 'receiptdate',\n",
       " 'receiptdateformat',\n",
       " 'receivedate',\n",
       " 'receivedateformat',\n",
       " 'receiver',\n",
       " 'reportduplicate',\n",
       " 'reporttype',\n",
       " 'safetyreportid',\n",
       " 'safetyreportversion',\n",
       " 'sender',\n",
       " 'serious',\n",
       " 'seriousnesscongenitalanomali',\n",
       " 'seriousnessdeath',\n",
       " 'seriousnessdisabling',\n",
       " 'seriousnesshospitalization',\n",
       " 'seriousnesslifethreatening',\n",
       " 'seriousnessother',\n",
       " 'transmissiondate',\n",
       " 'transmissiondateformat',\n",
       " 'drug',\n",
       " 'patientagegroup',\n",
       " 'patientdeath',\n",
       " 'patientonsetage',\n",
       " 'patientonsetageunit',\n",
       " 'patientsex',\n",
       " 'patientweight',\n",
       " 'reaction',\n",
       " 'summary']"
      ]
     },
     "execution_count": 72,
     "metadata": {},
     "output_type": "execute_result"
    }
   ],
   "source": [
    "all_keys"
   ]
  },
  {
   "cell_type": "code",
   "execution_count": 83,
   "id": "e8a11e61-c0d1-47fe-83ae-a83ca13d5db2",
   "metadata": {},
   "outputs": [],
   "source": [
    "updated_data = updated_data.select(all_keys)\\\n",
    "            .withColumn(\"explode_drug\",F.explode(F.col(\"drug\")))"
   ]
  },
  {
   "cell_type": "code",
   "execution_count": 116,
   "id": "f56b77d1-0974-4879-a823-7681653e1a99",
   "metadata": {},
   "outputs": [],
   "source": [
    "drug_keys = updated_data.select(F.col(\"explode_drug.*\")).columns"
   ]
  },
  {
   "cell_type": "code",
   "execution_count": 117,
   "id": "189b4360-82cb-4e42-b4c1-d90f75171aac",
   "metadata": {},
   "outputs": [],
   "source": [
    "drug_keys = [\"explode_drug.\"+i for i in drug_keys]\n",
    "all_keys.extend(drug_keys)"
   ]
  },
  {
   "cell_type": "code",
   "execution_count": 121,
   "id": "cd9591ed-0c29-4201-ab28-2d7fa5147230",
   "metadata": {},
   "outputs": [
    {
     "name": "stdout",
     "output_type": "stream",
     "text": [
      "+--------------------+--------------------+\n",
      "|    medicinalproduct|             openfda|\n",
      "+--------------------+--------------------+\n",
      "|            CELEBREX|{[NDA020998], [CE...|\n",
      "|               TARKA|                NULL|\n",
      "| HIGH-DOSE DIURETICS|                NULL|\n",
      "| HYDROCHLOROTHIAZIDE|{[ANDA040780, AND...|\n",
      "|              FORTEO|{[NDA021318], [FO...|\n",
      "|              EVISTA|{[NDA020815], [EV...|\n",
      "|              EVISTA|{[NDA020815], [EV...|\n",
      "|            CELEBREX|{[NDA020998], [CE...|\n",
      "|            CELEBREX|{[NDA020998], [CE...|\n",
      "|             SPIRIVA|{[NDA021395], [SP...|\n",
      "|           COMBIVENT|                NULL|\n",
      "|     OXYGEN (OXYGEN)|                NULL|\n",
      "|SEREVENT DISKUS (...|                NULL|\n",
      "| HYDROCHLOROTHIAZIDE|{[ANDA040780, AND...|\n",
      "|              DUONEB|                NULL|\n",
      "|            CELEBREX|{[NDA020998], [CE...|\n",
      "|            CELEBREX|{[NDA020998], [CE...|\n",
      "|             SPIRIVA|{[NDA021395], [SP...|\n",
      "|           ALBUTEROL|{[ANDA210948, AND...|\n",
      "| HYDROCHLOROTHIAZIDE|{[ANDA040780, AND...|\n",
      "+--------------------+--------------------+\n",
      "only showing top 20 rows\n",
      "\n"
     ]
    }
   ],
   "source": [
    "updated_data.select(all_keys[-2:]).show()"
   ]
  },
  {
   "cell_type": "code",
   "execution_count": 122,
   "id": "725d9384-629c-4616-bae9-1cf63bb6e2ec",
   "metadata": {},
   "outputs": [],
   "source": [
    "updated_data = updated_data.select(all_keys)\\\n",
    "            .withColumn(\"explode_reaction\",F.explode(F.col(\"reaction\")))"
   ]
  },
  {
   "cell_type": "code",
   "execution_count": 130,
   "id": "dc78316f-f6db-4fa6-931f-6dfdebbf0d11",
   "metadata": {},
   "outputs": [],
   "source": [
    "all_keys = updated_data.columns"
   ]
  },
  {
   "cell_type": "code",
   "execution_count": 131,
   "id": "30e35348-02e6-4726-bf5e-6457552ce1dd",
   "metadata": {},
   "outputs": [],
   "source": [
    "reaction_keys = updated_data.select(F.col(\"explode_reaction.*\")).columns"
   ]
  },
  {
   "cell_type": "code",
   "execution_count": 132,
   "id": "1be88a44-8db0-4bd1-bbf2-c809b72e5d1f",
   "metadata": {},
   "outputs": [],
   "source": [
    "reaction_keys = [\"explode_reaction.\"+i for i in reaction_keys]\n",
    "all_keys.extend(reaction_keys)"
   ]
  },
  {
   "cell_type": "code",
   "execution_count": 135,
   "id": "52e197bc-c149-4028-9a8f-fbfc01f484c6",
   "metadata": {},
   "outputs": [
    {
     "data": {
      "text/plain": [
       "['companynumb',\n",
       " 'duplicate',\n",
       " 'fulfillexpeditecriteria',\n",
       " 'occurcountry',\n",
       " 'primarysource',\n",
       " 'primarysourcecountry',\n",
       " 'receiptdate',\n",
       " 'receiptdateformat',\n",
       " 'receivedate',\n",
       " 'receivedateformat',\n",
       " 'receiver',\n",
       " 'reportduplicate',\n",
       " 'reporttype',\n",
       " 'safetyreportid',\n",
       " 'safetyreportversion',\n",
       " 'sender',\n",
       " 'serious',\n",
       " 'seriousnesscongenitalanomali',\n",
       " 'seriousnessdeath',\n",
       " 'seriousnessdisabling',\n",
       " 'seriousnesshospitalization',\n",
       " 'seriousnesslifethreatening',\n",
       " 'seriousnessother',\n",
       " 'transmissiondate',\n",
       " 'transmissiondateformat',\n",
       " 'drug',\n",
       " 'patientagegroup',\n",
       " 'patientdeath',\n",
       " 'patientonsetage',\n",
       " 'patientonsetageunit',\n",
       " 'patientsex',\n",
       " 'patientweight',\n",
       " 'reaction',\n",
       " 'summary',\n",
       " 'actiondrug',\n",
       " 'activesubstance',\n",
       " 'drugadditional',\n",
       " 'drugadministrationroute',\n",
       " 'drugauthorizationnumb',\n",
       " 'drugbatchnumb',\n",
       " 'drugcharacterization',\n",
       " 'drugdosageform',\n",
       " 'drugdosagetext',\n",
       " 'drugenddate',\n",
       " 'drugenddateformat',\n",
       " 'drugindication',\n",
       " 'drugrecurreadministration',\n",
       " 'drugstartdate',\n",
       " 'drugstartdateformat',\n",
       " 'drugstructuredosagenumb',\n",
       " 'drugstructuredosageunit',\n",
       " 'drugtreatmentduration',\n",
       " 'drugtreatmentdurationunit',\n",
       " 'medicinalproduct',\n",
       " 'actiondrug',\n",
       " 'activesubstance',\n",
       " 'drugadditional',\n",
       " 'drugadministrationroute',\n",
       " 'drugauthorizationnumb',\n",
       " 'drugbatchnumb',\n",
       " 'drugcharacterization',\n",
       " 'drugdosageform',\n",
       " 'drugdosagetext',\n",
       " 'drugenddate',\n",
       " 'drugenddateformat',\n",
       " 'drugindication',\n",
       " 'drugrecurreadministration',\n",
       " 'drugstartdate',\n",
       " 'drugstartdateformat',\n",
       " 'drugstructuredosagenumb',\n",
       " 'drugstructuredosageunit',\n",
       " 'drugtreatmentduration',\n",
       " 'drugtreatmentdurationunit',\n",
       " 'medicinalproduct',\n",
       " 'openfda',\n",
       " 'explode_reaction',\n",
       " 'explode_reaction.reactionmeddrapt',\n",
       " 'explode_reaction.reactionmeddraversionpt',\n",
       " 'explode_reaction.reactionoutcome']"
      ]
     },
     "execution_count": 135,
     "metadata": {},
     "output_type": "execute_result"
    }
   ],
   "source": [
    "all_keys"
   ]
  },
  {
   "cell_type": "code",
   "execution_count": 133,
   "id": "0a0bbe0d-1023-455b-9bb3-5a5741206eef",
   "metadata": {},
   "outputs": [
    {
     "data": {
      "text/plain": [
       "DataFrame[companynumb: string, duplicate: string, fulfillexpeditecriteria: string, occurcountry: string, primarysource: struct<qualification:string,reportercountry:string>, primarysourcecountry: string, receiptdate: string, receiptdateformat: string, receivedate: string, receivedateformat: string, receiver: struct<receiverorganization:string,receivertype:string>, reportduplicate: struct<duplicatenumb:string,duplicatesource:string>, reporttype: string, safetyreportid: string, safetyreportversion: string, sender: struct<senderorganization:string,sendertype:string>, serious: string, seriousnesscongenitalanomali: string, seriousnessdeath: string, seriousnessdisabling: string, seriousnesshospitalization: string, seriousnesslifethreatening: string, seriousnessother: string, transmissiondate: string, transmissiondateformat: string, drug: array<struct<actiondrug:string,activesubstance:struct<activesubstancename:string>,drugadditional:string,drugadministrationroute:string,drugauthorizationnumb:string,drugbatchnumb:string,drugcharacterization:string,drugdosageform:string,drugdosagetext:string,drugenddate:string,drugenddateformat:string,drugindication:string,drugrecurreadministration:string,drugstartdate:string,drugstartdateformat:string,drugstructuredosagenumb:string,drugstructuredosageunit:string,drugtreatmentduration:string,drugtreatmentdurationunit:string,medicinalproduct:string,openfda:struct<application_number:array<string>,brand_name:array<string>,generic_name:array<string>,manufacturer_name:array<string>,nui:array<string>,package_ndc:array<string>,pharm_class_cs:array<string>,pharm_class_epc:array<string>,pharm_class_moa:array<string>,pharm_class_pe:array<string>,product_ndc:array<string>,product_type:array<string>,route:array<string>,rxcui:array<string>,spl_id:array<string>,spl_set_id:array<string>,substance_name:array<string>,unii:array<string>>>>, patientagegroup: string, patientdeath: struct<patientdeathdate:string,patientdeathdateformat:string>, patientonsetage: string, patientonsetageunit: string, patientsex: string, patientweight: string, reaction: array<struct<reactionmeddrapt:string,reactionmeddraversionpt:string,reactionoutcome:string>>, summary: struct<narrativeincludeclinical:string>, actiondrug: string, activesubstance: struct<activesubstancename:string>, drugadditional: string, drugadministrationroute: string, drugauthorizationnumb: string, drugbatchnumb: string, drugcharacterization: string, drugdosageform: string, drugdosagetext: string, drugenddate: string, drugenddateformat: string, drugindication: string, drugrecurreadministration: string, drugstartdate: string, drugstartdateformat: string, drugstructuredosagenumb: string, drugstructuredosageunit: string, drugtreatmentduration: string, drugtreatmentdurationunit: string, medicinalproduct: string, actiondrug: string, activesubstance: struct<activesubstancename:string>, drugadditional: string, drugadministrationroute: string, drugauthorizationnumb: string, drugbatchnumb: string, drugcharacterization: string, drugdosageform: string, drugdosagetext: string, drugenddate: string, drugenddateformat: string, drugindication: string, drugrecurreadministration: string, drugstartdate: string, drugstartdateformat: string, drugstructuredosagenumb: string, drugstructuredosageunit: string, drugtreatmentduration: string, drugtreatmentdurationunit: string, medicinalproduct: string, openfda: struct<application_number:array<string>,brand_name:array<string>,generic_name:array<string>,manufacturer_name:array<string>,nui:array<string>,package_ndc:array<string>,pharm_class_cs:array<string>,pharm_class_epc:array<string>,pharm_class_moa:array<string>,pharm_class_pe:array<string>,product_ndc:array<string>,product_type:array<string>,route:array<string>,rxcui:array<string>,spl_id:array<string>,spl_set_id:array<string>,substance_name:array<string>,unii:array<string>>, explode_reaction: struct<reactionmeddrapt:string,reactionmeddraversionpt:string,reactionoutcome:string>]"
      ]
     },
     "execution_count": 133,
     "metadata": {},
     "output_type": "execute_result"
    }
   ],
   "source": [
    "updated_data"
   ]
  },
  {
   "cell_type": "code",
   "execution_count": 138,
   "id": "97de6a86-2ab0-43e9-be18-0c44746fdb01",
   "metadata": {},
   "outputs": [],
   "source": [
    "updated_data = updated_data.drop(\"actiondrug\")"
   ]
  },
  {
   "cell_type": "code",
   "execution_count": 139,
   "id": "ef51b577-e26f-4a36-bea7-ab5a558bb0bc",
   "metadata": {},
   "outputs": [
    {
     "ename": "AnalysisException",
     "evalue": "[AMBIGUOUS_REFERENCE] Reference `activesubstance` is ambiguous, could be: [`activesubstance`, `activesubstance`].",
     "output_type": "error",
     "traceback": [
      "\u001b[1;31m---------------------------------------------------------------------------\u001b[0m",
      "\u001b[1;31mAnalysisException\u001b[0m                         Traceback (most recent call last)",
      "Cell \u001b[1;32mIn[139], line 1\u001b[0m\n\u001b[1;32m----> 1\u001b[0m \u001b[43mupdated_data\u001b[49m\u001b[38;5;241;43m.\u001b[39;49m\u001b[43mselect\u001b[49m\u001b[43m(\u001b[49m\u001b[43mall_keys\u001b[49m\u001b[43m)\u001b[49m\u001b[38;5;241m.\u001b[39mshow()\n",
      "File \u001b[1;32m~\\anaconda3\\envs\\tf\\lib\\site-packages\\pyspark\\sql\\dataframe.py:3229\u001b[0m, in \u001b[0;36mDataFrame.select\u001b[1;34m(self, *cols)\u001b[0m\n\u001b[0;32m   3184\u001b[0m \u001b[38;5;28;01mdef\u001b[39;00m \u001b[38;5;21mselect\u001b[39m(\u001b[38;5;28mself\u001b[39m, \u001b[38;5;241m*\u001b[39mcols: \u001b[38;5;124m\"\u001b[39m\u001b[38;5;124mColumnOrName\u001b[39m\u001b[38;5;124m\"\u001b[39m) \u001b[38;5;241m-\u001b[39m\u001b[38;5;241m>\u001b[39m \u001b[38;5;124m\"\u001b[39m\u001b[38;5;124mDataFrame\u001b[39m\u001b[38;5;124m\"\u001b[39m:  \u001b[38;5;66;03m# type: ignore[misc]\u001b[39;00m\n\u001b[0;32m   3185\u001b[0m \u001b[38;5;250m    \u001b[39m\u001b[38;5;124;03m\"\"\"Projects a set of expressions and returns a new :class:`DataFrame`.\u001b[39;00m\n\u001b[0;32m   3186\u001b[0m \n\u001b[0;32m   3187\u001b[0m \u001b[38;5;124;03m    .. versionadded:: 1.3.0\u001b[39;00m\n\u001b[1;32m   (...)\u001b[0m\n\u001b[0;32m   3227\u001b[0m \u001b[38;5;124;03m    +-----+---+\u001b[39;00m\n\u001b[0;32m   3228\u001b[0m \u001b[38;5;124;03m    \"\"\"\u001b[39;00m\n\u001b[1;32m-> 3229\u001b[0m     jdf \u001b[38;5;241m=\u001b[39m \u001b[38;5;28;43mself\u001b[39;49m\u001b[38;5;241;43m.\u001b[39;49m\u001b[43m_jdf\u001b[49m\u001b[38;5;241;43m.\u001b[39;49m\u001b[43mselect\u001b[49m\u001b[43m(\u001b[49m\u001b[38;5;28;43mself\u001b[39;49m\u001b[38;5;241;43m.\u001b[39;49m\u001b[43m_jcols\u001b[49m\u001b[43m(\u001b[49m\u001b[38;5;241;43m*\u001b[39;49m\u001b[43mcols\u001b[49m\u001b[43m)\u001b[49m\u001b[43m)\u001b[49m\n\u001b[0;32m   3230\u001b[0m     \u001b[38;5;28;01mreturn\u001b[39;00m DataFrame(jdf, \u001b[38;5;28mself\u001b[39m\u001b[38;5;241m.\u001b[39msparkSession)\n",
      "File \u001b[1;32m~\\anaconda3\\envs\\tf\\lib\\site-packages\\py4j\\java_gateway.py:1322\u001b[0m, in \u001b[0;36mJavaMember.__call__\u001b[1;34m(self, *args)\u001b[0m\n\u001b[0;32m   1316\u001b[0m command \u001b[38;5;241m=\u001b[39m proto\u001b[38;5;241m.\u001b[39mCALL_COMMAND_NAME \u001b[38;5;241m+\u001b[39m\\\n\u001b[0;32m   1317\u001b[0m     \u001b[38;5;28mself\u001b[39m\u001b[38;5;241m.\u001b[39mcommand_header \u001b[38;5;241m+\u001b[39m\\\n\u001b[0;32m   1318\u001b[0m     args_command \u001b[38;5;241m+\u001b[39m\\\n\u001b[0;32m   1319\u001b[0m     proto\u001b[38;5;241m.\u001b[39mEND_COMMAND_PART\n\u001b[0;32m   1321\u001b[0m answer \u001b[38;5;241m=\u001b[39m \u001b[38;5;28mself\u001b[39m\u001b[38;5;241m.\u001b[39mgateway_client\u001b[38;5;241m.\u001b[39msend_command(command)\n\u001b[1;32m-> 1322\u001b[0m return_value \u001b[38;5;241m=\u001b[39m \u001b[43mget_return_value\u001b[49m\u001b[43m(\u001b[49m\n\u001b[0;32m   1323\u001b[0m \u001b[43m    \u001b[49m\u001b[43manswer\u001b[49m\u001b[43m,\u001b[49m\u001b[43m \u001b[49m\u001b[38;5;28;43mself\u001b[39;49m\u001b[38;5;241;43m.\u001b[39;49m\u001b[43mgateway_client\u001b[49m\u001b[43m,\u001b[49m\u001b[43m \u001b[49m\u001b[38;5;28;43mself\u001b[39;49m\u001b[38;5;241;43m.\u001b[39;49m\u001b[43mtarget_id\u001b[49m\u001b[43m,\u001b[49m\u001b[43m \u001b[49m\u001b[38;5;28;43mself\u001b[39;49m\u001b[38;5;241;43m.\u001b[39;49m\u001b[43mname\u001b[49m\u001b[43m)\u001b[49m\n\u001b[0;32m   1325\u001b[0m \u001b[38;5;28;01mfor\u001b[39;00m temp_arg \u001b[38;5;129;01min\u001b[39;00m temp_args:\n\u001b[0;32m   1326\u001b[0m     \u001b[38;5;28;01mif\u001b[39;00m \u001b[38;5;28mhasattr\u001b[39m(temp_arg, \u001b[38;5;124m\"\u001b[39m\u001b[38;5;124m_detach\u001b[39m\u001b[38;5;124m\"\u001b[39m):\n",
      "File \u001b[1;32m~\\anaconda3\\envs\\tf\\lib\\site-packages\\pyspark\\errors\\exceptions\\captured.py:185\u001b[0m, in \u001b[0;36mcapture_sql_exception.<locals>.deco\u001b[1;34m(*a, **kw)\u001b[0m\n\u001b[0;32m    181\u001b[0m converted \u001b[38;5;241m=\u001b[39m convert_exception(e\u001b[38;5;241m.\u001b[39mjava_exception)\n\u001b[0;32m    182\u001b[0m \u001b[38;5;28;01mif\u001b[39;00m \u001b[38;5;129;01mnot\u001b[39;00m \u001b[38;5;28misinstance\u001b[39m(converted, UnknownException):\n\u001b[0;32m    183\u001b[0m     \u001b[38;5;66;03m# Hide where the exception came from that shows a non-Pythonic\u001b[39;00m\n\u001b[0;32m    184\u001b[0m     \u001b[38;5;66;03m# JVM exception message.\u001b[39;00m\n\u001b[1;32m--> 185\u001b[0m     \u001b[38;5;28;01mraise\u001b[39;00m converted \u001b[38;5;28;01mfrom\u001b[39;00m \u001b[38;5;28;01mNone\u001b[39;00m\n\u001b[0;32m    186\u001b[0m \u001b[38;5;28;01melse\u001b[39;00m:\n\u001b[0;32m    187\u001b[0m     \u001b[38;5;28;01mraise\u001b[39;00m\n",
      "\u001b[1;31mAnalysisException\u001b[0m: [AMBIGUOUS_REFERENCE] Reference `activesubstance` is ambiguous, could be: [`activesubstance`, `activesubstance`]."
     ]
    }
   ],
   "source": [
    "updated_data.select(all_keys).show()"
   ]
  },
  {
   "cell_type": "code",
   "execution_count": null,
   "id": "36601e9d-1ff5-4d99-bfa3-07b1eaf514bc",
   "metadata": {},
   "outputs": [],
   "source": []
  }
 ],
 "metadata": {
  "kernelspec": {
   "display_name": "Python 3 (ipykernel)",
   "language": "python",
   "name": "python3"
  },
  "language_info": {
   "codemirror_mode": {
    "name": "ipython",
    "version": 3
   },
   "file_extension": ".py",
   "mimetype": "text/x-python",
   "name": "python",
   "nbconvert_exporter": "python",
   "pygments_lexer": "ipython3",
   "version": "3.9.20"
  }
 },
 "nbformat": 4,
 "nbformat_minor": 5
}
