{
 "cells": [
  {
   "cell_type": "markdown",
   "id": "d1b15426-3dfa-4dca-863f-3b15b28ceb2b",
   "metadata": {},
   "source": [
    "## Data Transformation from JSON to Dataframe"
   ]
  },
  {
   "cell_type": "markdown",
   "id": "bb452bf6-9bb4-4e95-a424-8a557339e46f",
   "metadata": {},
   "source": [
    "### All Imports"
   ]
  },
  {
   "cell_type": "code",
   "execution_count": 1,
   "id": "0baf9c78-0175-4ef9-a584-238e900fa30b",
   "metadata": {},
   "outputs": [],
   "source": [
    "import pandas as pd\n",
    "import numpy as np\n",
    "import seaborn as sns\n",
    "from pyspark.sql import SparkSession\n",
    "from pyspark.sql.functions import udf, explode, col, arrays_zip\n",
    "from pyspark.sql.types import StructType, StructField, StringType, IntegerType, ArrayType\n",
    "import pyspark.sql.functions as F\n",
    "from pyspark.sql.functions import sum,avg,max\n",
    "import os\n",
    "import sys\n",
    "os.environ['PYSPARK_PYTHON'] = sys.executable\n",
    "os.environ['PYSPARK_DRIVER_PYTHON'] = sys.executable\n",
    "import findspark\n",
    "findspark.init()"
   ]
  },
  {
   "cell_type": "markdown",
   "id": "d58e53ea-51f0-4868-97d7-a62f8dab8974",
   "metadata": {},
   "source": [
    "### Spark Session"
   ]
  },
  {
   "cell_type": "code",
   "execution_count": 2,
   "id": "8f9ef91d-d6a0-47d7-b193-7df7a1d3f648",
   "metadata": {},
   "outputs": [],
   "source": [
    "spark = SparkSession.builder \\\n",
    "    .master(\"local\") \\\n",
    "    .config(\"spark.driver.memory\", \"12g\") \\\n",
    "    .config(\"spark.executor.memory\", \"12g\") \\\n",
    "    .appName(\"data_cleaning\") \\\n",
    "    .getOrCreate()"
   ]
  },
  {
   "cell_type": "markdown",
   "id": "c4676a23-3e17-4975-8e21-f422402ac2fa",
   "metadata": {},
   "source": [
    "### Read File"
   ]
  },
  {
   "cell_type": "code",
   "execution_count": 3,
   "id": "8800514d-40ad-42b3-a775-9b24523f5dc3",
   "metadata": {},
   "outputs": [],
   "source": [
    "# json_data = spark.read.option(\"multiline\",\"true\").json([\"./Data/JSON/drug-event-0019-of-0031.json\"])\n",
    "json_data = spark.read.option(\"multiline\",\"true\").json(\"./Data/JSON\")"
   ]
  },
  {
   "cell_type": "code",
   "execution_count": 4,
   "id": "48bbac0f-4207-4e7f-8567-0666944e5617",
   "metadata": {
    "scrolled": true
   },
   "outputs": [
    {
     "name": "stdout",
     "output_type": "stream",
     "text": [
      "root\n",
      " |-- meta: struct (nullable = true)\n",
      " |    |-- disclaimer: string (nullable = true)\n",
      " |    |-- last_updated: string (nullable = true)\n",
      " |    |-- license: string (nullable = true)\n",
      " |    |-- results: struct (nullable = true)\n",
      " |    |    |-- limit: long (nullable = true)\n",
      " |    |    |-- skip: long (nullable = true)\n",
      " |    |    |-- total: long (nullable = true)\n",
      " |    |-- terms: string (nullable = true)\n",
      " |-- results: array (nullable = true)\n",
      " |    |-- element: struct (containsNull = true)\n",
      " |    |    |-- authoritynumb: string (nullable = true)\n",
      " |    |    |-- companynumb: string (nullable = true)\n",
      " |    |    |-- duplicate: string (nullable = true)\n",
      " |    |    |-- fulfillexpeditecriteria: string (nullable = true)\n",
      " |    |    |-- occurcountry: string (nullable = true)\n",
      " |    |    |-- patient: struct (nullable = true)\n",
      " |    |    |    |-- drug: array (nullable = true)\n",
      " |    |    |    |    |-- element: struct (containsNull = true)\n",
      " |    |    |    |    |    |-- actiondrug: string (nullable = true)\n",
      " |    |    |    |    |    |-- activesubstance: struct (nullable = true)\n",
      " |    |    |    |    |    |    |-- activesubstancename: string (nullable = true)\n",
      " |    |    |    |    |    |-- drugadditional: string (nullable = true)\n",
      " |    |    |    |    |    |-- drugadministrationroute: string (nullable = true)\n",
      " |    |    |    |    |    |-- drugauthorizationnumb: string (nullable = true)\n",
      " |    |    |    |    |    |-- drugbatchnumb: string (nullable = true)\n",
      " |    |    |    |    |    |-- drugcharacterization: string (nullable = true)\n",
      " |    |    |    |    |    |-- drugcumulativedosagenumb: string (nullable = true)\n",
      " |    |    |    |    |    |-- drugcumulativedosageunit: string (nullable = true)\n",
      " |    |    |    |    |    |-- drugdosageform: string (nullable = true)\n",
      " |    |    |    |    |    |-- drugdosagetext: string (nullable = true)\n",
      " |    |    |    |    |    |-- drugenddate: string (nullable = true)\n",
      " |    |    |    |    |    |-- drugenddateformat: string (nullable = true)\n",
      " |    |    |    |    |    |-- drugindication: string (nullable = true)\n",
      " |    |    |    |    |    |-- drugintervaldosagedefinition: string (nullable = true)\n",
      " |    |    |    |    |    |-- drugintervaldosageunitnumb: string (nullable = true)\n",
      " |    |    |    |    |    |-- drugrecurreadministration: string (nullable = true)\n",
      " |    |    |    |    |    |-- drugseparatedosagenumb: string (nullable = true)\n",
      " |    |    |    |    |    |-- drugstartdate: string (nullable = true)\n",
      " |    |    |    |    |    |-- drugstartdateformat: string (nullable = true)\n",
      " |    |    |    |    |    |-- drugstructuredosagenumb: string (nullable = true)\n",
      " |    |    |    |    |    |-- drugstructuredosageunit: string (nullable = true)\n",
      " |    |    |    |    |    |-- drugtreatmentduration: string (nullable = true)\n",
      " |    |    |    |    |    |-- drugtreatmentdurationunit: string (nullable = true)\n",
      " |    |    |    |    |    |-- medicinalproduct: string (nullable = true)\n",
      " |    |    |    |    |    |-- openfda: struct (nullable = true)\n",
      " |    |    |    |    |    |    |-- application_number: array (nullable = true)\n",
      " |    |    |    |    |    |    |    |-- element: string (containsNull = true)\n",
      " |    |    |    |    |    |    |-- brand_name: array (nullable = true)\n",
      " |    |    |    |    |    |    |    |-- element: string (containsNull = true)\n",
      " |    |    |    |    |    |    |-- generic_name: array (nullable = true)\n",
      " |    |    |    |    |    |    |    |-- element: string (containsNull = true)\n",
      " |    |    |    |    |    |    |-- manufacturer_name: array (nullable = true)\n",
      " |    |    |    |    |    |    |    |-- element: string (containsNull = true)\n",
      " |    |    |    |    |    |    |-- nui: array (nullable = true)\n",
      " |    |    |    |    |    |    |    |-- element: string (containsNull = true)\n",
      " |    |    |    |    |    |    |-- package_ndc: array (nullable = true)\n",
      " |    |    |    |    |    |    |    |-- element: string (containsNull = true)\n",
      " |    |    |    |    |    |    |-- pharm_class_cs: array (nullable = true)\n",
      " |    |    |    |    |    |    |    |-- element: string (containsNull = true)\n",
      " |    |    |    |    |    |    |-- pharm_class_epc: array (nullable = true)\n",
      " |    |    |    |    |    |    |    |-- element: string (containsNull = true)\n",
      " |    |    |    |    |    |    |-- pharm_class_moa: array (nullable = true)\n",
      " |    |    |    |    |    |    |    |-- element: string (containsNull = true)\n",
      " |    |    |    |    |    |    |-- pharm_class_pe: array (nullable = true)\n",
      " |    |    |    |    |    |    |    |-- element: string (containsNull = true)\n",
      " |    |    |    |    |    |    |-- product_ndc: array (nullable = true)\n",
      " |    |    |    |    |    |    |    |-- element: string (containsNull = true)\n",
      " |    |    |    |    |    |    |-- product_type: array (nullable = true)\n",
      " |    |    |    |    |    |    |    |-- element: string (containsNull = true)\n",
      " |    |    |    |    |    |    |-- route: array (nullable = true)\n",
      " |    |    |    |    |    |    |    |-- element: string (containsNull = true)\n",
      " |    |    |    |    |    |    |-- rxcui: array (nullable = true)\n",
      " |    |    |    |    |    |    |    |-- element: string (containsNull = true)\n",
      " |    |    |    |    |    |    |-- spl_id: array (nullable = true)\n",
      " |    |    |    |    |    |    |    |-- element: string (containsNull = true)\n",
      " |    |    |    |    |    |    |-- spl_set_id: array (nullable = true)\n",
      " |    |    |    |    |    |    |    |-- element: string (containsNull = true)\n",
      " |    |    |    |    |    |    |-- substance_name: array (nullable = true)\n",
      " |    |    |    |    |    |    |    |-- element: string (containsNull = true)\n",
      " |    |    |    |    |    |    |-- unii: array (nullable = true)\n",
      " |    |    |    |    |    |    |    |-- element: string (containsNull = true)\n",
      " |    |    |    |-- patientagegroup: string (nullable = true)\n",
      " |    |    |    |-- patientonsetage: string (nullable = true)\n",
      " |    |    |    |-- patientonsetageunit: string (nullable = true)\n",
      " |    |    |    |-- patientsex: string (nullable = true)\n",
      " |    |    |    |-- patientweight: string (nullable = true)\n",
      " |    |    |    |-- reaction: array (nullable = true)\n",
      " |    |    |    |    |-- element: struct (containsNull = true)\n",
      " |    |    |    |    |    |-- reactionmeddrapt: string (nullable = true)\n",
      " |    |    |    |    |    |-- reactionmeddraversionpt: string (nullable = true)\n",
      " |    |    |    |    |    |-- reactionoutcome: string (nullable = true)\n",
      " |    |    |    |-- summary: struct (nullable = true)\n",
      " |    |    |    |    |-- narrativeincludeclinical: string (nullable = true)\n",
      " |    |    |-- primarysource: struct (nullable = true)\n",
      " |    |    |    |-- literaturereference: string (nullable = true)\n",
      " |    |    |    |-- qualification: string (nullable = true)\n",
      " |    |    |    |-- reportercountry: string (nullable = true)\n",
      " |    |    |-- primarysourcecountry: string (nullable = true)\n",
      " |    |    |-- receiptdate: string (nullable = true)\n",
      " |    |    |-- receiptdateformat: string (nullable = true)\n",
      " |    |    |-- receivedate: string (nullable = true)\n",
      " |    |    |-- receivedateformat: string (nullable = true)\n",
      " |    |    |-- receiver: struct (nullable = true)\n",
      " |    |    |    |-- receiverorganization: string (nullable = true)\n",
      " |    |    |    |-- receivertype: string (nullable = true)\n",
      " |    |    |-- reportduplicate: string (nullable = true)\n",
      " |    |    |-- reporttype: string (nullable = true)\n",
      " |    |    |-- safetyreportid: string (nullable = true)\n",
      " |    |    |-- safetyreportversion: string (nullable = true)\n",
      " |    |    |-- sender: struct (nullable = true)\n",
      " |    |    |    |-- senderorganization: string (nullable = true)\n",
      " |    |    |    |-- sendertype: string (nullable = true)\n",
      " |    |    |-- serious: string (nullable = true)\n",
      " |    |    |-- seriousnesscongenitalanomali: string (nullable = true)\n",
      " |    |    |-- seriousnessdeath: string (nullable = true)\n",
      " |    |    |-- seriousnessdisabling: string (nullable = true)\n",
      " |    |    |-- seriousnesshospitalization: string (nullable = true)\n",
      " |    |    |-- seriousnesslifethreatening: string (nullable = true)\n",
      " |    |    |-- seriousnessother: string (nullable = true)\n",
      " |    |    |-- transmissiondate: string (nullable = true)\n",
      " |    |    |-- transmissiondateformat: string (nullable = true)\n",
      "\n"
     ]
    }
   ],
   "source": [
    "json_data.printSchema()"
   ]
  },
  {
   "cell_type": "code",
   "execution_count": 5,
   "id": "99ee2961-47b8-46c1-bca9-70e8398e9d99",
   "metadata": {},
   "outputs": [],
   "source": [
    "# json_data.show()"
   ]
  },
  {
   "cell_type": "code",
   "execution_count": 6,
   "id": "049be9a2-e5cc-47a5-a2ea-173ea1dc29ad",
   "metadata": {},
   "outputs": [],
   "source": [
    "exploded_results = json_data.select(explode(F.col(\"results\")).alias(\"exploded_results\"))"
   ]
  },
  {
   "cell_type": "code",
   "execution_count": 7,
   "id": "6e5494f9-567e-4746-95af-c28ab88ced73",
   "metadata": {},
   "outputs": [],
   "source": [
    "# exploded_results.count()\n",
    "#12000"
   ]
  },
  {
   "cell_type": "code",
   "execution_count": 8,
   "id": "530e189d-1ab8-4562-8912-f504a449ee40",
   "metadata": {},
   "outputs": [],
   "source": [
    "# exploded_results.show()"
   ]
  },
  {
   "cell_type": "code",
   "execution_count": 9,
   "id": "03b7f963-d4ec-4a13-9495-659f7e9db84a",
   "metadata": {},
   "outputs": [],
   "source": [
    "all_keys = []"
   ]
  },
  {
   "cell_type": "markdown",
   "id": "b631ea3b-0e4d-4a6a-a23f-4c94b93d9229",
   "metadata": {},
   "source": [
    "### Converting Nested JSON Data into Columns"
   ]
  },
  {
   "cell_type": "code",
   "execution_count": null,
   "id": "a0b95afa-f108-4be9-98fe-d5d526782a7d",
   "metadata": {},
   "outputs": [],
   "source": []
  },
  {
   "cell_type": "code",
   "execution_count": 10,
   "id": "bd457f53-4b34-45de-81a5-8f07c7cb7704",
   "metadata": {},
   "outputs": [],
   "source": [
    "# temp_data.withColumn(\"keys\", F.json_object_keys(temp_data.exploded_array)).show()\n",
    "keys = exploded_results.select(F.col(\"exploded_results.*\")).columns\n",
    "keys = [\"exploded_results.\"+str(i) for i in keys]\n",
    "all_keys.extend(keys)"
   ]
  },
  {
   "cell_type": "code",
   "execution_count": null,
   "id": "63eb5c8f-c02c-4223-9a57-0af0508d4eb1",
   "metadata": {},
   "outputs": [],
   "source": []
  },
  {
   "cell_type": "code",
   "execution_count": 11,
   "id": "0ff4b7c3-3906-4992-899e-79440a8b08d9",
   "metadata": {},
   "outputs": [],
   "source": [
    "patient_keys = exploded_results.select(F.col(\"exploded_results.patient.*\")).columns\n",
    "patient_keys = [\"exploded_results.patient.\"+str(i) for i in patient_keys]\n",
    "all_keys.extend(patient_keys)\n",
    "updated_data = exploded_results.select(all_keys)\n",
    "updated_data = updated_data.drop(F.col(\"patient\"))\n",
    "all_keys = updated_data.columns"
   ]
  },
  {
   "cell_type": "code",
   "execution_count": 12,
   "id": "dbfdeb0f-f21b-44c5-9686-5f6e3cf839f0",
   "metadata": {},
   "outputs": [],
   "source": [
    "# updated_data.count()\n",
    "#12000"
   ]
  },
  {
   "cell_type": "code",
   "execution_count": 13,
   "id": "e8a11e61-c0d1-47fe-83ae-a83ca13d5db2",
   "metadata": {},
   "outputs": [],
   "source": [
    "updated_data = updated_data.select(all_keys)\\\n",
    "            .withColumn(\"explode_drug\",F.explode(F.col(\"drug\")))\n",
    "drug_keys = updated_data.select(F.col(\"explode_drug.*\")).columns\n",
    "drug_keys = [\"explode_drug.\"+i for i in drug_keys]\n",
    "all_keys.extend(drug_keys)"
   ]
  },
  {
   "cell_type": "code",
   "execution_count": 14,
   "id": "b8af7a00-c33e-4d0e-9200-fad0289a93c4",
   "metadata": {},
   "outputs": [],
   "source": [
    "updated_data = updated_data.select(all_keys)"
   ]
  },
  {
   "cell_type": "code",
   "execution_count": 15,
   "id": "ee756ce5-caf4-4682-8b59-b228a72901ba",
   "metadata": {},
   "outputs": [],
   "source": [
    "updated_data = updated_data.drop(*['authoritynumb','duplicate','reportduplicate','patientagegroup','patientweight','summary'])"
   ]
  },
  {
   "cell_type": "code",
   "execution_count": 16,
   "id": "e051b646-f98c-43e2-b4fc-8e8009cc0c37",
   "metadata": {},
   "outputs": [],
   "source": [
    "updated_data = updated_data.where(F.col(\"drugindication\") != 'NULL')"
   ]
  },
  {
   "cell_type": "code",
   "execution_count": 17,
   "id": "bf1916c7-2990-4d4c-bb87-3dd97b3c5e34",
   "metadata": {},
   "outputs": [],
   "source": [
    "updated_data = updated_data.where(F.col(\"drugindication\") != \"Product used for unknown indication\")"
   ]
  },
  {
   "cell_type": "code",
   "execution_count": 18,
   "id": "105e7e32-07f9-41e8-ab76-08657f2bf38f",
   "metadata": {},
   "outputs": [],
   "source": [
    "# updated_data.cache()"
   ]
  },
  {
   "cell_type": "code",
   "execution_count": 19,
   "id": "4e5aa893-136e-4012-acea-628187c4a3bc",
   "metadata": {},
   "outputs": [],
   "source": [
    "# updated_data.show()"
   ]
  },
  {
   "cell_type": "code",
   "execution_count": 20,
   "id": "7145ec60-eaa1-4c47-807f-b56d9bf7ac75",
   "metadata": {},
   "outputs": [],
   "source": [
    "all_keys = updated_data.columns"
   ]
  },
  {
   "cell_type": "code",
   "execution_count": 21,
   "id": "725d9384-629c-4616-bae9-1cf63bb6e2ec",
   "metadata": {},
   "outputs": [],
   "source": [
    "all_keys = updated_data.columns\n",
    "updated_data = updated_data.select(all_keys)\\\n",
    "            .withColumn(\"explode_reaction\",F.explode(F.col(\"reaction\")))\n",
    "all_keys = updated_data.columns\n",
    "reaction_keys = updated_data.select(F.col(\"explode_reaction.*\")).columns\n",
    "reaction_keys = [\"explode_reaction.\"+i for i in reaction_keys]\n",
    "all_keys.extend(reaction_keys)"
   ]
  },
  {
   "cell_type": "code",
   "execution_count": 22,
   "id": "de326f81-78d5-466b-9f6a-526833875a5a",
   "metadata": {},
   "outputs": [],
   "source": [
    "updated_data = updated_data.select(all_keys)"
   ]
  },
  {
   "cell_type": "code",
   "execution_count": 23,
   "id": "d9748cd8-8e3e-45a1-bc96-0f53e8a4dc47",
   "metadata": {},
   "outputs": [],
   "source": [
    "updated_data = updated_data.where(F.col(\"reactionmeddrapt\") != 'NULL')"
   ]
  },
  {
   "cell_type": "code",
   "execution_count": 24,
   "id": "f333a39e-efce-4abd-8ce5-7b4449470c9e",
   "metadata": {},
   "outputs": [],
   "source": [
    "updated_data = updated_data.select([\"seriousnessdeath\",\"seriousnesslifethreatening\",\"seriousnesshospitalization\",\"seriousnessdisabling\",\"seriousnesscongenitalanomali\",\"seriousnessother\",\"patientonsetage\",\"reactionmeddrapt\",\"reactionoutcome\",\"drugindication\",\"activesubstance.activesubstancename\",\"medicinalproduct\",\"openfda.route\",\"openfda.brand_name\",\"openfda.generic_name\"])"
   ]
  },
  {
   "cell_type": "code",
   "execution_count": 25,
   "id": "fad892f5-ef6b-47c8-a08e-e0bf86e75c4f",
   "metadata": {
    "scrolled": true
   },
   "outputs": [],
   "source": [
    "# updated_data.cache()"
   ]
  },
  {
   "cell_type": "code",
   "execution_count": 26,
   "id": "d5dd3c01-25d7-43c8-9e75-5b5ad0fe6437",
   "metadata": {},
   "outputs": [],
   "source": [
    "updated_data = updated_data.dropna()"
   ]
  },
  {
   "cell_type": "code",
   "execution_count": 27,
   "id": "bd34eefc-4038-4441-85c9-a3a3b97c2fac",
   "metadata": {},
   "outputs": [],
   "source": [
    "data = updated_data.where(F.col(\"reactionmeddrapt\") != 'Off label use')\\\n",
    "                            .where(F.col(\"drugindication\") != 'Off label use')"
   ]
  },
  {
   "cell_type": "code",
   "execution_count": 28,
   "id": "238115b9-b8ff-4c4d-916f-aa364ef1e9b7",
   "metadata": {},
   "outputs": [],
   "source": [
    "for c in [\"activesubstancename\",\"medicinalproduct\",\"drugindication\",\"reactionmeddrapt\"]:\n",
    "    grouped_data = data.groupby(F.col(c)).count()\n",
    "    grouped_data = grouped_data.groupBy(c).agg(F.avg(\"count\").alias(\"avg_count\"))\n",
    "    overall_avg_df = grouped_data.agg(F.avg(\"avg_count\").alias(\"overall_avg\"))\n",
    "    filtered_data = grouped_data.crossJoin(overall_avg_df).filter(F.col(\"avg_count\") > F.col(\"overall_avg\"))\n",
    "    data = data.join(filtered_data.select(c),on=c, how=\"inner\")"
   ]
  },
  {
   "cell_type": "code",
   "execution_count": 29,
   "id": "ae143415-c3ca-42f6-9c8d-b4f8e6e266e0",
   "metadata": {},
   "outputs": [],
   "source": [
    "# data.createOrReplaceTempView(\"transformed_data\")"
   ]
  },
  {
   "cell_type": "code",
   "execution_count": null,
   "id": "8c56b653-cd1b-485c-83ae-0aa5e20c20ee",
   "metadata": {},
   "outputs": [],
   "source": []
  },
  {
   "cell_type": "markdown",
   "id": "ae68809e-5257-42a8-bcc3-714cf55e1c3d",
   "metadata": {},
   "source": [
    "## Sample Data Storing"
   ]
  },
  {
   "cell_type": "code",
   "execution_count": 42,
   "id": "e3f3e99f-46e0-482b-8ff1-75183cb6b4fd",
   "metadata": {},
   "outputs": [],
   "source": [
    "# df_sample = updated_data.sample(withReplacement=False, fraction=0.1)"
   ]
  },
  {
   "cell_type": "code",
   "execution_count": 43,
   "id": "57bf180a-0d48-4292-859d-8792df190fc2",
   "metadata": {},
   "outputs": [],
   "source": [
    "# pandas_df = data.toPandas()"
   ]
  },
  {
   "cell_type": "code",
   "execution_count": 44,
   "id": "0c63da0c-f76d-4ea4-b551-bf8a583eb696",
   "metadata": {},
   "outputs": [],
   "source": [
    "# pandas_df"
   ]
  },
  {
   "cell_type": "code",
   "execution_count": 45,
   "id": "c4ee6693-37a2-4867-acd9-564643b57daa",
   "metadata": {},
   "outputs": [],
   "source": [
    "# pandas_df[\"activesubstancename\"].value_counts()"
   ]
  },
  {
   "cell_type": "code",
   "execution_count": 46,
   "id": "9e29eed8-7510-4b3d-82c7-bd490be96ac9",
   "metadata": {},
   "outputs": [],
   "source": [
    "# pandas_df.to_csv(\"transformed_data.csv\")"
   ]
  },
  {
   "cell_type": "markdown",
   "id": "bca27277-61fe-4554-868b-5a1f80e3da1e",
   "metadata": {},
   "source": [
    "## Data Encoding"
   ]
  },
  {
   "cell_type": "code",
   "execution_count": 30,
   "id": "7a4bf045-1ee3-45e0-914a-b5476356696e",
   "metadata": {},
   "outputs": [],
   "source": [
    "from pyspark.ml.feature import OneHotEncoder, StringIndexer\n",
    "from pyspark.ml.functions import vector_to_array"
   ]
  },
  {
   "cell_type": "code",
   "execution_count": 31,
   "id": "839c1ff3-3897-4d3f-be21-12cc840b97ce",
   "metadata": {},
   "outputs": [],
   "source": [
    "# spark2 = SparkSession.builder \\\n",
    "#     .master(\"local\") \\\n",
    "#     .config(\"spark.driver.memory\", \"12g\") \\\n",
    "#     .config(\"spark.executor.memory\", \"12g\") \\\n",
    "#     .appName(\"data_encoding\") \\\n",
    "#     .getOrCreate()"
   ]
  },
  {
   "cell_type": "code",
   "execution_count": 32,
   "id": "44d54656-20da-44da-b787-059a54dea2bb",
   "metadata": {},
   "outputs": [],
   "source": [
    "# data = spark.read.csv(\"./transformed_data.csv\",header=True)\n",
    "# data = spark2.sql(\"SELECT * FROM transformed_data\")"
   ]
  },
  {
   "cell_type": "code",
   "execution_count": null,
   "id": "ea0a952b-a85f-4bc3-9d89-9edd05f54350",
   "metadata": {},
   "outputs": [],
   "source": []
  },
  {
   "cell_type": "code",
   "execution_count": 33,
   "id": "f2b055e3-88be-4a75-a241-ddf7b2f14023",
   "metadata": {},
   "outputs": [
    {
     "name": "stdout",
     "output_type": "stream",
     "text": [
      "root\n",
      " |-- reactionmeddrapt: string (nullable = true)\n",
      " |-- drugindication: string (nullable = true)\n",
      " |-- medicinalproduct: string (nullable = true)\n",
      " |-- activesubstancename: string (nullable = true)\n",
      " |-- seriousnessdeath: string (nullable = true)\n",
      " |-- seriousnesslifethreatening: string (nullable = true)\n",
      " |-- seriousnesshospitalization: string (nullable = true)\n",
      " |-- seriousnessdisabling: string (nullable = true)\n",
      " |-- seriousnesscongenitalanomali: string (nullable = true)\n",
      " |-- seriousnessother: string (nullable = true)\n",
      " |-- patientonsetage: string (nullable = true)\n",
      " |-- reactionoutcome: string (nullable = true)\n",
      " |-- route: array (nullable = true)\n",
      " |    |-- element: string (containsNull = true)\n",
      " |-- brand_name: array (nullable = true)\n",
      " |    |-- element: string (containsNull = true)\n",
      " |-- generic_name: array (nullable = true)\n",
      " |    |-- element: string (containsNull = true)\n",
      "\n"
     ]
    }
   ],
   "source": [
    "data.printSchema()"
   ]
  },
  {
   "cell_type": "code",
   "execution_count": 34,
   "id": "53920fef-e979-4b5e-adb8-bc2c0f9652b4",
   "metadata": {
    "scrolled": true
   },
   "outputs": [],
   "source": [
    "indexer_list = []\n",
    "for c in [\"activesubstancename\",\"medicinalproduct\",\"drugindication\"]:\n",
    "    indexer = StringIndexer(inputCol=c, outputCol=\"op_{}\".format(c))\n",
    "    indexer_list.append(indexer)"
   ]
  },
  {
   "cell_type": "code",
   "execution_count": null,
   "id": "8efa62b5-9b21-466e-8d4f-7e147c66a034",
   "metadata": {},
   "outputs": [],
   "source": [
    "from pyspark.ml import Pipeline\n",
    "pipeline = Pipeline(stages=indexer_list)\n",
    "pipeline_model = pipeline.fit(data)"
   ]
  },
  {
   "cell_type": "code",
   "execution_count": null,
   "id": "e9734f0c-d295-4fe8-887c-7aeceede26e5",
   "metadata": {
    "scrolled": true
   },
   "outputs": [],
   "source": [
    "data = pipeline_model.transform(data)"
   ]
  },
  {
   "cell_type": "code",
   "execution_count": null,
   "id": "d5bfa2bd-8456-4490-86c0-4c5d538bbcc2",
   "metadata": {},
   "outputs": [],
   "source": []
  },
  {
   "cell_type": "markdown",
   "id": "90731ba0-b010-4889-825a-ff2e68078c42",
   "metadata": {},
   "source": [
    "## Random Forest Predicting Reaction"
   ]
  },
  {
   "cell_type": "code",
   "execution_count": 45,
   "id": "27c2b8fc-3734-4a36-ae07-4af245beca6b",
   "metadata": {},
   "outputs": [],
   "source": [
    "# spark = SparkSession.builder \\\n",
    "#     .master(\"local\") \\\n",
    "#     .config(\"spark.driver.memory\", \"12g\") \\\n",
    "#     .config(\"spark.executor.memory\", \"12g\") \\\n",
    "#     .appName(\"random_forest\") \\\n",
    "#     .getOrCreate()"
   ]
  },
  {
   "cell_type": "code",
   "execution_count": 46,
   "id": "47f8eb39-c58f-4d25-a0ae-7fd791d15ccc",
   "metadata": {},
   "outputs": [],
   "source": [
    "# data = spark.read.csv(\"./encoded.csv\",header=True)"
   ]
  },
  {
   "cell_type": "code",
   "execution_count": 44,
   "id": "b7216dcd-8a4d-4ff9-8b84-e85aecf4ca07",
   "metadata": {},
   "outputs": [
    {
     "name": "stdout",
     "output_type": "stream",
     "text": [
      "root\n",
      " |-- reactionmeddrapt: string (nullable = true)\n",
      " |-- drugindication: string (nullable = true)\n",
      " |-- medicinalproduct: string (nullable = true)\n",
      " |-- activesubstancename: string (nullable = true)\n",
      " |-- seriousnessdeath: integer (nullable = true)\n",
      " |-- seriousnesslifethreatening: integer (nullable = true)\n",
      " |-- seriousnesshospitalization: integer (nullable = true)\n",
      " |-- seriousnessdisabling: integer (nullable = true)\n",
      " |-- seriousnesscongenitalanomali: integer (nullable = true)\n",
      " |-- seriousnessother: integer (nullable = true)\n",
      " |-- patientonsetage: integer (nullable = true)\n",
      " |-- reactionoutcome: string (nullable = true)\n",
      " |-- route: array (nullable = true)\n",
      " |    |-- element: string (containsNull = true)\n",
      " |-- brand_name: array (nullable = true)\n",
      " |    |-- element: string (containsNull = true)\n",
      " |-- generic_name: array (nullable = true)\n",
      " |    |-- element: string (containsNull = true)\n",
      " |-- op_activesubstancename: integer (nullable = true)\n",
      " |-- op_medicinalproduct: integer (nullable = true)\n",
      " |-- op_drugindication: integer (nullable = true)\n",
      "\n"
     ]
    }
   ],
   "source": [
    "data.printSchema()"
   ]
  },
  {
   "cell_type": "code",
   "execution_count": 45,
   "id": "ae2339e2-3477-4820-aa63-0773a8f17519",
   "metadata": {},
   "outputs": [],
   "source": [
    "from pyspark.sql.types import IntegerType\n",
    "data = data.withColumn(\"op_medicinalproduct\",F.col(\"op_medicinalproduct\").cast(IntegerType()))\\\n",
    "    .withColumn(\"op_activesubstancename\",F.col(\"op_activesubstancename\").cast(IntegerType()))\\\n",
    "    .withColumn(\"op_drugindication\",F.col(\"op_drugindication\").cast(IntegerType()))\\\n",
    "    .withColumn(\"seriousnessdeath\",F.col(\"seriousnessdeath\").cast(IntegerType()))\\\n",
    "    .withColumn(\"seriousnesslifethreatening\",F.col(\"seriousnesslifethreatening\").cast(IntegerType()))\\\n",
    "    .withColumn(\"seriousnesshospitalization\",F.col(\"seriousnesshospitalization\").cast(IntegerType()))\\\n",
    "    .withColumn(\"seriousnessdisabling\",F.col(\"seriousnessdisabling\").cast(IntegerType()))\\\n",
    "    .withColumn(\"seriousnesscongenitalanomali\",F.col(\"seriousnesscongenitalanomali\").cast(IntegerType()))\\\n",
    "    .withColumn(\"seriousnessother\",F.col(\"seriousnessother\").cast(IntegerType()))\\\n",
    "    .withColumn(\"patientonsetage\",F.col(\"patientonsetage\").cast(IntegerType()))"
   ]
  },
  {
   "cell_type": "code",
   "execution_count": 48,
   "id": "17b441b1-c014-4400-9385-b121cfd6bac7",
   "metadata": {},
   "outputs": [],
   "source": [
    "# data = data.drop(*[\"route\",\"brand_name\",\"generic_name\",\"reactionoutcome\",\"drugindication\",\"medicinalproduct\",\"activesubstancename\"])"
   ]
  },
  {
   "cell_type": "code",
   "execution_count": null,
   "id": "6b836ec5-7de9-40c5-aecb-a3d91e7bfd25",
   "metadata": {},
   "outputs": [],
   "source": []
  },
  {
   "cell_type": "code",
   "execution_count": 49,
   "id": "d77b29f2-c7f4-43f5-964b-9bf7c64a0f16",
   "metadata": {},
   "outputs": [],
   "source": [
    "from pyspark.ml.feature import VectorAssembler, VectorIndexer\n",
    "assembler = VectorAssembler(\n",
    "    inputCols=[\"op_activesubstancename\", \"op_medicinalproduct\", \"op_drugindication\",\"seriousnessdeath\",\"seriousnesslifethreatening\",\"seriousnesshospitalization\",\"seriousnessdisabling\",\"seriousnesscongenitalanomali\",\"seriousnessother\",\"patientonsetage\"],\n",
    "    outputCol=\"features\"\n",
    ")\n",
    "\n",
    "data = assembler.transform(data)"
   ]
  },
  {
   "cell_type": "code",
   "execution_count": 50,
   "id": "ecced2d8-afaf-41f1-b1c9-dfd21a55beca",
   "metadata": {},
   "outputs": [],
   "source": [
    "# data.select([\"op_activesubstancename\", \"op_medicinalproduct\", \"op_drugindication\",\"features\"]).show()"
   ]
  },
  {
   "cell_type": "code",
   "execution_count": 51,
   "id": "2ec18a83-9aa3-470c-80e3-3dedc278e074",
   "metadata": {},
   "outputs": [],
   "source": [
    "from pyspark.ml import Pipeline\n",
    "from pyspark.ml.classification import RandomForestClassifier\n",
    "from pyspark.ml.feature import IndexToString, StringIndexer, VectorIndexer\n",
    "from pyspark.ml.evaluation import MulticlassClassificationEvaluator\n",
    "\n",
    "# Index labels, adding metadata to the label column.\n",
    "# Fit on whole dataset to include all labels in index.\n",
    "labelIndexer = StringIndexer(inputCol=\"reactionmeddrapt\", outputCol=\"indexedLabel\").fit(data)\n",
    "# indexer_list.append(labelIndexer)\n",
    "# Automatically identify categorical features, and index them.\n",
    "# Set maxCategories so features with > 4 distinct values are treated as continuous.\n",
    "featureIndexer =\\\n",
    "    VectorIndexer(inputCol=\"features\", outputCol=\"indexedFeatures\", maxCategories=4).fit(data)\n"
   ]
  },
  {
   "cell_type": "code",
   "execution_count": 52,
   "id": "b10b2f37-9c60-45cb-af0b-239f404f7f4a",
   "metadata": {},
   "outputs": [],
   "source": [
    "# Split the data into training and test sets (30% held out for testing)\n",
    "(trainingData, testData) = data.randomSplit([0.7, 0.3])"
   ]
  },
  {
   "cell_type": "code",
   "execution_count": 53,
   "id": "b1c6bf5f-4d8a-4ac0-bcc6-8323f03c3c73",
   "metadata": {},
   "outputs": [],
   "source": [
    "# Train a RandomForest model.\n",
    "rf = RandomForestClassifier(labelCol=\"indexedLabel\", featuresCol=\"indexedFeatures\", numTrees=10)\n"
   ]
  },
  {
   "cell_type": "code",
   "execution_count": 54,
   "id": "e43aa1fc-e33b-4751-8adc-19731c71707d",
   "metadata": {},
   "outputs": [],
   "source": [
    "# Convert indexed labels back to original labels.\n",
    "labelConverter = IndexToString(inputCol=\"prediction\", outputCol=\"predictedLabel\",\n",
    "                               labels=labelIndexer.labels)"
   ]
  },
  {
   "cell_type": "code",
   "execution_count": 55,
   "id": "ff4ca536-d7b2-47ba-8e5f-1336ca5dfb39",
   "metadata": {},
   "outputs": [],
   "source": [
    "# Chain indexers and forest in a Pipeline\n",
    "pipeline = Pipeline(stages=[labelIndexer, featureIndexer, rf, labelConverter])\n",
    "# pipeline = Pipeline(stages=indexer_list)"
   ]
  },
  {
   "cell_type": "code",
   "execution_count": 56,
   "id": "f8210a97-f084-4838-87b0-10308cbf86d8",
   "metadata": {},
   "outputs": [],
   "source": [
    "# Train model.  This also runs the indexers.\n",
    "model = pipeline.fit(trainingData)\n",
    "\n",
    "# Make predictions.\n",
    "predictions = model.transform(testData)"
   ]
  },
  {
   "cell_type": "code",
   "execution_count": 57,
   "id": "6a61b3bd-8f77-4db4-a908-e6a43e376491",
   "metadata": {},
   "outputs": [
    {
     "name": "stdout",
     "output_type": "stream",
     "text": [
      "+----------------+--------------------+--------------------+\n",
      "|  predictedLabel|    reactionmeddrapt|            features|\n",
      "+----------------+--------------------+--------------------+\n",
      "|       Diarrhoea|Abdominal discomfort|[22.0,21.0,61.0,2...|\n",
      "|       Diarrhoea|Abdominal discomfort|[15.0,14.0,23.0,2...|\n",
      "|Drug ineffective|Abdominal discomfort|[28.0,28.0,3.0,2....|\n",
      "|Drug ineffective|Abdominal discomfort|[28.0,28.0,3.0,2....|\n",
      "|Drug ineffective|Abdominal discomfort|[29.0,29.0,2.0,2....|\n",
      "+----------------+--------------------+--------------------+\n",
      "only showing top 5 rows\n",
      "\n"
     ]
    }
   ],
   "source": [
    "# Select example rows to display.\n",
    "predictions.select(\"predictedLabel\", \"reactionmeddrapt\", \"features\").show(5)"
   ]
  },
  {
   "cell_type": "code",
   "execution_count": 58,
   "id": "9d8cc63d-c348-41d6-81ad-fceb68a1a0c5",
   "metadata": {},
   "outputs": [
    {
     "name": "stdout",
     "output_type": "stream",
     "text": [
      "Test Error = 0.893301\n"
     ]
    }
   ],
   "source": [
    "# Select (prediction, true label) and compute test error\n",
    "evaluator = MulticlassClassificationEvaluator(\n",
    "    labelCol=\"indexedLabel\", predictionCol=\"prediction\", metricName=\"accuracy\")\n",
    "accuracy = evaluator.evaluate(predictions)\n",
    "print(\"Test Error = %g\" % (1.0 - accuracy))"
   ]
  },
  {
   "cell_type": "code",
   "execution_count": 59,
   "id": "22cc4dfe-5b05-4aaa-b073-0226b66cab0e",
   "metadata": {},
   "outputs": [
    {
     "name": "stdout",
     "output_type": "stream",
     "text": [
      "RandomForestClassificationModel: uid=RandomForestClassifier_b99fe1917272, numTrees=10, numClasses=376, numFeatures=10\n"
     ]
    }
   ],
   "source": [
    "rfModel = model.stages[2]\n",
    "print(rfModel)  # summary only"
   ]
  },
  {
   "cell_type": "markdown",
   "id": "47b9e9ac-b7aa-41df-8fe8-af8314f06009",
   "metadata": {},
   "source": [
    "## Random Forest Predicting reactionoutcome "
   ]
  },
  {
   "cell_type": "code",
   "execution_count": null,
   "id": "67081ae3-a126-4d91-b3dc-5f6b0098504b",
   "metadata": {},
   "outputs": [],
   "source": []
  },
  {
   "cell_type": "code",
   "execution_count": 34,
   "id": "9474ff02-1cb6-4670-9240-99eb501ee8c6",
   "metadata": {},
   "outputs": [
    {
     "name": "stdout",
     "output_type": "stream",
     "text": [
      "root\n",
      " |-- reactionmeddrapt: string (nullable = true)\n",
      " |-- drugindication: string (nullable = true)\n",
      " |-- medicinalproduct: string (nullable = true)\n",
      " |-- activesubstancename: string (nullable = true)\n",
      " |-- seriousnessdeath: string (nullable = true)\n",
      " |-- seriousnesslifethreatening: string (nullable = true)\n",
      " |-- seriousnesshospitalization: string (nullable = true)\n",
      " |-- seriousnessdisabling: string (nullable = true)\n",
      " |-- seriousnesscongenitalanomali: string (nullable = true)\n",
      " |-- seriousnessother: string (nullable = true)\n",
      " |-- patientonsetage: string (nullable = true)\n",
      " |-- reactionoutcome: string (nullable = true)\n",
      " |-- route: array (nullable = true)\n",
      " |    |-- element: string (containsNull = true)\n",
      " |-- brand_name: array (nullable = true)\n",
      " |    |-- element: string (containsNull = true)\n",
      " |-- generic_name: array (nullable = true)\n",
      " |    |-- element: string (containsNull = true)\n",
      "\n"
     ]
    }
   ],
   "source": [
    "data.printSchema()"
   ]
  },
  {
   "cell_type": "code",
   "execution_count": 35,
   "id": "c4edff3a-caa5-47e9-8734-cc704848220b",
   "metadata": {},
   "outputs": [],
   "source": [
    "from pyspark.sql.types import IntegerType\n",
    "data = data.withColumn(\"op_medicinalproduct\",F.col(\"op_medicinalproduct\").cast(IntegerType()))\\\n",
    "    .withColumn(\"op_activesubstancename\",F.col(\"op_activesubstancename\").cast(IntegerType()))\\\n",
    "    .withColumn(\"op_drugindication\",F.col(\"op_drugindication\").cast(IntegerType()))\\\n",
    "    .withColumn(\"seriousnessdeath\",F.col(\"seriousnessdeath\").cast(IntegerType()))\\\n",
    "    .withColumn(\"seriousnesslifethreatening\",F.col(\"seriousnesslifethreatening\").cast(IntegerType()))\\\n",
    "    .withColumn(\"seriousnesshospitalization\",F.col(\"seriousnesshospitalization\").cast(IntegerType()))\\\n",
    "    .withColumn(\"seriousnessdisabling\",F.col(\"seriousnessdisabling\").cast(IntegerType()))\\\n",
    "    .withColumn(\"seriousnesscongenitalanomali\",F.col(\"seriousnesscongenitalanomali\").cast(IntegerType()))\\\n",
    "    .withColumn(\"seriousnessother\",F.col(\"seriousnessother\").cast(IntegerType()))\\\n",
    "    .withColumn(\"patientonsetage\",F.col(\"patientonsetage\").cast(IntegerType()))"
   ]
  },
  {
   "cell_type": "code",
   "execution_count": 36,
   "id": "674c5b2b-074c-4640-9e2f-07c8b002a635",
   "metadata": {},
   "outputs": [],
   "source": [
    "# data = data.drop(*[\"route\",\"brand_name\",\"generic_name\",\"reactionoutcome\",\"drugindication\",\"medicinalproduct\",\"activesubstancename\"])"
   ]
  },
  {
   "cell_type": "code",
   "execution_count": null,
   "id": "e98135c0-d389-4924-bd1f-5726fbd11df9",
   "metadata": {},
   "outputs": [],
   "source": []
  },
  {
   "cell_type": "code",
   "execution_count": 37,
   "id": "a09d3c14-bb48-46a2-b45e-bd57245b7a04",
   "metadata": {},
   "outputs": [],
   "source": [
    "from pyspark.ml.feature import VectorAssembler, VectorIndexer\n",
    "assembler = VectorAssembler(\n",
    "    inputCols=[\"op_activesubstancename\", \"op_medicinalproduct\", \"op_drugindication\",\"seriousnessdeath\",\"seriousnesslifethreatening\",\"seriousnesshospitalization\",\"seriousnessdisabling\",\"seriousnesscongenitalanomali\",\"seriousnessother\",\"patientonsetage\"],\n",
    "    outputCol=\"features\"\n",
    ")\n",
    "\n",
    "data = assembler.transform(data)"
   ]
  },
  {
   "cell_type": "code",
   "execution_count": 38,
   "id": "1085184a-f37a-406d-a7a6-9f7486404b87",
   "metadata": {},
   "outputs": [],
   "source": [
    "# data.select([\"op_activesubstancename\", \"op_medicinalproduct\", \"op_drugindication\",\"features\"]).show()"
   ]
  },
  {
   "cell_type": "code",
   "execution_count": 39,
   "id": "0e2d8509-1345-422e-a2f2-d9bc10bc62f1",
   "metadata": {},
   "outputs": [],
   "source": [
    "from pyspark.ml import Pipeline\n",
    "from pyspark.ml.classification import RandomForestClassifier\n",
    "from pyspark.ml.feature import IndexToString, StringIndexer, VectorIndexer\n",
    "from pyspark.ml.evaluation import MulticlassClassificationEvaluator\n",
    "\n",
    "# Index labels, adding metadata to the label column.\n",
    "# Fit on whole dataset to include all labels in index.\n",
    "# labelIndexer = StringIndexer(inputCol=\"reactionmeddrapt\", outputCol=\"indexedLabel\").fit(data)\n",
    "# indexer_list.append(labelIndexer)\n",
    "# Automatically identify categorical features, and index them.\n",
    "# Set maxCategories so features with > 4 distinct values are treated as continuous.\n",
    "featureIndexer =\\\n",
    "    VectorIndexer(inputCol=\"features\", outputCol=\"indexedFeatures\", maxCategories=4).fit(data)\n"
   ]
  },
  {
   "cell_type": "code",
   "execution_count": 40,
   "id": "c412748d-aa6c-409f-965f-97a5f2f5d0a3",
   "metadata": {},
   "outputs": [],
   "source": [
    "# Split the data into training and test sets (30% held out for testing)\n",
    "(trainingData, testData) = data.randomSplit([0.7, 0.3])"
   ]
  },
  {
   "cell_type": "code",
   "execution_count": 41,
   "id": "efb337f1-a11f-4333-8c64-62f42fa37938",
   "metadata": {},
   "outputs": [],
   "source": [
    "# Train a RandomForest model.\n",
    "rf = RandomForestClassifier(labelCol=\"reactionoutcome\", featuresCol=\"indexedFeatures\", numTrees=10)"
   ]
  },
  {
   "cell_type": "code",
   "execution_count": 49,
   "id": "e29c0fe6-7756-4ccb-9be6-fb30d63d5a88",
   "metadata": {},
   "outputs": [
    {
     "data": {
      "text/plain": [
       "13484"
      ]
     },
     "execution_count": 49,
     "metadata": {},
     "output_type": "execute_result"
    }
   ],
   "source": [
    "# trainingData.count()"
   ]
  },
  {
   "cell_type": "code",
   "execution_count": 42,
   "id": "0dbaaf8f-b865-4a3e-bc5b-026871060a54",
   "metadata": {},
   "outputs": [],
   "source": [
    "# Chain indexers and forest in a Pipeline\n",
    "pipeline = Pipeline(stages=[featureIndexer, rf])\n",
    "# pipeline = Pipeline(stages=indexer_list)"
   ]
  },
  {
   "cell_type": "code",
   "execution_count": 43,
   "id": "8b8e0ddf-7084-442e-ba33-653f0462ea1a",
   "metadata": {},
   "outputs": [],
   "source": [
    "# Train model.  This also runs the indexers.\n",
    "model = pipeline.fit(trainingData)\n",
    "\n",
    "# Make predictions.\n",
    "predictions = model.transform(testData)"
   ]
  },
  {
   "cell_type": "code",
   "execution_count": 45,
   "id": "7eba7fe3-99be-4488-9a16-50823173699a",
   "metadata": {},
   "outputs": [
    {
     "name": "stdout",
     "output_type": "stream",
     "text": [
      "+----------+---------------+--------------------+\n",
      "|prediction|reactionoutcome|            features|\n",
      "+----------+---------------+--------------------+\n",
      "|       6.0|              6|[2.0,2.0,2.0,2.0,...|\n",
      "|       6.0|              6|[2.0,2.0,2.0,2.0,...|\n",
      "|       6.0|              6|[2.0,2.0,2.0,2.0,...|\n",
      "|       6.0|              3|[2.0,2.0,2.0,2.0,...|\n",
      "|       6.0|              6|[2.0,2.0,1.0,2.0,...|\n",
      "+----------+---------------+--------------------+\n",
      "only showing top 5 rows\n",
      "\n"
     ]
    }
   ],
   "source": [
    "# Select example rows to display.\n",
    "predictions.select(\"prediction\", \"reactionoutcome\", \"features\").show(5)"
   ]
  },
  {
   "cell_type": "code",
   "execution_count": 46,
   "id": "dd86c5d9-4c1c-4f8a-9fd0-cdb00a031d9e",
   "metadata": {},
   "outputs": [
    {
     "name": "stdout",
     "output_type": "stream",
     "text": [
      "Test Error = 0.380564\n"
     ]
    }
   ],
   "source": [
    "# Select (prediction, true label) and compute test error\n",
    "evaluator = MulticlassClassificationEvaluator(\n",
    "    labelCol=\"reactionoutcome\", predictionCol=\"prediction\", metricName=\"accuracy\")\n",
    "accuracy = evaluator.evaluate(predictions)\n",
    "print(\"Test Error = %g\" % (1.0 - accuracy))"
   ]
  },
  {
   "cell_type": "code",
   "execution_count": null,
   "id": "9919f447-f032-438a-bb21-6405e148c1f7",
   "metadata": {},
   "outputs": [],
   "source": []
  },
  {
   "cell_type": "code",
   "execution_count": null,
   "id": "c82f88ee-f84a-4fed-b2e0-2b73be4b7f41",
   "metadata": {},
   "outputs": [],
   "source": []
  }
 ],
 "metadata": {
  "kernelspec": {
   "display_name": "Python 3 (ipykernel)",
   "language": "python",
   "name": "python3"
  },
  "language_info": {
   "codemirror_mode": {
    "name": "ipython",
    "version": 3
   },
   "file_extension": ".py",
   "mimetype": "text/x-python",
   "name": "python",
   "nbconvert_exporter": "python",
   "pygments_lexer": "ipython3",
   "version": "3.9.19"
  }
 },
 "nbformat": 4,
 "nbformat_minor": 5
}
